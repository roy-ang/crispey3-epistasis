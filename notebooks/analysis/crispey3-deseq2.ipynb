{
 "cells": [
  {
   "cell_type": "markdown",
   "metadata": {},
   "source": [
    "# Analyze ladder pilot counts in DESeq2"
   ]
  },
  {
   "cell_type": "code",
   "execution_count": 1,
   "metadata": {
    "scrolled": true
   },
   "outputs": [
    {
     "name": "stderr",
     "output_type": "stream",
     "text": [
      "\n",
      "Attaching package: ‘dplyr’\n",
      "\n",
      "\n",
      "The following objects are masked from ‘package:data.table’:\n",
      "\n",
      "    between, first, last\n",
      "\n",
      "\n",
      "The following objects are masked from ‘package:stats’:\n",
      "\n",
      "    filter, lag\n",
      "\n",
      "\n",
      "The following objects are masked from ‘package:base’:\n",
      "\n",
      "    intersect, setdiff, setequal, union\n",
      "\n",
      "\n",
      "Loading required package: S4Vectors\n",
      "\n",
      "Loading required package: stats4\n",
      "\n",
      "Loading required package: BiocGenerics\n",
      "\n",
      "Loading required package: parallel\n",
      "\n",
      "\n",
      "Attaching package: ‘BiocGenerics’\n",
      "\n",
      "\n",
      "The following objects are masked from ‘package:parallel’:\n",
      "\n",
      "    clusterApply, clusterApplyLB, clusterCall, clusterEvalQ,\n",
      "    clusterExport, clusterMap, parApply, parCapply, parLapply,\n",
      "    parLapplyLB, parRapply, parSapply, parSapplyLB\n",
      "\n",
      "\n",
      "The following objects are masked from ‘package:dplyr’:\n",
      "\n",
      "    combine, intersect, setdiff, union\n",
      "\n",
      "\n",
      "The following objects are masked from ‘package:stats’:\n",
      "\n",
      "    IQR, mad, sd, var, xtabs\n",
      "\n",
      "\n",
      "The following objects are masked from ‘package:base’:\n",
      "\n",
      "    anyDuplicated, append, as.data.frame, basename, cbind, colnames,\n",
      "    dirname, do.call, duplicated, eval, evalq, Filter, Find, get, grep,\n",
      "    grepl, intersect, is.unsorted, lapply, Map, mapply, match, mget,\n",
      "    order, paste, pmax, pmax.int, pmin, pmin.int, Position, rank,\n",
      "    rbind, Reduce, rownames, sapply, setdiff, sort, table, tapply,\n",
      "    union, unique, unsplit, which, which.max, which.min\n",
      "\n",
      "\n",
      "\n",
      "Attaching package: ‘S4Vectors’\n",
      "\n",
      "\n",
      "The following objects are masked from ‘package:dplyr’:\n",
      "\n",
      "    first, rename\n",
      "\n",
      "\n",
      "The following objects are masked from ‘package:data.table’:\n",
      "\n",
      "    first, second\n",
      "\n",
      "\n",
      "The following object is masked from ‘package:base’:\n",
      "\n",
      "    expand.grid\n",
      "\n",
      "\n",
      "Loading required package: IRanges\n",
      "\n",
      "\n",
      "Attaching package: ‘IRanges’\n",
      "\n",
      "\n",
      "The following objects are masked from ‘package:dplyr’:\n",
      "\n",
      "    collapse, desc, slice\n",
      "\n",
      "\n",
      "The following object is masked from ‘package:data.table’:\n",
      "\n",
      "    shift\n",
      "\n",
      "\n",
      "Loading required package: GenomicRanges\n",
      "\n",
      "Loading required package: GenomeInfoDb\n",
      "\n",
      "Loading required package: SummarizedExperiment\n",
      "\n",
      "Loading required package: Biobase\n",
      "\n",
      "Welcome to Bioconductor\n",
      "\n",
      "    Vignettes contain introductory material; view with\n",
      "    'browseVignettes()'. To cite Bioconductor, see\n",
      "    'citation(\"Biobase\")', and for packages 'citation(\"pkgname\")'.\n",
      "\n",
      "\n",
      "Loading required package: DelayedArray\n",
      "\n",
      "Loading required package: matrixStats\n",
      "\n",
      "\n",
      "Attaching package: ‘matrixStats’\n",
      "\n",
      "\n",
      "The following objects are masked from ‘package:Biobase’:\n",
      "\n",
      "    anyMissing, rowMedians\n",
      "\n",
      "\n",
      "The following object is masked from ‘package:dplyr’:\n",
      "\n",
      "    count\n",
      "\n",
      "\n",
      "Loading required package: BiocParallel\n",
      "\n",
      "\n",
      "Attaching package: ‘DelayedArray’\n",
      "\n",
      "\n",
      "The following objects are masked from ‘package:matrixStats’:\n",
      "\n",
      "    colMaxs, colMins, colRanges, rowMaxs, rowMins, rowRanges\n",
      "\n",
      "\n",
      "The following objects are masked from ‘package:base’:\n",
      "\n",
      "    aperm, apply, rowsum\n",
      "\n",
      "\n"
     ]
    }
   ],
   "source": [
    "library(\"data.table\")\n",
    "library(\"dplyr\")\n",
    "library(\"DESeq2\")\n",
    "# for parallelization\n",
    "library(\"BiocParallel\")\n",
    "register(MulticoreParam(8))\n",
    "\n",
    "setwd(\"/home/users/rang/crispey3/ladder_pilot_feb2021/\")"
   ]
  },
  {
   "cell_type": "markdown",
   "metadata": {},
   "source": [
    "## Setup path to files"
   ]
  },
  {
   "cell_type": "code",
   "execution_count": 2,
   "metadata": {
    "scrolled": true
   },
   "outputs": [
    {
     "name": "stderr",
     "output_type": "stream",
     "text": [
      "Warning message in dir.create(\"./deseq/\"):\n",
      "“'./deseq' already exists”\n"
     ]
    },
    {
     "name": "stdout",
     "output_type": "stream",
     "text": [
      "[1] \"Input files:\"\n",
      "[1] \"./ladder_pilot_samples.txt\"\n",
      "[1] \"./counts/pbc_counts.txt\"\n",
      "[1] \"Output files:\"\n",
      "[1] \"./deseq/ladder_pilot_deseq_results.txt\"\n"
     ]
    }
   ],
   "source": [
    "# samples info file\n",
    "samples_info_file = \"./ladder_pilot_samples.txt\"\n",
    "# counts file\n",
    "counts_file = \"./counts/pbc_counts.txt\"\n",
    "\n",
    "# output directory\n",
    "dir.create(\"./deseq/\")\n",
    "# deseq results file\n",
    "deseq_output_file= \"./deseq/ladder_pilot_deseq_results.txt\"\n",
    "\n",
    "print(\"Input files:\")\n",
    "print(samples_info_file)\n",
    "print(counts_file)\n",
    "print(\"Output files:\")\n",
    "print(deseq_output_file)\n"
   ]
  },
  {
   "cell_type": "markdown",
   "metadata": {},
   "source": [
    "## Load samples info, barcode counts"
   ]
  },
  {
   "cell_type": "code",
   "execution_count": 3,
   "metadata": {
    "scrolled": true
   },
   "outputs": [
    {
     "name": "stderr",
     "output_type": "stream",
     "text": [
      "  the design formula contains one or more numeric variables that have mean or\n",
      "  standard deviation larger than 5 (an arbitrary threshold to trigger this message).\n",
      "  it is generally a good idea to center and scale numeric variables in the design\n",
      "  to improve GLM convergence.\n",
      "\n"
     ]
    },
    {
     "data": {
      "text/plain": [
       "class: DESeqDataSet \n",
       "dim: 42 42 \n",
       "metadata(1): version\n",
       "assays(1): counts\n",
       "rownames(42): AAGAACAAATGC ACGACTAAGTTG ... TTGCCATTGTCC TTTGCGGTGCCT\n",
       "rowData names(0):\n",
       "colnames(42): t0-1 t0-2 ... t6-5 t6-6\n",
       "colData names(2): gen rep"
      ]
     },
     "metadata": {},
     "output_type": "display_data"
    }
   ],
   "source": [
    "# loading samples\n",
    "samples <- read.table(file = samples_info_file, header = TRUE, sep = '\\t', row.names = 1)\n",
    "samples$rep = factor(samples$rep)\n",
    "\n",
    "# loading counts\n",
    "counts <- fread(counts_file, header=TRUE, sep = '\\t', na.strings=\"\", data.table=TRUE)\n",
    "colnames(counts) <- c('barcode', rownames(samples))\n",
    "\n",
    "# store in DESeqDataSet\n",
    "dds <- DESeqDataSetFromMatrix(countData = as.matrix(counts, rownames = 1),\n",
    "                              colData = samples,\n",
    "                              design= ~gen+rep)\n",
    "\n",
    "# DDS overview\n",
    "dds"
   ]
  },
  {
   "cell_type": "markdown",
   "metadata": {},
   "source": [
    "## Filter by total read count"
   ]
  },
  {
   "cell_type": "code",
   "execution_count": 4,
   "metadata": {},
   "outputs": [],
   "source": [
    "# filter barcodes that do not meet minimum read cutoff\n",
    "total_reads_cutoff = 1000\n",
    "\n",
    "keep <- rowSums(counts(dds)) >= total_reads_cutoff\n",
    "dds <- dds[keep,]\n"
   ]
  },
  {
   "cell_type": "markdown",
   "metadata": {},
   "source": [
    "## run DESeq in default settings, compare to limma results"
   ]
  },
  {
   "cell_type": "code",
   "execution_count": 5,
   "metadata": {
    "scrolled": true
   },
   "outputs": [
    {
     "name": "stderr",
     "output_type": "stream",
     "text": [
      "estimating size factors\n",
      "\n",
      "estimating dispersions\n",
      "\n",
      "gene-wise dispersion estimates\n",
      "\n",
      "mean-dispersion relationship\n",
      "\n",
      "final dispersion estimates\n",
      "\n",
      "fitting model and testing\n",
      "\n"
     ]
    },
    {
     "name": "stdout",
     "output_type": "stream",
     "text": [
      "\n",
      "out of 42 with nonzero total read count\n",
      "adjusted p-value < 0.1\n",
      "LFC > 0 (up)       : 19, 45%\n",
      "LFC < 0 (down)     : 20, 48%\n",
      "outliers [1]       : 0, 0%\n",
      "low counts [2]     : 0, 0%\n",
      "(mean count < 24)\n",
      "[1] see 'cooksCutoff' argument of ?results\n",
      "[2] see 'independentFiltering' argument of ?results\n",
      "\n"
     ]
    },
    {
     "data": {
      "image/png": "[encoded data removed]",
      "text/plain": [
       "plot without title"
      ]
     },
     "metadata": {
      "image/png": {
       "height": 420,
       "width": 420
      },
      "text/plain": {
       "height": 420,
       "width": 420
      }
     },
     "output_type": "display_data"
    }
   ],
   "source": [
    "dds <- DESeq(dds)\n",
    "res <- results(dds, name='gen')\n",
    "summary(res)\n",
    "\n",
    "# compare with limma\n",
    "limma_results_file = './limma/ladder_pilot_limma_results.txt'\n",
    "limma_results = read.table(file = limma_results_file, header = TRUE, sep = '\\t', row.names = 1)\n",
    "\n",
    "# log2FoldChange vs logFC\n",
    "viz <- cbind(res, limma_results[rownames(res),])\n",
    "plot(viz$log2FoldChange,viz$logFC)\n",
    "lines(viz$log2FoldChange, viz$log2FoldChange, type = \"l\")"
   ]
  },
  {
   "cell_type": "markdown",
   "metadata": {},
   "source": [
    "## Break down DESeq function steps to select specific control genes"
   ]
  },
  {
   "cell_type": "code",
   "execution_count": 6,
   "metadata": {},
   "outputs": [
    {
     "data": {
      "text/html": [
       "<style>\n",
       ".list-inline {list-style: none; margin:0; padding: 0}\n",
       ".list-inline>li {display: inline-block}\n",
       ".list-inline>li:not(:last-child)::after {content: \"\\00b7\"; padding: 0 .5ex}\n",
       "</style>\n",
       "<ol class=list-inline><li>'ACTAATGCCCGC'</li><li>'CTAACAAGGCAC'</li></ol>\n"
      ],
      "text/latex": [
       "\\begin{enumerate*}\n",
       "\\item 'ACTAATGCCCGC'\n",
       "\\item 'CTAACAAGGCAC'\n",
       "\\end{enumerate*}\n"
      ],
      "text/markdown": [
       "1. 'ACTAATGCCCGC'\n",
       "2. 'CTAACAAGGCAC'\n",
       "\n",
       "\n"
      ],
      "text/plain": [
       "[1] \"ACTAATGCCCGC\" \"CTAACAAGGCAC\""
      ]
     },
     "metadata": {},
     "output_type": "display_data"
    }
   ],
   "source": [
    "ladder_oligos_annotation_file <- 'ladder_oligos_annotated.txt'\n",
    "ladder_oligos_annotation <- fread(file = ladder_oligos_annotation_file, header = TRUE, sep = '\\t', data.table=FALSE)\n",
    "\n",
    "# get neutral PBCs\n",
    "neutral_pbc = as.vector(ladder_oligos_annotation[ladder_oligos_annotation$breslow_growth_rate==1,'PBC'])\n",
    "neutral_pbc"
   ]
  },
  {
   "cell_type": "code",
   "execution_count": 7,
   "metadata": {},
   "outputs": [
    {
     "name": "stderr",
     "output_type": "stream",
     "text": [
      "  the design formula contains one or more numeric variables that have mean or\n",
      "  standard deviation larger than 5 (an arbitrary threshold to trigger this message).\n",
      "  it is generally a good idea to center and scale numeric variables in the design\n",
      "  to improve GLM convergence.\n",
      "\n",
      "gene-wise dispersion estimates\n",
      "\n",
      "mean-dispersion relationship\n",
      "\n",
      "final dispersion estimates\n",
      "\n"
     ]
    }
   ],
   "source": [
    "# re-run DESeq\n",
    "dds <- DESeqDataSetFromMatrix(countData = as.matrix(counts, rownames = 1),\n",
    "                              colData = samples,\n",
    "                              design= ~gen+rep)\n",
    "\n",
    "# filter barcodes that do not meet minimum read cutoff\n",
    "total_reads_cutoff = 1000\n",
    "\n",
    "keep <- rowSums(counts(dds)) >= total_reads_cutoff\n",
    "dds <- dds[keep,]\n",
    "\n",
    "# estimate size factors, specifying neutral oligos as control genes\n",
    "dds <- estimateSizeFactors(dds, controlGenes=grep(paste(neutral_pbc, collapse=\"|\"), rownames(dds)))\n",
    "# estimate dispersion\n",
    "dds <- estimateDispersions(dds)\n",
    "# calculate logFC\n",
    "dds <- nbinomWaldTest(dds)\n"
   ]
  },
  {
   "cell_type": "markdown",
   "metadata": {},
   "source": [
    "## Compare DESeq log2FoldChange to limma logFC_adj (adjusted by mean logFC of neutral PBCs)"
   ]
  },
  {
   "cell_type": "code",
   "execution_count": 8,
   "metadata": {
    "scrolled": true
   },
   "outputs": [
    {
     "name": "stdout",
     "output_type": "stream",
     "text": [
      "\n",
      "out of 42 with nonzero total read count\n",
      "adjusted p-value < 0.05\n",
      "LFC > 0 (up)       : 6, 14%\n",
      "LFC < 0 (down)     : 27, 64%\n",
      "outliers [1]       : 0, 0%\n",
      "low counts [2]     : 0, 0%\n",
      "(mean count < 25)\n",
      "[1] see 'cooksCutoff' argument of ?results\n",
      "[2] see 'independentFiltering' argument of ?results\n",
      "\n"
     ]
    },
    {
     "data": {
      "image/png": "[encoded data removed]",
      "text/plain": [
       "plot without title"
      ]
     },
     "metadata": {
      "image/png": {
       "height": 420,
       "width": 420
      },
      "text/plain": {
       "height": 420,
       "width": 420
      }
     },
     "output_type": "display_data"
    },
    {
     "data": {
      "image/png": "[encoded data removed]",
      "text/plain": [
       "plot without title"
      ]
     },
     "metadata": {
      "image/png": {
       "height": 420,
       "width": 420
      },
      "text/plain": {
       "height": 420,
       "width": 420
      }
     },
     "output_type": "display_data"
    }
   ],
   "source": [
    "res <- results(dds, name='gen', alpha=0.05)\n",
    "summary(res)\n",
    "\n",
    "# compare with limma (annotated)\n",
    "limma_results_annotated_file <- 'ladder_pilot_limma_results_annotated.txt'\n",
    "limma_results_annotated <- read.table(file = limma_results_annotated_file, header = TRUE, sep = '\\t', row.names = 1)\n",
    "rownames(limma_results_annotated) = limma_results_annotated$PBC\n",
    "\n",
    "# log2FoldChange vs logFC_adj\n",
    "viz <- cbind(res, limma_results_annotated[rownames(res),])\n",
    "plot(viz$log2FoldChange,viz$logFC_adj)\n",
    "lines(viz$log2FoldChange, viz$log2FoldChange, type = \"l\")\n",
    "\n",
    "# breslow_growth_rate vs log2FoldChange->fitness (1+lfc)\n",
    "plot(viz$breslow_growth_rate, 1+viz$log2FoldChange)\n",
    "abline(h=1)\n",
    "abline(v=1)\n",
    "lines(viz$breslow_growth_rate, viz$breslow_growth_rate, type = \"l\")\n",
    "\n",
    "# # log2FoldChange->fitness vs crispey_fitness\n",
    "# plot(2**viz$log2FoldChange,viz$crispey_fitness)\n",
    "# lines(2**viz$log2FoldChange, 2**viz$log2FoldChange, type = \"l\")\n",
    "\n",
    "# # breslow_growth_rate vs crispey_fitness\n",
    "# plot(viz$breslow_growth_rate, viz$crispey_fitness)\n",
    "# abline(h=1)\n",
    "# abline(v=1)"
   ]
  },
  {
   "cell_type": "code",
   "execution_count": 9,
   "metadata": {},
   "outputs": [
    {
     "data": {
      "text/plain": [
       "log2 fold change (MLE): gen \n",
       "Wald test p-value: gen \n",
       "DataFrame with 42 rows and 6 columns\n",
       "                     baseMean        log2FoldChange                lfcSE\n",
       "                    <numeric>             <numeric>            <numeric>\n",
       "ACGACTAAGTTG 539.968068467321   -0.0784772369752048  0.00139785218575982\n",
       "AGTCGCATTGAG 108.515841207367    -0.120334202498369  0.00317586117979901\n",
       "TTGATCATTCCG  1090.0114004851   -0.0675860490070871  0.00120126593502445\n",
       "GTGAACGTAGGT 287.103753739882   -0.0545140914995989  0.00162417818467037\n",
       "ACTTGCGTAACG 1411.71024344234   -0.0571381308187614  0.00178308682928824\n",
       "...                       ...                   ...                  ...\n",
       "CAACCGTGGGCT 1247.34305657988 -0.000862772874532913 0.000914732777283884\n",
       "ACTAATGCCCGC 2563.27700844269 -0.000524256952131522 0.000563237610086975\n",
       "CTAACAAGGCAC 2252.87063621369  0.000508828238459423 0.000590810115556007\n",
       "CGCAGTCGTCAA 756.260013512404 -0.000238096306581364  0.00103510981364633\n",
       "GAGCAACCAGTA 2415.37495924278   0.00016756024910097 0.000797203847757011\n",
       "                           stat                pvalue                  padj\n",
       "                      <numeric>             <numeric>             <numeric>\n",
       "ACGACTAAGTTG  -56.1412986113031                     0                     0\n",
       "AGTCGCATTGAG  -37.8902589520567                     0                     0\n",
       "TTGATCATTCCG  -56.2623537690775                     0                     0\n",
       "GTGAACGTAGGT   -33.564107690969 5.60534772952688e-247 5.88561511600322e-246\n",
       "ACTTGCGTAACG  -32.0445027579333 2.61870240366356e-225 2.19971001907739e-224\n",
       "...                         ...                   ...                   ...\n",
       "CAACCGTGGGCT -0.943196631801852     0.345580335901742     0.379035213045008\n",
       "ACTAATGCCCGC -0.930791805700912     0.351961269256079     0.379035213045008\n",
       "CTAACAAGGCAC  0.861238196608346     0.389106866791877     0.408562210131471\n",
       "CGCAGTCGTCAA -0.230020335468208     0.818075967931554     0.833523327110891\n",
       "GAGCAACCAGTA  0.210184947767641     0.833523327110891     0.833523327110891"
      ]
     },
     "metadata": {},
     "output_type": "display_data"
    }
   ],
   "source": [
    "# view table of results sorted by pvalue\n",
    "resOrdered <- res[order(res$pvalue),]\n",
    "resOrdered\n",
    "\n",
    "# export results to file\n",
    "write.csv(as.data.frame(resOrdered), file=deseq_output_file)"
   ]
  },
  {
   "cell_type": "markdown",
   "metadata": {},
   "source": [
    "### We can prototype a GxG/GxE analysis workflow in DESeq2 by modifying the sample info table to create two pseudo conditions between rep123 and rep456 (called \"cond\"), and fitting a new design with gen*cond and rep*cond interaction terms..."
   ]
  },
  {
   "cell_type": "code",
   "execution_count": 10,
   "metadata": {},
   "outputs": [],
   "source": [
    "samples_pseudocond_file <- \"./ladder_pilot_samples_pseudoConditions.txt\"\n",
    "# loading samples\n",
    "samples_pseudocond <- read.table(file = samples_pseudocond_file, header = TRUE, sep = '\\t', row.names = 1)\n",
    "samples_pseudocond$rep = factor(samples_pseudocond$rep)"
   ]
  },
  {
   "cell_type": "code",
   "execution_count": 11,
   "metadata": {},
   "outputs": [
    {
     "name": "stderr",
     "output_type": "stream",
     "text": [
      "  the design formula contains one or more numeric variables that have mean or\n",
      "  standard deviation larger than 5 (an arbitrary threshold to trigger this message).\n",
      "  it is generally a good idea to center and scale numeric variables in the design\n",
      "  to improve GLM convergence.\n",
      "\n",
      "gene-wise dispersion estimates\n",
      "\n",
      "mean-dispersion relationship\n",
      "\n",
      "final dispersion estimates\n",
      "\n"
     ]
    }
   ],
   "source": [
    "# re-run DESeq\n",
    "dds2 <- DESeqDataSetFromMatrix(countData = as.matrix(counts, rownames = 1),\n",
    "                                         colData = samples_pseudocond,\n",
    "                                         design= ~gen+rep+cond+gen:cond+rep:cond)\n",
    "\n",
    "# filter barcodes that do not meet minimum read cutoff\n",
    "total_reads_cutoff = 1000\n",
    "\n",
    "keep <- rowSums(counts(dds2)) >= total_reads_cutoff\n",
    "dds2 <- dds2[keep,]\n",
    "\n",
    "# estimate size factors, specifying neutral oligos as control genes\n",
    "dds2 <- estimateSizeFactors(dds2, controlGenes=grep(paste(neutral_pbc, collapse=\"|\"), rownames(dds2)))\n",
    "# estimate dispersion\n",
    "dds2 <- estimateDispersions(dds2)\n",
    "# calculate logFC\n",
    "dds2 <- nbinomWaldTest(dds2)\n"
   ]
  },
  {
   "cell_type": "code",
   "execution_count": 12,
   "metadata": {},
   "outputs": [
    {
     "data": {
      "text/html": [
       "<style>\n",
       ".list-inline {list-style: none; margin:0; padding: 0}\n",
       ".list-inline>li {display: inline-block}\n",
       ".list-inline>li:not(:last-child)::after {content: \"\\00b7\"; padding: 0 .5ex}\n",
       "</style>\n",
       "<ol class=list-inline><li>'Intercept'</li><li>'gen'</li><li>'rep_2_vs_1'</li><li>'rep_3_vs_1'</li><li>'cond_B_vs_A'</li><li>'gen.condB'</li><li>'rep2.condB'</li><li>'rep3.condB'</li></ol>\n"
      ],
      "text/latex": [
       "\\begin{enumerate*}\n",
       "\\item 'Intercept'\n",
       "\\item 'gen'\n",
       "\\item 'rep\\_2\\_vs\\_1'\n",
       "\\item 'rep\\_3\\_vs\\_1'\n",
       "\\item 'cond\\_B\\_vs\\_A'\n",
       "\\item 'gen.condB'\n",
       "\\item 'rep2.condB'\n",
       "\\item 'rep3.condB'\n",
       "\\end{enumerate*}\n"
      ],
      "text/markdown": [
       "1. 'Intercept'\n",
       "2. 'gen'\n",
       "3. 'rep_2_vs_1'\n",
       "4. 'rep_3_vs_1'\n",
       "5. 'cond_B_vs_A'\n",
       "6. 'gen.condB'\n",
       "7. 'rep2.condB'\n",
       "8. 'rep3.condB'\n",
       "\n",
       "\n"
      ],
      "text/plain": [
       "[1] \"Intercept\"   \"gen\"         \"rep_2_vs_1\"  \"rep_3_vs_1\"  \"cond_B_vs_A\"\n",
       "[6] \"gen.condB\"   \"rep2.condB\"  \"rep3.condB\" "
      ]
     },
     "metadata": {},
     "output_type": "display_data"
    }
   ],
   "source": [
    "resultsNames(dds2)"
   ]
  },
  {
   "cell_type": "code",
   "execution_count": 13,
   "metadata": {},
   "outputs": [
    {
     "name": "stdout",
     "output_type": "stream",
     "text": [
      "\n",
      "out of 42 with nonzero total read count\n",
      "adjusted p-value < 0.1\n",
      "LFC > 0 (up)       : 5, 12%\n",
      "LFC < 0 (down)     : 28, 67%\n",
      "outliers [1]       : 0, 0%\n",
      "low counts [2]     : 0, 0%\n",
      "(mean count < 25)\n",
      "[1] see 'cooksCutoff' argument of ?results\n",
      "[2] see 'independentFiltering' argument of ?results\n",
      "\n",
      "\n",
      "out of 42 with nonzero total read count\n",
      "adjusted p-value < 0.1\n",
      "LFC > 0 (up)       : 6, 14%\n",
      "LFC < 0 (down)     : 26, 62%\n",
      "outliers [1]       : 0, 0%\n",
      "low counts [2]     : 0, 0%\n",
      "(mean count < 25)\n",
      "[1] see 'cooksCutoff' argument of ?results\n",
      "[2] see 'independentFiltering' argument of ?results\n",
      "\n",
      "\n",
      "out of 42 with nonzero total read count\n",
      "adjusted p-value < 0.1\n",
      "LFC > 0 (up)       : 0, 0%\n",
      "LFC < 0 (down)     : 0, 0%\n",
      "outliers [1]       : 0, 0%\n",
      "low counts [2]     : 0, 0%\n",
      "(mean count < 25)\n",
      "[1] see 'cooksCutoff' argument of ?results\n",
      "[2] see 'independentFiltering' argument of ?results\n",
      "\n"
     ]
    }
   ],
   "source": [
    "# fitness in cond A (rep123)\n",
    "res2 <- results(dds2, name='gen')\n",
    "summary(res2)\n",
    "\n",
    "# fitness in cond B (rep456)\n",
    "res3 <- results(dds2, contrast=list( c(\"gen\",\"gen.condB\") ))\n",
    "summary(res3)\n",
    "\n",
    "# identify significant changes in fitness between conditions\n",
    "res4 <- results(dds2, name='gen.condB')\n",
    "summary(res4)\n",
    "\n",
    "# when comparing across multiple conds (e.g. GxG comparing between non-reference strains), use list to compare interaction terms directly\n",
    "# e.g. results(dds2, contrast=list(\"gen.condC\", \"gen.condB\")) "
   ]
  },
  {
   "cell_type": "code",
   "execution_count": 14,
   "metadata": {},
   "outputs": [
    {
     "data": {
      "image/png": "[encoded data removed]",
      "text/plain": [
       "plot without title"
      ]
     },
     "metadata": {
      "image/png": {
       "height": 420,
       "width": 420
      },
      "text/plain": {
       "height": 420,
       "width": 420
      }
     },
     "output_type": "display_data"
    }
   ],
   "source": [
    "# log2FoldChange rep123 vs rep456\n",
    "\n",
    "viz <- cbind(res2, res3[rownames(res2),])\n",
    "colnames(viz) <- c(paste0(colnames(res2), \"_123\"), paste0(colnames(res3), \"_456\"))\n",
    "plot(viz$log2FoldChange_123,viz$log2FoldChange_456)\n",
    "abline(a=0,b=1)\n",
    "abline(h=0)\n",
    "abline(v=0)\n"
   ]
  },
  {
   "cell_type": "markdown",
   "metadata": {},
   "source": [
    "# Repeat analysis at UMI level"
   ]
  },
  {
   "cell_type": "code",
   "execution_count": 15,
   "metadata": {
    "scrolled": true
   },
   "outputs": [
    {
     "name": "stderr",
     "output_type": "stream",
     "text": [
      "Warning message in dir.create(\"./deseq/\"):\n",
      "“'./deseq' already exists”\n"
     ]
    },
    {
     "name": "stdout",
     "output_type": "stream",
     "text": [
      "[1] \"Input files:\"\n",
      "[1] \"./ladder_pilot_samples.txt\"\n",
      "[1] \"./counts/umi_counts.txt\"\n",
      "[1] \"Output files:\"\n",
      "[1] \"./deseq/ladder_pilot_deseq_umi_results.txt\"\n"
     ]
    }
   ],
   "source": [
    "# samples info file\n",
    "samples_info_file = \"./ladder_pilot_samples.txt\"\n",
    "# counts file\n",
    "counts_file = \"./counts/umi_counts.txt\"\n",
    "\n",
    "# output directory\n",
    "dir.create(\"./deseq/\")\n",
    "# deseq results file\n",
    "deseq_output_file= \"./deseq/ladder_pilot_deseq_umi_results.txt\"\n",
    "\n",
    "print(\"Input files:\")\n",
    "print(samples_info_file)\n",
    "print(counts_file)\n",
    "print(\"Output files:\")\n",
    "print(deseq_output_file)\n"
   ]
  },
  {
   "cell_type": "markdown",
   "metadata": {},
   "source": [
    "## Load samples info, barcode counts"
   ]
  },
  {
   "cell_type": "code",
   "execution_count": 16,
   "metadata": {
    "scrolled": true
   },
   "outputs": [
    {
     "name": "stderr",
     "output_type": "stream",
     "text": [
      "  the design formula contains one or more numeric variables that have mean or\n",
      "  standard deviation larger than 5 (an arbitrary threshold to trigger this message).\n",
      "  it is generally a good idea to center and scale numeric variables in the design\n",
      "  to improve GLM convergence.\n",
      "\n"
     ]
    },
    {
     "data": {
      "text/plain": [
       "class: DESeqDataSet \n",
       "dim: 649 42 \n",
       "metadata(1): version\n",
       "assays(1): counts\n",
       "rownames(649): AAGAACAAATGC_AAGAGCCTC AAGAACAAATGC_AAGAGGAGG ...\n",
       "  TTTGCGGTGCCT_TCGCGGTAA TTTGCGGTGCCT_TTGTGCGTC\n",
       "rowData names(0):\n",
       "colnames(42): t0-1 t0-2 ... t6-5 t6-6\n",
       "colData names(2): gen rep"
      ]
     },
     "metadata": {},
     "output_type": "display_data"
    }
   ],
   "source": [
    "# loading samples\n",
    "samples <- read.table(file = samples_info_file, header = TRUE, sep = '\\t', row.names = 1)\n",
    "samples$rep = factor(samples$rep)\n",
    "\n",
    "# loading counts\n",
    "counts <- fread(counts_file, header=TRUE, sep = '\\t', na.strings=\"\", data.table=TRUE)\n",
    "counts <- cbind(paste(counts$PBC, counts$UMI, sep='_'), counts)[,-c('PBC', 'UMI')]\n",
    "colnames(counts) <- c('barcode', rownames(samples))\n",
    "\n",
    "# store in DESeqDataSet\n",
    "dds3 <- DESeqDataSetFromMatrix(countData = as.matrix(counts, rownames = 1),\n",
    "                               colData = samples,\n",
    "                               design= ~gen+rep)\n",
    "\n",
    "# DDS overview\n",
    "dds3"
   ]
  },
  {
   "cell_type": "markdown",
   "metadata": {},
   "source": [
    "## Filter by total read count"
   ]
  },
  {
   "cell_type": "code",
   "execution_count": 17,
   "metadata": {},
   "outputs": [],
   "source": [
    "# filter barcodes that do not meet minimum read cutoff\n",
    "total_reads_cutoff = 1000\n",
    "\n",
    "keep <- rowSums(counts(dds3)) >= total_reads_cutoff\n",
    "dds3 <- dds3[keep,]\n"
   ]
  },
  {
   "cell_type": "markdown",
   "metadata": {},
   "source": [
    "## run DESeq in default settings, compare to limma (UMI) results"
   ]
  },
  {
   "cell_type": "code",
   "execution_count": 18,
   "metadata": {
    "scrolled": true
   },
   "outputs": [
    {
     "name": "stderr",
     "output_type": "stream",
     "text": [
      "estimating size factors\n",
      "\n",
      "estimating dispersions\n",
      "\n",
      "gene-wise dispersion estimates\n",
      "\n",
      "mean-dispersion relationship\n",
      "\n",
      "final dispersion estimates\n",
      "\n",
      "fitting model and testing\n",
      "\n"
     ]
    },
    {
     "name": "stdout",
     "output_type": "stream",
     "text": [
      "\n",
      "out of 375 with nonzero total read count\n",
      "adjusted p-value < 0.1\n",
      "LFC > 0 (up)       : 146, 39%\n",
      "LFC < 0 (down)     : 153, 41%\n",
      "outliers [1]       : 0, 0%\n",
      "low counts [2]     : 0, 0%\n",
      "(mean count < 24)\n",
      "[1] see 'cooksCutoff' argument of ?results\n",
      "[2] see 'independentFiltering' argument of ?results\n",
      "\n"
     ]
    },
    {
     "data": {
      "image/png": "[encoded data removed]",
      "text/plain": [
       "plot without title"
      ]
     },
     "metadata": {
      "image/png": {
       "height": 420,
       "width": 420
      },
      "text/plain": {
       "height": 420,
       "width": 420
      }
     },
     "output_type": "display_data"
    }
   ],
   "source": [
    "dds3 <- DESeq(dds3)\n",
    "res <- results(dds3, name='gen')\n",
    "summary(res)\n",
    "\n",
    "# compare with limma\n",
    "limma_umi_results_file = './limma/ladder_pilot_limma_umi_res.txt'\n",
    "limma_umi_results = read.table(file = limma_umi_results_file, header = TRUE, sep = '\\t', row.names = 1)\n",
    "\n",
    "# log2FoldChange vs logFC\n",
    "viz <- cbind(res, limma_umi_results[rownames(res),])\n",
    "plot(viz$log2FoldChange,viz$logFC)\n",
    "abline(a=0, b=1)"
   ]
  },
  {
   "cell_type": "markdown",
   "metadata": {},
   "source": [
    "## Break down DESeq function steps to select specific control genes"
   ]
  },
  {
   "cell_type": "code",
   "execution_count": 19,
   "metadata": {},
   "outputs": [
    {
     "data": {
      "text/html": [
       "<style>\n",
       ".list-inline {list-style: none; margin:0; padding: 0}\n",
       ".list-inline>li {display: inline-block}\n",
       ".list-inline>li:not(:last-child)::after {content: \"\\00b7\"; padding: 0 .5ex}\n",
       "</style>\n",
       "<ol class=list-inline><li>'ACTAATGCCCGC'</li><li>'CTAACAAGGCAC'</li></ol>\n"
      ],
      "text/latex": [
       "\\begin{enumerate*}\n",
       "\\item 'ACTAATGCCCGC'\n",
       "\\item 'CTAACAAGGCAC'\n",
       "\\end{enumerate*}\n"
      ],
      "text/markdown": [
       "1. 'ACTAATGCCCGC'\n",
       "2. 'CTAACAAGGCAC'\n",
       "\n",
       "\n"
      ],
      "text/plain": [
       "[1] \"ACTAATGCCCGC\" \"CTAACAAGGCAC\""
      ]
     },
     "metadata": {},
     "output_type": "display_data"
    }
   ],
   "source": [
    "# get neutral PBCs\n",
    "neutral_pbc"
   ]
  },
  {
   "cell_type": "code",
   "execution_count": 20,
   "metadata": {},
   "outputs": [
    {
     "name": "stderr",
     "output_type": "stream",
     "text": [
      "  the design formula contains one or more numeric variables that have mean or\n",
      "  standard deviation larger than 5 (an arbitrary threshold to trigger this message).\n",
      "  it is generally a good idea to center and scale numeric variables in the design\n",
      "  to improve GLM convergence.\n",
      "\n",
      "gene-wise dispersion estimates\n",
      "\n",
      "mean-dispersion relationship\n",
      "\n",
      "final dispersion estimates\n",
      "\n"
     ]
    }
   ],
   "source": [
    "# re-run DESeq\n",
    "dds3 <- DESeqDataSetFromMatrix(countData = as.matrix(counts, rownames = 1),\n",
    "                              colData = samples,\n",
    "                              design= ~gen+rep)\n",
    "\n",
    "# filter barcodes that do not meet minimum read cutoff\n",
    "total_reads_cutoff = 1000\n",
    "\n",
    "keep <- rowSums(counts(dds3)) >= total_reads_cutoff\n",
    "dds3 <- dds3[keep,]\n",
    "\n",
    "# estimate size factors, specifying neutral oligos as control genes\n",
    "dds3 <- estimateSizeFactors(dds3, controlGenes=grep(paste(neutral_pbc, collapse=\"|\"), rownames(dds3)))\n",
    "# estimate dispersion\n",
    "dds3 <- estimateDispersions(dds3)\n",
    "# calculate logFC\n",
    "dds3 <- nbinomWaldTest(dds3)\n"
   ]
  },
  {
   "cell_type": "markdown",
   "metadata": {},
   "source": [
    "## Compare DESeq log2FoldChange to limma logFC_adj (adjusted by mean logFC of neutral PBCs)"
   ]
  },
  {
   "cell_type": "code",
   "execution_count": 21,
   "metadata": {
    "scrolled": true
   },
   "outputs": [
    {
     "name": "stdout",
     "output_type": "stream",
     "text": [
      "\n",
      "out of 375 with nonzero total read count\n",
      "adjusted p-value < 0.1\n",
      "LFC > 0 (up)       : 103, 27%\n",
      "LFC < 0 (down)     : 220, 59%\n",
      "outliers [1]       : 0, 0%\n",
      "low counts [2]     : 0, 0%\n",
      "(mean count < 24)\n",
      "[1] see 'cooksCutoff' argument of ?results\n",
      "[2] see 'independentFiltering' argument of ?results\n",
      "\n"
     ]
    },
    {
     "data": {
      "image/png": "[encoded data removed]",
      "text/plain": [
       "plot without title"
      ]
     },
     "metadata": {
      "image/png": {
       "height": 420,
       "width": 420
      },
      "text/plain": {
       "height": 420,
       "width": 420
      }
     },
     "output_type": "display_data"
    },
    {
     "data": {
      "image/png": "[encoded data removed]",
      "text/plain": [
       "plot without title"
      ]
     },
     "metadata": {
      "image/png": {
       "height": 420,
       "width": 420
      },
      "text/plain": {
       "height": 420,
       "width": 420
      }
     },
     "output_type": "display_data"
    }
   ],
   "source": [
    "res <- results(dds3, name='gen')\n",
    "summary(res)\n",
    "\n",
    "# compare with limma (annotated)\n",
    "limma_results_annotated_file <- 'ladder_pilot_limma_umi_res_annotated.txt'\n",
    "limma_results_annotated <- read.table(file = limma_results_annotated_file, header = TRUE, sep = '\\t', row.names = 1)\n",
    "rownames(limma_results_annotated) = limma_results_annotated$barcode\n",
    "\n",
    "# log2FoldChange vs logFC_adj\n",
    "viz <- cbind(res, limma_results_annotated[rownames(res),])\n",
    "plot(viz$log2FoldChange,viz$logFC_adj)\n",
    "lines(viz$log2FoldChange, viz$log2FoldChange, type = \"l\")\n",
    "\n",
    "# breslow_growth_rate vs log2FoldChange->fitness\n",
    "plot(viz$breslow_growth_rate, 1+viz$log2FoldChange)\n",
    "abline(h=1)\n",
    "abline(v=1)\n",
    "\n",
    "# # log2FoldChange->fitness vs crispey_fitness\n",
    "# plot(2**viz$log2FoldChange,viz$crispey_fitness)\n",
    "# lines(2**viz$log2FoldChange, 2**viz$log2FoldChange, type = \"l\")\n",
    "\n",
    "# # breslow_growth_rate vs crispey_fitness\n",
    "# plot(viz$breslow_growth_rate, viz$crispey_fitness)\n",
    "# abline(h=1)\n",
    "# abline(v=1)"
   ]
  },
  {
   "cell_type": "code",
   "execution_count": 22,
   "metadata": {},
   "outputs": [
    {
     "data": {
      "text/plain": [
       "log2 fold change (MLE): gen \n",
       "Wald test p-value: gen \n",
       "DataFrame with 375 rows and 6 columns\n",
       "                               baseMean        log2FoldChange\n",
       "                              <numeric>             <numeric>\n",
       "TTGATCATTCCG_CTGTGTATC 132.329797128302   -0.0692697310876828\n",
       "TTGATCATTCCG_CTGTGGCAA 94.1405948354354   -0.0693886808682907\n",
       "TTGATCATTCCG_ATGTGCGAA 69.7587839236088   -0.0763514063957872\n",
       "TTGATCATTCCG_TAGAGGACT 72.5075318526651   -0.0719680375128362\n",
       "ACTTGCGTAACG_TAGAGGACT  119.34979065554   -0.0604840296326462\n",
       "...                                 ...                   ...\n",
       "CTAACAAGGCAC_AAGAGGAGG 77.5908711851806 -0.000612984953962452\n",
       "ACTAATGCCCGC_ATGTGTAGG 112.072740228771 -0.000364860242078877\n",
       "GTAATTGGGCTG_GTGTGATTC  85.545483489023   0.00034060587456819\n",
       "CACTGCTGAGCC_CAGAGCCAA 76.1087865847804 -0.000325807013999338\n",
       "GTAATTGGGCTG_TTGTGCGTC 70.9850163320809  7.40223327139205e-05\n",
       "                                     lfcSE               stat\n",
       "                                 <numeric>          <numeric>\n",
       "TTGATCATTCCG_CTGTGTATC 0.00256194584678797  -27.0379372673039\n",
       "TTGATCATTCCG_CTGTGGCAA 0.00315116847204299  -22.0199844863592\n",
       "TTGATCATTCCG_ATGTGCGAA 0.00349266505385041  -21.8605005686461\n",
       "TTGATCATTCCG_TAGAGGACT 0.00334120072067929  -21.5395732041518\n",
       "ACTTGCGTAACG_TAGAGGACT 0.00285460195066455  -21.1882534510864\n",
       "...                                    ...                ...\n",
       "CTAACAAGGCAC_AAGAGGAGG 0.00304142161973052 -0.201545537121803\n",
       "ACTAATGCCCGC_ATGTGTAGG 0.00251961250904131 -0.144808076944222\n",
       "GTAATTGGGCTG_GTGTGATTC 0.00296800221325071  0.114759306124351\n",
       "CACTGCTGAGCC_CAGAGCCAA 0.00302115684966103 -0.107841807033585\n",
       "GTAATTGGGCTG_TTGTGCGTC 0.00324564980150374 0.0228066295629384\n",
       "                                      pvalue                  padj\n",
       "                                   <numeric>             <numeric>\n",
       "TTGATCATTCCG_CTGTGTATC 5.29508256254933e-161   1.985655960956e-158\n",
       "TTGATCATTCCG_CTGTGGCAA 1.85327239901322e-107 3.47488574814978e-105\n",
       "TTGATCATTCCG_ATGTGCGAA 6.17632129321097e-106 7.72040161651372e-104\n",
       "TTGATCATTCCG_TAGAGGACT 6.63149694780989e-103 6.21702838857177e-101\n",
       "ACTTGCGTAACG_TAGAGGACT  1.22559760438418e-99  9.19198203288133e-98\n",
       "...                                      ...                   ...\n",
       "CTAACAAGGCAC_AAGAGGAGG     0.840272026399717     0.849331563072491\n",
       "ACTAATGCCCGC_ATGTGTAGG     0.884862404967933     0.891998392104771\n",
       "GTAATTGGGCTG_GTGTGATTC     0.908635904895886     0.913507947281387\n",
       "CACTGCTGAGCC_CAGAGCCAA     0.914121179036433     0.916565353311931\n",
       "GTAATTGGGCTG_TTGTGCGTC     0.981804519774767     0.981804519774767"
      ]
     },
     "metadata": {},
     "output_type": "display_data"
    }
   ],
   "source": [
    "# view table of results sorted by pvalue\n",
    "resOrdered <- res[order(res$pvalue),]\n",
    "resOrdered\n",
    "\n",
    "# export results to file\n",
    "write.csv(as.data.frame(resOrdered), file=deseq_output_file)"
   ]
  },
  {
   "cell_type": "markdown",
   "metadata": {},
   "source": [
    "### We can prototype a GxG/GxE analysis workflow in DESeq2 by modifying the sample info table to create two pseudo conditions between rep123 and rep456 (called \"cond\"), and fitting a new design with gen*cond and rep*cond interaction terms..."
   ]
  },
  {
   "cell_type": "code",
   "execution_count": 23,
   "metadata": {},
   "outputs": [],
   "source": [
    "samples_pseudocond_file <- \"./ladder_pilot_samples_pseudoConditions.txt\"\n",
    "# loading samples\n",
    "samples_pseudocond <- read.table(file = samples_pseudocond_file, header = TRUE, sep = '\\t', row.names = 1)\n",
    "samples_pseudocond$rep = factor(samples_pseudocond$rep)"
   ]
  },
  {
   "cell_type": "code",
   "execution_count": 24,
   "metadata": {},
   "outputs": [
    {
     "name": "stderr",
     "output_type": "stream",
     "text": [
      "  the design formula contains one or more numeric variables that have mean or\n",
      "  standard deviation larger than 5 (an arbitrary threshold to trigger this message).\n",
      "  it is generally a good idea to center and scale numeric variables in the design\n",
      "  to improve GLM convergence.\n",
      "\n",
      "gene-wise dispersion estimates\n",
      "\n",
      "mean-dispersion relationship\n",
      "\n",
      "final dispersion estimates\n",
      "\n"
     ]
    }
   ],
   "source": [
    "# re-run DESeq\n",
    "dds4 <- DESeqDataSetFromMatrix(countData = as.matrix(counts, rownames = 1),\n",
    "                                         colData = samples_pseudocond,\n",
    "                                         design= ~gen+rep+cond+gen:cond+rep:cond)\n",
    "\n",
    "# filter barcodes that do not meet minimum read cutoff\n",
    "total_reads_cutoff = 1000\n",
    "\n",
    "keep <- rowSums(counts(dds4)) >= total_reads_cutoff\n",
    "dds4 <- dds4[keep,]\n",
    "\n",
    "# estimate size factors, specifying neutral oligos as control genes\n",
    "dds4 <- estimateSizeFactors(dds4, controlGenes=grep(paste(neutral_pbc, collapse=\"|\"), rownames(dds4)))\n",
    "# estimate dispersion\n",
    "dds4 <- estimateDispersions(dds4)\n",
    "# calculate logFC\n",
    "dds4 <- nbinomWaldTest(dds4)\n"
   ]
  },
  {
   "cell_type": "code",
   "execution_count": 25,
   "metadata": {},
   "outputs": [
    {
     "data": {
      "text/html": [
       "<style>\n",
       ".list-inline {list-style: none; margin:0; padding: 0}\n",
       ".list-inline>li {display: inline-block}\n",
       ".list-inline>li:not(:last-child)::after {content: \"\\00b7\"; padding: 0 .5ex}\n",
       "</style>\n",
       "<ol class=list-inline><li>'Intercept'</li><li>'gen'</li><li>'rep_2_vs_1'</li><li>'rep_3_vs_1'</li><li>'cond_B_vs_A'</li><li>'gen.condB'</li><li>'rep2.condB'</li><li>'rep3.condB'</li></ol>\n"
      ],
      "text/latex": [
       "\\begin{enumerate*}\n",
       "\\item 'Intercept'\n",
       "\\item 'gen'\n",
       "\\item 'rep\\_2\\_vs\\_1'\n",
       "\\item 'rep\\_3\\_vs\\_1'\n",
       "\\item 'cond\\_B\\_vs\\_A'\n",
       "\\item 'gen.condB'\n",
       "\\item 'rep2.condB'\n",
       "\\item 'rep3.condB'\n",
       "\\end{enumerate*}\n"
      ],
      "text/markdown": [
       "1. 'Intercept'\n",
       "2. 'gen'\n",
       "3. 'rep_2_vs_1'\n",
       "4. 'rep_3_vs_1'\n",
       "5. 'cond_B_vs_A'\n",
       "6. 'gen.condB'\n",
       "7. 'rep2.condB'\n",
       "8. 'rep3.condB'\n",
       "\n",
       "\n"
      ],
      "text/plain": [
       "[1] \"Intercept\"   \"gen\"         \"rep_2_vs_1\"  \"rep_3_vs_1\"  \"cond_B_vs_A\"\n",
       "[6] \"gen.condB\"   \"rep2.condB\"  \"rep3.condB\" "
      ]
     },
     "metadata": {},
     "output_type": "display_data"
    }
   ],
   "source": [
    "resultsNames(dds4)"
   ]
  },
  {
   "cell_type": "code",
   "execution_count": 26,
   "metadata": {},
   "outputs": [
    {
     "name": "stdout",
     "output_type": "stream",
     "text": [
      "\n",
      "out of 375 with nonzero total read count\n",
      "adjusted p-value < 0.1\n",
      "LFC > 0 (up)       : 91, 24%\n",
      "LFC < 0 (down)     : 195, 52%\n",
      "outliers [1]       : 0, 0%\n",
      "low counts [2]     : 0, 0%\n",
      "(mean count < 24)\n",
      "[1] see 'cooksCutoff' argument of ?results\n",
      "[2] see 'independentFiltering' argument of ?results\n",
      "\n",
      "\n",
      "out of 375 with nonzero total read count\n",
      "adjusted p-value < 0.1\n",
      "LFC > 0 (up)       : 90, 24%\n",
      "LFC < 0 (down)     : 208, 55%\n",
      "outliers [1]       : 0, 0%\n",
      "low counts [2]     : 0, 0%\n",
      "(mean count < 24)\n",
      "[1] see 'cooksCutoff' argument of ?results\n",
      "[2] see 'independentFiltering' argument of ?results\n",
      "\n",
      "\n",
      "out of 375 with nonzero total read count\n",
      "adjusted p-value < 0.1\n",
      "LFC > 0 (up)       : 0, 0%\n",
      "LFC < 0 (down)     : 0, 0%\n",
      "outliers [1]       : 0, 0%\n",
      "low counts [2]     : 0, 0%\n",
      "(mean count < 24)\n",
      "[1] see 'cooksCutoff' argument of ?results\n",
      "[2] see 'independentFiltering' argument of ?results\n",
      "\n"
     ]
    }
   ],
   "source": [
    "# fitness in cond A (rep123)\n",
    "res2 <- results(dds4, name='gen')\n",
    "summary(res2)\n",
    "\n",
    "# fitness in cond B (rep456)\n",
    "res3 <- results(dds4, contrast=list( c(\"gen\",\"gen.condB\") ))\n",
    "summary(res3)\n",
    "\n",
    "# identify significant changes in fitness between conditions\n",
    "res4 <- results(dds4, name='gen.condB')\n",
    "summary(res4)\n",
    "\n",
    "# when comparing across multiple conds (e.g. GxG comparing between non-reference strains), use list to compare interaction terms directly\n",
    "# e.g. results(dds4, contrast=list(\"gen.condC\", \"gen.condB\")) "
   ]
  },
  {
   "cell_type": "code",
   "execution_count": 27,
   "metadata": {},
   "outputs": [
    {
     "data": {
      "text/html": [
       "0.968053285096961"
      ],
      "text/latex": [
       "0.968053285096961"
      ],
      "text/markdown": [
       "0.968053285096961"
      ],
      "text/plain": [
       "[1] 0.9680533"
      ]
     },
     "metadata": {},
     "output_type": "display_data"
    },
    {
     "data": {
      "image/png": "[encoded data removed]",
      "text/plain": [
       "plot without title"
      ]
     },
     "metadata": {
      "image/png": {
       "height": 420,
       "width": 420
      },
      "text/plain": {
       "height": 420,
       "width": 420
      }
     },
     "output_type": "display_data"
    }
   ],
   "source": [
    "# log2FoldChange (rep123) vs log2FoldChange (rep456)\n",
    "viz <- cbind(res2, res3[rownames(res2),])\n",
    "colnames(viz) <- c(paste0(colnames(res2), \"_123\"), paste0(colnames(res3), \"_456\"))\n",
    "plot(viz$log2FoldChange_123,viz$log2FoldChange_456)\n",
    "abline(a=0,b=1)\n",
    "abline(h=0)\n",
    "abline(v=0)\n",
    "cor(viz$log2FoldChange_123,viz$log2FoldChange_456)"
   ]
  },
  {
   "cell_type": "markdown",
   "metadata": {},
   "source": [
    "# Compare PBC results and UMI results"
   ]
  },
  {
   "cell_type": "code",
   "execution_count": 87,
   "metadata": {},
   "outputs": [],
   "source": [
    "res_pbc = results(dds, name='gen')\n",
    "res_pbc$PBC = rownames(res_pbc)\n",
    "res_pbc$logP_sign = -log10(res_pbc$padj)*sign(res_pbc$log2FoldChange)\n",
    "\n",
    "res_umi = results(dds3, name='gen')\n",
    "res_umi$PBC = sapply(strsplit(rownames(res_umi), '_'), `[`, 1)\n",
    "res_umi$UMI = sapply(strsplit(rownames(res_umi), '_'), `[`, 2)\n",
    "res_umi$logP_sign = -log10(res_umi$padj)*sign(res_umi$log2FoldChange)\n",
    "\n",
    "df = merge(x=as.data.frame(res_umi), y=as.data.frame(res_pbc), by='PBC', all.x=TRUE, suffixes = c(\"_umi\",\"_pbc\"))\n"
   ]
  },
  {
   "cell_type": "code",
   "execution_count": 88,
   "metadata": {},
   "outputs": [
    {
     "data": {
      "image/png": "[encoded data removed]",
      "text/plain": [
       "plot without title"
      ]
     },
     "metadata": {
      "image/png": {
       "height": 420,
       "width": 420
      },
      "text/plain": {
       "height": 420,
       "width": 420
      }
     },
     "output_type": "display_data"
    }
   ],
   "source": [
    "viz <- df %>% \n",
    "        group_by(PBC) %>%\n",
    "        summarize(logFC_umi_mean=mean(log2FoldChange_umi), logFC_pbc=mean(log2FoldChange_pbc))\n",
    "\n",
    "plot(viz$logFC_umi_mean, viz$logFC_pbc)\n",
    "abline(0,1)"
   ]
  },
  {
   "cell_type": "code",
   "execution_count": 109,
   "metadata": {
    "scrolled": true
   },
   "outputs": [
    {
     "data": {
      "text/html": [
       "<table>\n",
       "<caption>A tibble: 35 × 5</caption>\n",
       "<thead>\n",
       "\t<tr><th scope=col>PBC</th><th scope=col>n_umi</th><th scope=col>n_umi_agree</th><th scope=col>pbc_logP_sign</th><th scope=col>umi_agree_frac</th></tr>\n",
       "\t<tr><th scope=col>&lt;chr&gt;</th><th scope=col>&lt;int&gt;</th><th scope=col>&lt;int&gt;</th><th scope=col>&lt;dbl&gt;</th><th scope=col>&lt;dbl&gt;</th></tr>\n",
       "</thead>\n",
       "<tbody>\n",
       "\t<tr><td>ACGACTAAGTTG</td><td>13</td><td>13</td><td>         -Inf</td><td>1.0000000</td></tr>\n",
       "\t<tr><td>TTGATCATTCCG</td><td>16</td><td>16</td><td>         -Inf</td><td>1.0000000</td></tr>\n",
       "\t<tr><td>GTGAACGTAGGT</td><td> 3</td><td> 2</td><td>-245.23020814</td><td>0.6666667</td></tr>\n",
       "\t<tr><td>ACTTGCGTAACG</td><td>16</td><td>16</td><td>-223.65763457</td><td>1.0000000</td></tr>\n",
       "\t<tr><td>TACTTCGCACTC</td><td> 1</td><td> 1</td><td>-178.83696834</td><td>1.0000000</td></tr>\n",
       "\t<tr><td>GGTATTAAGGGA</td><td>16</td><td>15</td><td> -95.57369327</td><td>0.9375000</td></tr>\n",
       "\t<tr><td>AGGAAATAGACT</td><td>12</td><td>10</td><td> -94.76156926</td><td>0.8333333</td></tr>\n",
       "\t<tr><td>GGTCTCTGTCGG</td><td> 6</td><td> 5</td><td> -48.89546975</td><td>0.8333333</td></tr>\n",
       "\t<tr><td>GTCTCCAAGCGC</td><td>10</td><td> 8</td><td> -47.05455322</td><td>0.8000000</td></tr>\n",
       "\t<tr><td>GGCCATACCGAG</td><td>13</td><td>11</td><td> -44.60495028</td><td>0.8461538</td></tr>\n",
       "\t<tr><td>GCAACATAAGGG</td><td> 3</td><td> 3</td><td> -35.69824611</td><td>1.0000000</td></tr>\n",
       "\t<tr><td>CGACCTGTTACT</td><td> 1</td><td> 0</td><td> -29.74652923</td><td>0.0000000</td></tr>\n",
       "\t<tr><td>GTGTATTCTTGC</td><td>13</td><td> 8</td><td> -28.15171743</td><td>0.6153846</td></tr>\n",
       "\t<tr><td>GGTCGAGCTCAC</td><td> 8</td><td> 4</td><td> -15.18984716</td><td>0.5000000</td></tr>\n",
       "\t<tr><td>ACTCAAGACAGT</td><td>15</td><td>13</td><td> -14.48422770</td><td>0.8666667</td></tr>\n",
       "\t<tr><td>TCCCTGGTTGAG</td><td>16</td><td> 8</td><td>  -9.01761469</td><td>0.5000000</td></tr>\n",
       "\t<tr><td>AAGAACAAATGC</td><td> 7</td><td> 3</td><td>  -7.71479839</td><td>0.4285714</td></tr>\n",
       "\t<tr><td>GGCCTTGCAAAC</td><td> 9</td><td> 5</td><td>  -5.25636772</td><td>0.5555556</td></tr>\n",
       "\t<tr><td>TGAAGTCCTTTA</td><td>16</td><td> 6</td><td>  -1.90135481</td><td>0.3750000</td></tr>\n",
       "\t<tr><td>CACTGCTGAGCC</td><td>12</td><td> 4</td><td>  -1.49265067</td><td>0.3333333</td></tr>\n",
       "\t<tr><td>TAATAAGTATTC</td><td>12</td><td> 6</td><td>  -1.16678417</td><td>0.5000000</td></tr>\n",
       "\t<tr><td>TTGAGAATAGCA</td><td>11</td><td> 6</td><td>  -0.90306615</td><td>0.5454545</td></tr>\n",
       "\t<tr><td>GTAATTGGGCTG</td><td>14</td><td> 4</td><td>  -0.87085912</td><td>0.2857143</td></tr>\n",
       "\t<tr><td>GTACTGTACCTC</td><td> 8</td><td> 4</td><td>  -0.59389109</td><td>0.5000000</td></tr>\n",
       "\t<tr><td>ACTAATGCCCGC</td><td>16</td><td> 6</td><td>  -0.42132044</td><td>0.3750000</td></tr>\n",
       "\t<tr><td>CAACCGTGGGCT</td><td>15</td><td> 9</td><td>  -0.42132044</td><td>0.6000000</td></tr>\n",
       "\t<tr><td>CGCAGTCGTCAA</td><td>13</td><td> 6</td><td>  -0.07908224</td><td>0.4615385</td></tr>\n",
       "\t<tr><td>GAGCAACCAGTA</td><td>16</td><td> 4</td><td>   0.07908224</td><td>0.2500000</td></tr>\n",
       "\t<tr><td>CTAACAAGGCAC</td><td>16</td><td> 7</td><td>   0.38874181</td><td>0.4375000</td></tr>\n",
       "\t<tr><td>TAAACACATTAA</td><td> 1</td><td> 1</td><td>   3.66256090</td><td>1.0000000</td></tr>\n",
       "\t<tr><td>GGTTCCCGTTGA</td><td> 3</td><td> 3</td><td>   5.80991900</td><td>1.0000000</td></tr>\n",
       "\t<tr><td>CCAGGCAGCGAC</td><td>16</td><td>15</td><td>  47.79057387</td><td>0.9375000</td></tr>\n",
       "\t<tr><td>GGAGATCCTAGA</td><td>12</td><td> 8</td><td>  55.36294456</td><td>0.6666667</td></tr>\n",
       "\t<tr><td>TTGCCATTGTCC</td><td> 6</td><td> 6</td><td>  72.30710576</td><td>1.0000000</td></tr>\n",
       "\t<tr><td>CCATCCGCGGGT</td><td>10</td><td> 8</td><td>  83.99977291</td><td>0.8000000</td></tr>\n",
       "</tbody>\n",
       "</table>\n"
      ],
      "text/latex": [
       "A tibble: 35 × 5\n",
       "\\begin{tabular}{lllll}\n",
       " PBC & n\\_umi & n\\_umi\\_agree & pbc\\_logP\\_sign & umi\\_agree\\_frac\\\\\n",
       " <chr> & <int> & <int> & <dbl> & <dbl>\\\\\n",
       "\\hline\n",
       "\t ACGACTAAGTTG & 13 & 13 &          -Inf & 1.0000000\\\\\n",
       "\t TTGATCATTCCG & 16 & 16 &          -Inf & 1.0000000\\\\\n",
       "\t GTGAACGTAGGT &  3 &  2 & -245.23020814 & 0.6666667\\\\\n",
       "\t ACTTGCGTAACG & 16 & 16 & -223.65763457 & 1.0000000\\\\\n",
       "\t TACTTCGCACTC &  1 &  1 & -178.83696834 & 1.0000000\\\\\n",
       "\t GGTATTAAGGGA & 16 & 15 &  -95.57369327 & 0.9375000\\\\\n",
       "\t AGGAAATAGACT & 12 & 10 &  -94.76156926 & 0.8333333\\\\\n",
       "\t GGTCTCTGTCGG &  6 &  5 &  -48.89546975 & 0.8333333\\\\\n",
       "\t GTCTCCAAGCGC & 10 &  8 &  -47.05455322 & 0.8000000\\\\\n",
       "\t GGCCATACCGAG & 13 & 11 &  -44.60495028 & 0.8461538\\\\\n",
       "\t GCAACATAAGGG &  3 &  3 &  -35.69824611 & 1.0000000\\\\\n",
       "\t CGACCTGTTACT &  1 &  0 &  -29.74652923 & 0.0000000\\\\\n",
       "\t GTGTATTCTTGC & 13 &  8 &  -28.15171743 & 0.6153846\\\\\n",
       "\t GGTCGAGCTCAC &  8 &  4 &  -15.18984716 & 0.5000000\\\\\n",
       "\t ACTCAAGACAGT & 15 & 13 &  -14.48422770 & 0.8666667\\\\\n",
       "\t TCCCTGGTTGAG & 16 &  8 &   -9.01761469 & 0.5000000\\\\\n",
       "\t AAGAACAAATGC &  7 &  3 &   -7.71479839 & 0.4285714\\\\\n",
       "\t GGCCTTGCAAAC &  9 &  5 &   -5.25636772 & 0.5555556\\\\\n",
       "\t TGAAGTCCTTTA & 16 &  6 &   -1.90135481 & 0.3750000\\\\\n",
       "\t CACTGCTGAGCC & 12 &  4 &   -1.49265067 & 0.3333333\\\\\n",
       "\t TAATAAGTATTC & 12 &  6 &   -1.16678417 & 0.5000000\\\\\n",
       "\t TTGAGAATAGCA & 11 &  6 &   -0.90306615 & 0.5454545\\\\\n",
       "\t GTAATTGGGCTG & 14 &  4 &   -0.87085912 & 0.2857143\\\\\n",
       "\t GTACTGTACCTC &  8 &  4 &   -0.59389109 & 0.5000000\\\\\n",
       "\t ACTAATGCCCGC & 16 &  6 &   -0.42132044 & 0.3750000\\\\\n",
       "\t CAACCGTGGGCT & 15 &  9 &   -0.42132044 & 0.6000000\\\\\n",
       "\t CGCAGTCGTCAA & 13 &  6 &   -0.07908224 & 0.4615385\\\\\n",
       "\t GAGCAACCAGTA & 16 &  4 &    0.07908224 & 0.2500000\\\\\n",
       "\t CTAACAAGGCAC & 16 &  7 &    0.38874181 & 0.4375000\\\\\n",
       "\t TAAACACATTAA &  1 &  1 &    3.66256090 & 1.0000000\\\\\n",
       "\t GGTTCCCGTTGA &  3 &  3 &    5.80991900 & 1.0000000\\\\\n",
       "\t CCAGGCAGCGAC & 16 & 15 &   47.79057387 & 0.9375000\\\\\n",
       "\t GGAGATCCTAGA & 12 &  8 &   55.36294456 & 0.6666667\\\\\n",
       "\t TTGCCATTGTCC &  6 &  6 &   72.30710576 & 1.0000000\\\\\n",
       "\t CCATCCGCGGGT & 10 &  8 &   83.99977291 & 0.8000000\\\\\n",
       "\\end{tabular}\n"
      ],
      "text/markdown": [
       "\n",
       "A tibble: 35 × 5\n",
       "\n",
       "| PBC &lt;chr&gt; | n_umi &lt;int&gt; | n_umi_agree &lt;int&gt; | pbc_logP_sign &lt;dbl&gt; | umi_agree_frac &lt;dbl&gt; |\n",
       "|---|---|---|---|---|\n",
       "| ACGACTAAGTTG | 13 | 13 |          -Inf | 1.0000000 |\n",
       "| TTGATCATTCCG | 16 | 16 |          -Inf | 1.0000000 |\n",
       "| GTGAACGTAGGT |  3 |  2 | -245.23020814 | 0.6666667 |\n",
       "| ACTTGCGTAACG | 16 | 16 | -223.65763457 | 1.0000000 |\n",
       "| TACTTCGCACTC |  1 |  1 | -178.83696834 | 1.0000000 |\n",
       "| GGTATTAAGGGA | 16 | 15 |  -95.57369327 | 0.9375000 |\n",
       "| AGGAAATAGACT | 12 | 10 |  -94.76156926 | 0.8333333 |\n",
       "| GGTCTCTGTCGG |  6 |  5 |  -48.89546975 | 0.8333333 |\n",
       "| GTCTCCAAGCGC | 10 |  8 |  -47.05455322 | 0.8000000 |\n",
       "| GGCCATACCGAG | 13 | 11 |  -44.60495028 | 0.8461538 |\n",
       "| GCAACATAAGGG |  3 |  3 |  -35.69824611 | 1.0000000 |\n",
       "| CGACCTGTTACT |  1 |  0 |  -29.74652923 | 0.0000000 |\n",
       "| GTGTATTCTTGC | 13 |  8 |  -28.15171743 | 0.6153846 |\n",
       "| GGTCGAGCTCAC |  8 |  4 |  -15.18984716 | 0.5000000 |\n",
       "| ACTCAAGACAGT | 15 | 13 |  -14.48422770 | 0.8666667 |\n",
       "| TCCCTGGTTGAG | 16 |  8 |   -9.01761469 | 0.5000000 |\n",
       "| AAGAACAAATGC |  7 |  3 |   -7.71479839 | 0.4285714 |\n",
       "| GGCCTTGCAAAC |  9 |  5 |   -5.25636772 | 0.5555556 |\n",
       "| TGAAGTCCTTTA | 16 |  6 |   -1.90135481 | 0.3750000 |\n",
       "| CACTGCTGAGCC | 12 |  4 |   -1.49265067 | 0.3333333 |\n",
       "| TAATAAGTATTC | 12 |  6 |   -1.16678417 | 0.5000000 |\n",
       "| TTGAGAATAGCA | 11 |  6 |   -0.90306615 | 0.5454545 |\n",
       "| GTAATTGGGCTG | 14 |  4 |   -0.87085912 | 0.2857143 |\n",
       "| GTACTGTACCTC |  8 |  4 |   -0.59389109 | 0.5000000 |\n",
       "| ACTAATGCCCGC | 16 |  6 |   -0.42132044 | 0.3750000 |\n",
       "| CAACCGTGGGCT | 15 |  9 |   -0.42132044 | 0.6000000 |\n",
       "| CGCAGTCGTCAA | 13 |  6 |   -0.07908224 | 0.4615385 |\n",
       "| GAGCAACCAGTA | 16 |  4 |    0.07908224 | 0.2500000 |\n",
       "| CTAACAAGGCAC | 16 |  7 |    0.38874181 | 0.4375000 |\n",
       "| TAAACACATTAA |  1 |  1 |    3.66256090 | 1.0000000 |\n",
       "| GGTTCCCGTTGA |  3 |  3 |    5.80991900 | 1.0000000 |\n",
       "| CCAGGCAGCGAC | 16 | 15 |   47.79057387 | 0.9375000 |\n",
       "| GGAGATCCTAGA | 12 |  8 |   55.36294456 | 0.6666667 |\n",
       "| TTGCCATTGTCC |  6 |  6 |   72.30710576 | 1.0000000 |\n",
       "| CCATCCGCGGGT | 10 |  8 |   83.99977291 | 0.8000000 |\n",
       "\n"
      ],
      "text/plain": [
       "   PBC          n_umi n_umi_agree pbc_logP_sign umi_agree_frac\n",
       "1  ACGACTAAGTTG 13    13                   -Inf 1.0000000     \n",
       "2  TTGATCATTCCG 16    16                   -Inf 1.0000000     \n",
       "3  GTGAACGTAGGT  3     2          -245.23020814 0.6666667     \n",
       "4  ACTTGCGTAACG 16    16          -223.65763457 1.0000000     \n",
       "5  TACTTCGCACTC  1     1          -178.83696834 1.0000000     \n",
       "6  GGTATTAAGGGA 16    15           -95.57369327 0.9375000     \n",
       "7  AGGAAATAGACT 12    10           -94.76156926 0.8333333     \n",
       "8  GGTCTCTGTCGG  6     5           -48.89546975 0.8333333     \n",
       "9  GTCTCCAAGCGC 10     8           -47.05455322 0.8000000     \n",
       "10 GGCCATACCGAG 13    11           -44.60495028 0.8461538     \n",
       "11 GCAACATAAGGG  3     3           -35.69824611 1.0000000     \n",
       "12 CGACCTGTTACT  1     0           -29.74652923 0.0000000     \n",
       "13 GTGTATTCTTGC 13     8           -28.15171743 0.6153846     \n",
       "14 GGTCGAGCTCAC  8     4           -15.18984716 0.5000000     \n",
       "15 ACTCAAGACAGT 15    13           -14.48422770 0.8666667     \n",
       "16 TCCCTGGTTGAG 16     8            -9.01761469 0.5000000     \n",
       "17 AAGAACAAATGC  7     3            -7.71479839 0.4285714     \n",
       "18 GGCCTTGCAAAC  9     5            -5.25636772 0.5555556     \n",
       "19 TGAAGTCCTTTA 16     6            -1.90135481 0.3750000     \n",
       "20 CACTGCTGAGCC 12     4            -1.49265067 0.3333333     \n",
       "21 TAATAAGTATTC 12     6            -1.16678417 0.5000000     \n",
       "22 TTGAGAATAGCA 11     6            -0.90306615 0.5454545     \n",
       "23 GTAATTGGGCTG 14     4            -0.87085912 0.2857143     \n",
       "24 GTACTGTACCTC  8     4            -0.59389109 0.5000000     \n",
       "25 ACTAATGCCCGC 16     6            -0.42132044 0.3750000     \n",
       "26 CAACCGTGGGCT 15     9            -0.42132044 0.6000000     \n",
       "27 CGCAGTCGTCAA 13     6            -0.07908224 0.4615385     \n",
       "28 GAGCAACCAGTA 16     4             0.07908224 0.2500000     \n",
       "29 CTAACAAGGCAC 16     7             0.38874181 0.4375000     \n",
       "30 TAAACACATTAA  1     1             3.66256090 1.0000000     \n",
       "31 GGTTCCCGTTGA  3     3             5.80991900 1.0000000     \n",
       "32 CCAGGCAGCGAC 16    15            47.79057387 0.9375000     \n",
       "33 GGAGATCCTAGA 12     8            55.36294456 0.6666667     \n",
       "34 TTGCCATTGTCC  6     6            72.30710576 1.0000000     \n",
       "35 CCATCCGCGGGT 10     8            83.99977291 0.8000000     "
      ]
     },
     "metadata": {},
     "output_type": "display_data"
    },
    {
     "data": {
      "image/png": "[encoded data removed]",
      "text/plain": [
       "plot without title"
      ]
     },
     "metadata": {
      "image/png": {
       "height": 420,
       "width": 420
      },
      "text/plain": {
       "height": 420,
       "width": 420
      }
     },
     "output_type": "display_data"
    }
   ],
   "source": [
    "df$agreement = abs(df$logP_sign_umi)>2 & (sign(df$logP_sign_umi)==sign(df$logP_sign_pbc))\n",
    "viz <- df %>% \n",
    "       group_by(PBC) %>%\n",
    "       summarize(n_umi=n(), n_umi_agree=sum(agreement), pbc_logP_sign=mean(logP_sign_pbc))\n",
    "\n",
    "viz$umi_agree_frac = viz$n_umi_agree/viz$n_umi\n",
    "viz[order(viz$pbc_logP_sign),]\n",
    "\n",
    "plot(viz$umi_agree_frac, abs(viz$pbc_logP_sign), )"
   ]
  },
  {
   "cell_type": "code",
   "execution_count": 116,
   "metadata": {},
   "outputs": [
    {
     "data": {
      "text/html": [
       "<table>\n",
       "<caption>A data.frame: 16 × 17</caption>\n",
       "<thead>\n",
       "\t<tr><th></th><th scope=col>PBC</th><th scope=col>baseMean_umi</th><th scope=col>log2FoldChange_umi</th><th scope=col>lfcSE_umi</th><th scope=col>stat_umi</th><th scope=col>pvalue_umi</th><th scope=col>padj_umi</th><th scope=col>UMI</th><th scope=col>logP_sign_umi</th><th scope=col>baseMean_pbc</th><th scope=col>log2FoldChange_pbc</th><th scope=col>lfcSE_pbc</th><th scope=col>stat_pbc</th><th scope=col>pvalue_pbc</th><th scope=col>padj_pbc</th><th scope=col>logP_sign_pbc</th><th scope=col>agreement</th></tr>\n",
       "\t<tr><th></th><th scope=col>&lt;chr&gt;</th><th scope=col>&lt;dbl&gt;</th><th scope=col>&lt;dbl&gt;</th><th scope=col>&lt;dbl&gt;</th><th scope=col>&lt;dbl&gt;</th><th scope=col>&lt;dbl&gt;</th><th scope=col>&lt;dbl&gt;</th><th scope=col>&lt;chr&gt;</th><th scope=col>&lt;dbl&gt;</th><th scope=col>&lt;dbl&gt;</th><th scope=col>&lt;dbl&gt;</th><th scope=col>&lt;dbl&gt;</th><th scope=col>&lt;dbl&gt;</th><th scope=col>&lt;dbl&gt;</th><th scope=col>&lt;dbl&gt;</th><th scope=col>&lt;dbl&gt;</th><th scope=col>&lt;lgl&gt;</th></tr>\n",
       "</thead>\n",
       "<tbody>\n",
       "\t<tr><th scope=row>21</th><td>ACTAATGCCCGC</td><td>115.30547</td><td>-0.0136024034</td><td>0.002616059</td><td>-5.1995783</td><td>1.997412e-07</td><td>4.161275e-07</td><td>AAGAGCCTC</td><td>-6.38077358</td><td>2563.277</td><td>-0.000524257</td><td>0.0005632376</td><td>-0.9307918</td><td>0.3519613</td><td>0.3790352</td><td>-0.4213204</td><td> TRUE</td></tr>\n",
       "\t<tr><th scope=row>22</th><td>ACTAATGCCCGC</td><td> 53.18865</td><td>-0.0122275487</td><td>0.003647070</td><td>-3.3527049</td><td>8.002598e-04</td><td>1.136733e-03</td><td>AAGAGGAGG</td><td>-2.94434168</td><td>2563.277</td><td>-0.000524257</td><td>0.0005632376</td><td>-0.9307918</td><td>0.3519613</td><td>0.3790352</td><td>-0.4213204</td><td> TRUE</td></tr>\n",
       "\t<tr><th scope=row>23</th><td>ACTAATGCCCGC</td><td> 73.03359</td><td> 0.0006795967</td><td>0.003159476</td><td> 0.2150980</td><td>8.296910e-01</td><td>8.409030e-01</td><td>ACGCGTGAA</td><td> 0.07525410</td><td>2563.277</td><td>-0.000524257</td><td>0.0005632376</td><td>-0.9307918</td><td>0.3519613</td><td>0.3790352</td><td>-0.4213204</td><td>FALSE</td></tr>\n",
       "\t<tr><th scope=row>24</th><td>ACTAATGCCCGC</td><td>125.74019</td><td>-0.0104503162</td><td>0.002404965</td><td>-4.3453092</td><td>1.390796e-05</td><td>2.328342e-05</td><td>ATGTGCGAA</td><td>-4.63295325</td><td>2563.277</td><td>-0.000524257</td><td>0.0005632376</td><td>-0.9307918</td><td>0.3519613</td><td>0.3790352</td><td>-0.4213204</td><td> TRUE</td></tr>\n",
       "\t<tr><th scope=row>25</th><td>ACTAATGCCCGC</td><td>259.18765</td><td> 0.0042048386</td><td>0.001756127</td><td> 2.3943824</td><td>1.664838e-02</td><td>2.109170e-02</td><td>ATGTGGCTC</td><td> 1.67588848</td><td>2563.277</td><td>-0.000524257</td><td>0.0005632376</td><td>-0.9307918</td><td>0.3519613</td><td>0.3790352</td><td>-0.4213204</td><td>FALSE</td></tr>\n",
       "\t<tr><th scope=row>26</th><td>ACTAATGCCCGC</td><td>112.07274</td><td>-0.0003648602</td><td>0.002519613</td><td>-0.1448081</td><td>8.848624e-01</td><td>8.919984e-01</td><td>ATGTGTAGG</td><td>-0.04963593</td><td>2563.277</td><td>-0.000524257</td><td>0.0005632376</td><td>-0.9307918</td><td>0.3519613</td><td>0.3790352</td><td>-0.4213204</td><td>FALSE</td></tr>\n",
       "\t<tr><th scope=row>27</th><td>ACTAATGCCCGC</td><td>119.75737</td><td> 0.0016107297</td><td>0.002452052</td><td> 0.6568906</td><td>5.112512e-01</td><td>5.431139e-01</td><td>CAGAGCCAA</td><td> 0.26510907</td><td>2563.277</td><td>-0.000524257</td><td>0.0005632376</td><td>-0.9307918</td><td>0.3519613</td><td>0.3790352</td><td>-0.4213204</td><td>FALSE</td></tr>\n",
       "\t<tr><th scope=row>28</th><td>ACTAATGCCCGC</td><td>202.90358</td><td>-0.0035615382</td><td>0.002038091</td><td>-1.7474871</td><td>8.055288e-02</td><td>9.410383e-02</td><td>CAGAGGATC</td><td>-1.02639270</td><td>2563.277</td><td>-0.000524257</td><td>0.0005632376</td><td>-0.9307918</td><td>0.3519613</td><td>0.3790352</td><td>-0.4213204</td><td>FALSE</td></tr>\n",
       "\t<tr><th scope=row>29</th><td>ACTAATGCCCGC</td><td>232.95875</td><td> 0.0046382560</td><td>0.001872973</td><td> 2.4764139</td><td>1.327096e-02</td><td>1.686987e-02</td><td>CTGTGATGG</td><td> 1.77288831</td><td>2563.277</td><td>-0.000524257</td><td>0.0005632376</td><td>-0.9307918</td><td>0.3519613</td><td>0.3790352</td><td>-0.4213204</td><td>FALSE</td></tr>\n",
       "\t<tr><th scope=row>30</th><td>ACTAATGCCCGC</td><td>174.44891</td><td>-0.0060845025</td><td>0.002125087</td><td>-2.8631776</td><td>4.194155e-03</td><td>5.538056e-03</td><td>CTGTGGCAA</td><td>-2.25664264</td><td>2563.277</td><td>-0.000524257</td><td>0.0005632376</td><td>-0.9307918</td><td>0.3519613</td><td>0.3790352</td><td>-0.4213204</td><td> TRUE</td></tr>\n",
       "\t<tr><th scope=row>31</th><td>ACTAATGCCCGC</td><td>279.18736</td><td> 0.0096140959</td><td>0.001673018</td><td> 5.7465595</td><td>9.107762e-09</td><td>2.276940e-08</td><td>CTGTGTATC</td><td> 7.64264833</td><td>2563.277</td><td>-0.000524257</td><td>0.0005632376</td><td>-0.9307918</td><td>0.3519613</td><td>0.3790352</td><td>-0.4213204</td><td>FALSE</td></tr>\n",
       "\t<tr><th scope=row>32</th><td>ACTAATGCCCGC</td><td> 75.74974</td><td>-0.0095222534</td><td>0.003077852</td><td>-3.0937978</td><td>1.976121e-03</td><td>2.724431e-03</td><td>GAGAGGAAA</td><td>-2.56472411</td><td>2563.277</td><td>-0.000524257</td><td>0.0005632376</td><td>-0.9307918</td><td>0.3519613</td><td>0.3790352</td><td>-0.4213204</td><td> TRUE</td></tr>\n",
       "\t<tr><th scope=row>33</th><td>ACTAATGCCCGC</td><td>226.65271</td><td>-0.0044227957</td><td>0.001892368</td><td>-2.3371757</td><td>1.943005e-02</td><td>2.428756e-02</td><td>GTGTGATTC</td><td>-1.61461605</td><td>2563.277</td><td>-0.000524257</td><td>0.0005632376</td><td>-0.9307918</td><td>0.3519613</td><td>0.3790352</td><td>-0.4213204</td><td>FALSE</td></tr>\n",
       "\t<tr><th scope=row>34</th><td>ACTAATGCCCGC</td><td>142.62930</td><td>-0.0091897874</td><td>0.002320646</td><td>-3.9600118</td><td>7.494605e-05</td><td>1.175932e-04</td><td>TAGAGGACT</td><td>-3.92961787</td><td>2563.277</td><td>-0.000524257</td><td>0.0005632376</td><td>-0.9307918</td><td>0.3519613</td><td>0.3790352</td><td>-0.4213204</td><td> TRUE</td></tr>\n",
       "\t<tr><th scope=row>35</th><td>ACTAATGCCCGC</td><td> 49.83595</td><td> 0.0116549009</td><td>0.003791831</td><td> 3.0736868</td><td>2.114313e-03</td><td>2.883154e-03</td><td>TCGCGGTAA</td><td> 2.54013218</td><td>2563.277</td><td>-0.000524257</td><td>0.0005632376</td><td>-0.9307918</td><td>0.3519613</td><td>0.3790352</td><td>-0.4213204</td><td>FALSE</td></tr>\n",
       "\t<tr><th scope=row>36</th><td>ACTAATGCCCGC</td><td>307.14980</td><td> 0.0087653229</td><td>0.001594458</td><td> 5.4973685</td><td>3.855005e-08</td><td>8.979049e-08</td><td>TTGTGCGTC</td><td> 7.04676967</td><td>2563.277</td><td>-0.000524257</td><td>0.0005632376</td><td>-0.9307918</td><td>0.3519613</td><td>0.3790352</td><td>-0.4213204</td><td>FALSE</td></tr>\n",
       "</tbody>\n",
       "</table>\n"
      ],
      "text/latex": [
       "A data.frame: 16 × 17\n",
       "\\begin{tabular}{r|lllllllllllllllll}\n",
       "  & PBC & baseMean\\_umi & log2FoldChange\\_umi & lfcSE\\_umi & stat\\_umi & pvalue\\_umi & padj\\_umi & UMI & logP\\_sign\\_umi & baseMean\\_pbc & log2FoldChange\\_pbc & lfcSE\\_pbc & stat\\_pbc & pvalue\\_pbc & padj\\_pbc & logP\\_sign\\_pbc & agreement\\\\\n",
       "  & <chr> & <dbl> & <dbl> & <dbl> & <dbl> & <dbl> & <dbl> & <chr> & <dbl> & <dbl> & <dbl> & <dbl> & <dbl> & <dbl> & <dbl> & <dbl> & <lgl>\\\\\n",
       "\\hline\n",
       "\t21 & ACTAATGCCCGC & 115.30547 & -0.0136024034 & 0.002616059 & -5.1995783 & 1.997412e-07 & 4.161275e-07 & AAGAGCCTC & -6.38077358 & 2563.277 & -0.000524257 & 0.0005632376 & -0.9307918 & 0.3519613 & 0.3790352 & -0.4213204 &  TRUE\\\\\n",
       "\t22 & ACTAATGCCCGC &  53.18865 & -0.0122275487 & 0.003647070 & -3.3527049 & 8.002598e-04 & 1.136733e-03 & AAGAGGAGG & -2.94434168 & 2563.277 & -0.000524257 & 0.0005632376 & -0.9307918 & 0.3519613 & 0.3790352 & -0.4213204 &  TRUE\\\\\n",
       "\t23 & ACTAATGCCCGC &  73.03359 &  0.0006795967 & 0.003159476 &  0.2150980 & 8.296910e-01 & 8.409030e-01 & ACGCGTGAA &  0.07525410 & 2563.277 & -0.000524257 & 0.0005632376 & -0.9307918 & 0.3519613 & 0.3790352 & -0.4213204 & FALSE\\\\\n",
       "\t24 & ACTAATGCCCGC & 125.74019 & -0.0104503162 & 0.002404965 & -4.3453092 & 1.390796e-05 & 2.328342e-05 & ATGTGCGAA & -4.63295325 & 2563.277 & -0.000524257 & 0.0005632376 & -0.9307918 & 0.3519613 & 0.3790352 & -0.4213204 &  TRUE\\\\\n",
       "\t25 & ACTAATGCCCGC & 259.18765 &  0.0042048386 & 0.001756127 &  2.3943824 & 1.664838e-02 & 2.109170e-02 & ATGTGGCTC &  1.67588848 & 2563.277 & -0.000524257 & 0.0005632376 & -0.9307918 & 0.3519613 & 0.3790352 & -0.4213204 & FALSE\\\\\n",
       "\t26 & ACTAATGCCCGC & 112.07274 & -0.0003648602 & 0.002519613 & -0.1448081 & 8.848624e-01 & 8.919984e-01 & ATGTGTAGG & -0.04963593 & 2563.277 & -0.000524257 & 0.0005632376 & -0.9307918 & 0.3519613 & 0.3790352 & -0.4213204 & FALSE\\\\\n",
       "\t27 & ACTAATGCCCGC & 119.75737 &  0.0016107297 & 0.002452052 &  0.6568906 & 5.112512e-01 & 5.431139e-01 & CAGAGCCAA &  0.26510907 & 2563.277 & -0.000524257 & 0.0005632376 & -0.9307918 & 0.3519613 & 0.3790352 & -0.4213204 & FALSE\\\\\n",
       "\t28 & ACTAATGCCCGC & 202.90358 & -0.0035615382 & 0.002038091 & -1.7474871 & 8.055288e-02 & 9.410383e-02 & CAGAGGATC & -1.02639270 & 2563.277 & -0.000524257 & 0.0005632376 & -0.9307918 & 0.3519613 & 0.3790352 & -0.4213204 & FALSE\\\\\n",
       "\t29 & ACTAATGCCCGC & 232.95875 &  0.0046382560 & 0.001872973 &  2.4764139 & 1.327096e-02 & 1.686987e-02 & CTGTGATGG &  1.77288831 & 2563.277 & -0.000524257 & 0.0005632376 & -0.9307918 & 0.3519613 & 0.3790352 & -0.4213204 & FALSE\\\\\n",
       "\t30 & ACTAATGCCCGC & 174.44891 & -0.0060845025 & 0.002125087 & -2.8631776 & 4.194155e-03 & 5.538056e-03 & CTGTGGCAA & -2.25664264 & 2563.277 & -0.000524257 & 0.0005632376 & -0.9307918 & 0.3519613 & 0.3790352 & -0.4213204 &  TRUE\\\\\n",
       "\t31 & ACTAATGCCCGC & 279.18736 &  0.0096140959 & 0.001673018 &  5.7465595 & 9.107762e-09 & 2.276940e-08 & CTGTGTATC &  7.64264833 & 2563.277 & -0.000524257 & 0.0005632376 & -0.9307918 & 0.3519613 & 0.3790352 & -0.4213204 & FALSE\\\\\n",
       "\t32 & ACTAATGCCCGC &  75.74974 & -0.0095222534 & 0.003077852 & -3.0937978 & 1.976121e-03 & 2.724431e-03 & GAGAGGAAA & -2.56472411 & 2563.277 & -0.000524257 & 0.0005632376 & -0.9307918 & 0.3519613 & 0.3790352 & -0.4213204 &  TRUE\\\\\n",
       "\t33 & ACTAATGCCCGC & 226.65271 & -0.0044227957 & 0.001892368 & -2.3371757 & 1.943005e-02 & 2.428756e-02 & GTGTGATTC & -1.61461605 & 2563.277 & -0.000524257 & 0.0005632376 & -0.9307918 & 0.3519613 & 0.3790352 & -0.4213204 & FALSE\\\\\n",
       "\t34 & ACTAATGCCCGC & 142.62930 & -0.0091897874 & 0.002320646 & -3.9600118 & 7.494605e-05 & 1.175932e-04 & TAGAGGACT & -3.92961787 & 2563.277 & -0.000524257 & 0.0005632376 & -0.9307918 & 0.3519613 & 0.3790352 & -0.4213204 &  TRUE\\\\\n",
       "\t35 & ACTAATGCCCGC &  49.83595 &  0.0116549009 & 0.003791831 &  3.0736868 & 2.114313e-03 & 2.883154e-03 & TCGCGGTAA &  2.54013218 & 2563.277 & -0.000524257 & 0.0005632376 & -0.9307918 & 0.3519613 & 0.3790352 & -0.4213204 & FALSE\\\\\n",
       "\t36 & ACTAATGCCCGC & 307.14980 &  0.0087653229 & 0.001594458 &  5.4973685 & 3.855005e-08 & 8.979049e-08 & TTGTGCGTC &  7.04676967 & 2563.277 & -0.000524257 & 0.0005632376 & -0.9307918 & 0.3519613 & 0.3790352 & -0.4213204 & FALSE\\\\\n",
       "\\end{tabular}\n"
      ],
      "text/markdown": [
       "\n",
       "A data.frame: 16 × 17\n",
       "\n",
       "| <!--/--> | PBC &lt;chr&gt; | baseMean_umi &lt;dbl&gt; | log2FoldChange_umi &lt;dbl&gt; | lfcSE_umi &lt;dbl&gt; | stat_umi &lt;dbl&gt; | pvalue_umi &lt;dbl&gt; | padj_umi &lt;dbl&gt; | UMI &lt;chr&gt; | logP_sign_umi &lt;dbl&gt; | baseMean_pbc &lt;dbl&gt; | log2FoldChange_pbc &lt;dbl&gt; | lfcSE_pbc &lt;dbl&gt; | stat_pbc &lt;dbl&gt; | pvalue_pbc &lt;dbl&gt; | padj_pbc &lt;dbl&gt; | logP_sign_pbc &lt;dbl&gt; | agreement &lt;lgl&gt; |\n",
       "|---|---|---|---|---|---|---|---|---|---|---|---|---|---|---|---|---|---|\n",
       "| 21 | ACTAATGCCCGC | 115.30547 | -0.0136024034 | 0.002616059 | -5.1995783 | 1.997412e-07 | 4.161275e-07 | AAGAGCCTC | -6.38077358 | 2563.277 | -0.000524257 | 0.0005632376 | -0.9307918 | 0.3519613 | 0.3790352 | -0.4213204 |  TRUE |\n",
       "| 22 | ACTAATGCCCGC |  53.18865 | -0.0122275487 | 0.003647070 | -3.3527049 | 8.002598e-04 | 1.136733e-03 | AAGAGGAGG | -2.94434168 | 2563.277 | -0.000524257 | 0.0005632376 | -0.9307918 | 0.3519613 | 0.3790352 | -0.4213204 |  TRUE |\n",
       "| 23 | ACTAATGCCCGC |  73.03359 |  0.0006795967 | 0.003159476 |  0.2150980 | 8.296910e-01 | 8.409030e-01 | ACGCGTGAA |  0.07525410 | 2563.277 | -0.000524257 | 0.0005632376 | -0.9307918 | 0.3519613 | 0.3790352 | -0.4213204 | FALSE |\n",
       "| 24 | ACTAATGCCCGC | 125.74019 | -0.0104503162 | 0.002404965 | -4.3453092 | 1.390796e-05 | 2.328342e-05 | ATGTGCGAA | -4.63295325 | 2563.277 | -0.000524257 | 0.0005632376 | -0.9307918 | 0.3519613 | 0.3790352 | -0.4213204 |  TRUE |\n",
       "| 25 | ACTAATGCCCGC | 259.18765 |  0.0042048386 | 0.001756127 |  2.3943824 | 1.664838e-02 | 2.109170e-02 | ATGTGGCTC |  1.67588848 | 2563.277 | -0.000524257 | 0.0005632376 | -0.9307918 | 0.3519613 | 0.3790352 | -0.4213204 | FALSE |\n",
       "| 26 | ACTAATGCCCGC | 112.07274 | -0.0003648602 | 0.002519613 | -0.1448081 | 8.848624e-01 | 8.919984e-01 | ATGTGTAGG | -0.04963593 | 2563.277 | -0.000524257 | 0.0005632376 | -0.9307918 | 0.3519613 | 0.3790352 | -0.4213204 | FALSE |\n",
       "| 27 | ACTAATGCCCGC | 119.75737 |  0.0016107297 | 0.002452052 |  0.6568906 | 5.112512e-01 | 5.431139e-01 | CAGAGCCAA |  0.26510907 | 2563.277 | -0.000524257 | 0.0005632376 | -0.9307918 | 0.3519613 | 0.3790352 | -0.4213204 | FALSE |\n",
       "| 28 | ACTAATGCCCGC | 202.90358 | -0.0035615382 | 0.002038091 | -1.7474871 | 8.055288e-02 | 9.410383e-02 | CAGAGGATC | -1.02639270 | 2563.277 | -0.000524257 | 0.0005632376 | -0.9307918 | 0.3519613 | 0.3790352 | -0.4213204 | FALSE |\n",
       "| 29 | ACTAATGCCCGC | 232.95875 |  0.0046382560 | 0.001872973 |  2.4764139 | 1.327096e-02 | 1.686987e-02 | CTGTGATGG |  1.77288831 | 2563.277 | -0.000524257 | 0.0005632376 | -0.9307918 | 0.3519613 | 0.3790352 | -0.4213204 | FALSE |\n",
       "| 30 | ACTAATGCCCGC | 174.44891 | -0.0060845025 | 0.002125087 | -2.8631776 | 4.194155e-03 | 5.538056e-03 | CTGTGGCAA | -2.25664264 | 2563.277 | -0.000524257 | 0.0005632376 | -0.9307918 | 0.3519613 | 0.3790352 | -0.4213204 |  TRUE |\n",
       "| 31 | ACTAATGCCCGC | 279.18736 |  0.0096140959 | 0.001673018 |  5.7465595 | 9.107762e-09 | 2.276940e-08 | CTGTGTATC |  7.64264833 | 2563.277 | -0.000524257 | 0.0005632376 | -0.9307918 | 0.3519613 | 0.3790352 | -0.4213204 | FALSE |\n",
       "| 32 | ACTAATGCCCGC |  75.74974 | -0.0095222534 | 0.003077852 | -3.0937978 | 1.976121e-03 | 2.724431e-03 | GAGAGGAAA | -2.56472411 | 2563.277 | -0.000524257 | 0.0005632376 | -0.9307918 | 0.3519613 | 0.3790352 | -0.4213204 |  TRUE |\n",
       "| 33 | ACTAATGCCCGC | 226.65271 | -0.0044227957 | 0.001892368 | -2.3371757 | 1.943005e-02 | 2.428756e-02 | GTGTGATTC | -1.61461605 | 2563.277 | -0.000524257 | 0.0005632376 | -0.9307918 | 0.3519613 | 0.3790352 | -0.4213204 | FALSE |\n",
       "| 34 | ACTAATGCCCGC | 142.62930 | -0.0091897874 | 0.002320646 | -3.9600118 | 7.494605e-05 | 1.175932e-04 | TAGAGGACT | -3.92961787 | 2563.277 | -0.000524257 | 0.0005632376 | -0.9307918 | 0.3519613 | 0.3790352 | -0.4213204 |  TRUE |\n",
       "| 35 | ACTAATGCCCGC |  49.83595 |  0.0116549009 | 0.003791831 |  3.0736868 | 2.114313e-03 | 2.883154e-03 | TCGCGGTAA |  2.54013218 | 2563.277 | -0.000524257 | 0.0005632376 | -0.9307918 | 0.3519613 | 0.3790352 | -0.4213204 | FALSE |\n",
       "| 36 | ACTAATGCCCGC | 307.14980 |  0.0087653229 | 0.001594458 |  5.4973685 | 3.855005e-08 | 8.979049e-08 | TTGTGCGTC |  7.04676967 | 2563.277 | -0.000524257 | 0.0005632376 | -0.9307918 | 0.3519613 | 0.3790352 | -0.4213204 | FALSE |\n",
       "\n"
      ],
      "text/plain": [
       "   PBC          baseMean_umi log2FoldChange_umi lfcSE_umi   stat_umi  \n",
       "21 ACTAATGCCCGC 115.30547    -0.0136024034      0.002616059 -5.1995783\n",
       "22 ACTAATGCCCGC  53.18865    -0.0122275487      0.003647070 -3.3527049\n",
       "23 ACTAATGCCCGC  73.03359     0.0006795967      0.003159476  0.2150980\n",
       "24 ACTAATGCCCGC 125.74019    -0.0104503162      0.002404965 -4.3453092\n",
       "25 ACTAATGCCCGC 259.18765     0.0042048386      0.001756127  2.3943824\n",
       "26 ACTAATGCCCGC 112.07274    -0.0003648602      0.002519613 -0.1448081\n",
       "27 ACTAATGCCCGC 119.75737     0.0016107297      0.002452052  0.6568906\n",
       "28 ACTAATGCCCGC 202.90358    -0.0035615382      0.002038091 -1.7474871\n",
       "29 ACTAATGCCCGC 232.95875     0.0046382560      0.001872973  2.4764139\n",
       "30 ACTAATGCCCGC 174.44891    -0.0060845025      0.002125087 -2.8631776\n",
       "31 ACTAATGCCCGC 279.18736     0.0096140959      0.001673018  5.7465595\n",
       "32 ACTAATGCCCGC  75.74974    -0.0095222534      0.003077852 -3.0937978\n",
       "33 ACTAATGCCCGC 226.65271    -0.0044227957      0.001892368 -2.3371757\n",
       "34 ACTAATGCCCGC 142.62930    -0.0091897874      0.002320646 -3.9600118\n",
       "35 ACTAATGCCCGC  49.83595     0.0116549009      0.003791831  3.0736868\n",
       "36 ACTAATGCCCGC 307.14980     0.0087653229      0.001594458  5.4973685\n",
       "   pvalue_umi   padj_umi     UMI       logP_sign_umi baseMean_pbc\n",
       "21 1.997412e-07 4.161275e-07 AAGAGCCTC -6.38077358   2563.277    \n",
       "22 8.002598e-04 1.136733e-03 AAGAGGAGG -2.94434168   2563.277    \n",
       "23 8.296910e-01 8.409030e-01 ACGCGTGAA  0.07525410   2563.277    \n",
       "24 1.390796e-05 2.328342e-05 ATGTGCGAA -4.63295325   2563.277    \n",
       "25 1.664838e-02 2.109170e-02 ATGTGGCTC  1.67588848   2563.277    \n",
       "26 8.848624e-01 8.919984e-01 ATGTGTAGG -0.04963593   2563.277    \n",
       "27 5.112512e-01 5.431139e-01 CAGAGCCAA  0.26510907   2563.277    \n",
       "28 8.055288e-02 9.410383e-02 CAGAGGATC -1.02639270   2563.277    \n",
       "29 1.327096e-02 1.686987e-02 CTGTGATGG  1.77288831   2563.277    \n",
       "30 4.194155e-03 5.538056e-03 CTGTGGCAA -2.25664264   2563.277    \n",
       "31 9.107762e-09 2.276940e-08 CTGTGTATC  7.64264833   2563.277    \n",
       "32 1.976121e-03 2.724431e-03 GAGAGGAAA -2.56472411   2563.277    \n",
       "33 1.943005e-02 2.428756e-02 GTGTGATTC -1.61461605   2563.277    \n",
       "34 7.494605e-05 1.175932e-04 TAGAGGACT -3.92961787   2563.277    \n",
       "35 2.114313e-03 2.883154e-03 TCGCGGTAA  2.54013218   2563.277    \n",
       "36 3.855005e-08 8.979049e-08 TTGTGCGTC  7.04676967   2563.277    \n",
       "   log2FoldChange_pbc lfcSE_pbc    stat_pbc   pvalue_pbc padj_pbc \n",
       "21 -0.000524257       0.0005632376 -0.9307918 0.3519613  0.3790352\n",
       "22 -0.000524257       0.0005632376 -0.9307918 0.3519613  0.3790352\n",
       "23 -0.000524257       0.0005632376 -0.9307918 0.3519613  0.3790352\n",
       "24 -0.000524257       0.0005632376 -0.9307918 0.3519613  0.3790352\n",
       "25 -0.000524257       0.0005632376 -0.9307918 0.3519613  0.3790352\n",
       "26 -0.000524257       0.0005632376 -0.9307918 0.3519613  0.3790352\n",
       "27 -0.000524257       0.0005632376 -0.9307918 0.3519613  0.3790352\n",
       "28 -0.000524257       0.0005632376 -0.9307918 0.3519613  0.3790352\n",
       "29 -0.000524257       0.0005632376 -0.9307918 0.3519613  0.3790352\n",
       "30 -0.000524257       0.0005632376 -0.9307918 0.3519613  0.3790352\n",
       "31 -0.000524257       0.0005632376 -0.9307918 0.3519613  0.3790352\n",
       "32 -0.000524257       0.0005632376 -0.9307918 0.3519613  0.3790352\n",
       "33 -0.000524257       0.0005632376 -0.9307918 0.3519613  0.3790352\n",
       "34 -0.000524257       0.0005632376 -0.9307918 0.3519613  0.3790352\n",
       "35 -0.000524257       0.0005632376 -0.9307918 0.3519613  0.3790352\n",
       "36 -0.000524257       0.0005632376 -0.9307918 0.3519613  0.3790352\n",
       "   logP_sign_pbc agreement\n",
       "21 -0.4213204     TRUE    \n",
       "22 -0.4213204     TRUE    \n",
       "23 -0.4213204    FALSE    \n",
       "24 -0.4213204     TRUE    \n",
       "25 -0.4213204    FALSE    \n",
       "26 -0.4213204    FALSE    \n",
       "27 -0.4213204    FALSE    \n",
       "28 -0.4213204    FALSE    \n",
       "29 -0.4213204    FALSE    \n",
       "30 -0.4213204     TRUE    \n",
       "31 -0.4213204    FALSE    \n",
       "32 -0.4213204     TRUE    \n",
       "33 -0.4213204    FALSE    \n",
       "34 -0.4213204     TRUE    \n",
       "35 -0.4213204    FALSE    \n",
       "36 -0.4213204    FALSE    "
      ]
     },
     "metadata": {},
     "output_type": "display_data"
    }
   ],
   "source": [
    "subset(df, df$PBC==\"ACTAATGCCCGC\")"
   ]
  },
  {
   "cell_type": "code",
   "execution_count": null,
   "metadata": {},
   "outputs": [],
   "source": [
    "\n",
    "\n",
    "\n",
    "\n",
    "\n",
    "\n",
    "\n",
    "\n",
    "\n",
    "\n",
    "\n",
    "\n",
    "\n",
    "\n",
    "\n",
    "\n",
    "\n",
    "\n",
    "\n",
    "\n",
    "\n",
    "\n",
    "\n",
    "\n",
    "\n",
    "\n",
    "\n",
    "\n",
    "\n",
    "\n",
    "\n",
    "\n",
    "\n",
    "\n"
   ]
  },
  {
   "cell_type": "markdown",
   "metadata": {},
   "source": [
    "# Going back to PBC-level analysis, how well do logFC from two sets of triplicates agree with each other in separate analyses? (rep135 vs rep246)"
   ]
  },
  {
   "cell_type": "code",
   "execution_count": 37,
   "metadata": {
    "scrolled": true
   },
   "outputs": [
    {
     "name": "stderr",
     "output_type": "stream",
     "text": [
      "Warning message in dir.create(\"./deseq/\"):\n",
      "“'./deseq' already exists”\n"
     ]
    },
    {
     "name": "stdout",
     "output_type": "stream",
     "text": [
      "[1] \"Input files:\"\n",
      "[1] \"./ladder_pilot_samples.txt\"\n",
      "[1] \"./counts/pbc_counts.txt\"\n",
      "[1] \"Output files:\"\n",
      "[1] \"./deseq/ladder_pilot_deseq_rep135_results.txt\"\n",
      "[1] \"./deseq/ladder_pilot_deseq_rep246_results.txt\"\n"
     ]
    }
   ],
   "source": [
    "# samples info file\n",
    "samples_info_file = \"./ladder_pilot_samples.txt\"\n",
    "# counts file\n",
    "counts_file = \"./counts/pbc_counts.txt\"\n",
    "\n",
    "# output directory\n",
    "dir.create(\"./deseq/\")\n",
    "# deseq results file\n",
    "deseq_rep135_output_file= \"./deseq/ladder_pilot_deseq_rep135_results.txt\"\n",
    "deseq_rep246_output_file= \"./deseq/ladder_pilot_deseq_rep246_results.txt\"\n",
    "\n",
    "print(\"Input files:\")\n",
    "print(samples_info_file)\n",
    "print(counts_file)\n",
    "print(\"Output files:\")\n",
    "print(deseq_rep135_output_file)\n",
    "print(deseq_rep246_output_file)"
   ]
  },
  {
   "cell_type": "markdown",
   "metadata": {},
   "source": [
    "## Select specific control genes"
   ]
  },
  {
   "cell_type": "code",
   "execution_count": 38,
   "metadata": {},
   "outputs": [
    {
     "data": {
      "text/html": [
       "<style>\n",
       ".list-inline {list-style: none; margin:0; padding: 0}\n",
       ".list-inline>li {display: inline-block}\n",
       ".list-inline>li:not(:last-child)::after {content: \"\\00b7\"; padding: 0 .5ex}\n",
       "</style>\n",
       "<ol class=list-inline><li>'ACTAATGCCCGC'</li><li>'CTAACAAGGCAC'</li></ol>\n"
      ],
      "text/latex": [
       "\\begin{enumerate*}\n",
       "\\item 'ACTAATGCCCGC'\n",
       "\\item 'CTAACAAGGCAC'\n",
       "\\end{enumerate*}\n"
      ],
      "text/markdown": [
       "1. 'ACTAATGCCCGC'\n",
       "2. 'CTAACAAGGCAC'\n",
       "\n",
       "\n"
      ],
      "text/plain": [
       "[1] \"ACTAATGCCCGC\" \"CTAACAAGGCAC\""
      ]
     },
     "metadata": {},
     "output_type": "display_data"
    }
   ],
   "source": [
    "ladder_oligos_annotation_file <- 'ladder_oligos_annotated.txt'\n",
    "ladder_oligos_annotation <- fread(file = ladder_oligos_annotation_file, header = TRUE, sep = '\\t', data.table=FALSE)\n",
    "\n",
    "# get neutral PBCs\n",
    "neutral_pbc = as.vector(ladder_oligos_annotation[ladder_oligos_annotation$breslow_growth_rate==1,'PBC'])\n",
    "neutral_pbc"
   ]
  },
  {
   "cell_type": "markdown",
   "metadata": {},
   "source": [
    "## Load samples info, barcode counts"
   ]
  },
  {
   "cell_type": "code",
   "execution_count": 39,
   "metadata": {
    "scrolled": true
   },
   "outputs": [],
   "source": [
    "# loading samples\n",
    "samples <- read.table(file = samples_info_file, header = TRUE, sep = '\\t', row.names = 1)\n",
    "\n",
    "# loading counts\n",
    "counts <- read.table(file = counts_file, header = TRUE, sep = '\\t', row.names = 1)\n",
    "colnames(counts) <- rownames(samples)\n",
    "\n",
    "# separate samples and counts files\n",
    "samples135 <- samples[seq(1,41,by=2),]\n",
    "samples135$rep = factor(samples135$rep)\n",
    "samples246 <- samples[seq(2,42,by=2),]\n",
    "samples246$rep = factor(samples246$rep)\n",
    "\n",
    "counts135 <- counts[,rownames(samples135)]\n",
    "counts246 <- counts[,rownames(samples246)]\n",
    "\n",
    "\n",
    "# # DDS overview\n",
    "# dds135\n",
    "# dds246"
   ]
  },
  {
   "cell_type": "code",
   "execution_count": 41,
   "metadata": {},
   "outputs": [
    {
     "name": "stderr",
     "output_type": "stream",
     "text": [
      "  the design formula contains one or more numeric variables that have mean or\n",
      "  standard deviation larger than 5 (an arbitrary threshold to trigger this message).\n",
      "  it is generally a good idea to center and scale numeric variables in the design\n",
      "  to improve GLM convergence.\n",
      "\n",
      "  the design formula contains one or more numeric variables that have mean or\n",
      "  standard deviation larger than 5 (an arbitrary threshold to trigger this message).\n",
      "  it is generally a good idea to center and scale numeric variables in the design\n",
      "  to improve GLM convergence.\n",
      "\n",
      "gene-wise dispersion estimates\n",
      "\n",
      "mean-dispersion relationship\n",
      "\n",
      "final dispersion estimates\n",
      "\n",
      "gene-wise dispersion estimates\n",
      "\n",
      "mean-dispersion relationship\n",
      "\n",
      "final dispersion estimates\n",
      "\n"
     ]
    }
   ],
   "source": [
    "# store in DESeqDataSet\n",
    "dds135 <- DESeqDataSetFromMatrix(countData = counts135,\n",
    "                                 colData = samples135,\n",
    "                                 design= ~gen+rep)\n",
    "dds246 <- DESeqDataSetFromMatrix(countData = counts246,\n",
    "                                 colData = samples246,\n",
    "                                 design= ~gen+rep)\n",
    "\n",
    "\n",
    "# filter barcodes that do not meet minimum read cutoff\n",
    "total_reads_cutoff = 500\n",
    "\n",
    "keep <- rowSums(counts(dds135)) >= total_reads_cutoff\n",
    "dds135 <- dds135[keep,]\n",
    "keep <- rowSums(counts(dds246)) >= total_reads_cutoff\n",
    "dds246 <- dds246[keep,]\n",
    "\n",
    "\n",
    "# estimate size factors, specifying neutral oligos as control genes\n",
    "dds135 <- estimateSizeFactors(dds135, controlGenes=grep(paste(neutral_pbc, collapse=\"|\"), rownames(dds135)))\n",
    "# estimate dispersion\n",
    "dds135 <- estimateDispersions(dds135)\n",
    "# calculate logFC\n",
    "dds135 <- nbinomWaldTest(dds135)\n",
    "\n",
    "# estimate size factors, specifying neutral oligos as control genes\n",
    "dds246 <- estimateSizeFactors(dds246, controlGenes=grep(paste(neutral_pbc, collapse=\"|\"), rownames(dds246)))\n",
    "# estimate dispersion\n",
    "dds246 <- estimateDispersions(dds246)\n",
    "# calculate logFC\n",
    "dds246 <- nbinomWaldTest(dds246)\n"
   ]
  },
  {
   "cell_type": "code",
   "execution_count": 42,
   "metadata": {
    "scrolled": true
   },
   "outputs": [
    {
     "name": "stdout",
     "output_type": "stream",
     "text": [
      "\n",
      "out of 42 with nonzero total read count\n",
      "adjusted p-value < 0.05\n",
      "LFC > 0 (up)       : 6, 14%\n",
      "LFC < 0 (down)     : 25, 60%\n",
      "outliers [1]       : 0, 0%\n",
      "low counts [2]     : 0, 0%\n",
      "(mean count < 24)\n",
      "[1] see 'cooksCutoff' argument of ?results\n",
      "[2] see 'independentFiltering' argument of ?results\n",
      "\n"
     ]
    },
    {
     "data": {
      "text/plain": [
       "log2 fold change (MLE): gen \n",
       "Wald test p-value: gen \n",
       "DataFrame with 42 rows and 6 columns\n",
       "                     baseMean        log2FoldChange                lfcSE\n",
       "                    <numeric>             <numeric>            <numeric>\n",
       "ACGACTAAGTTG 548.513221877657   -0.0783227182511869  0.00190245804045143\n",
       "TTGATCATTCCG 1103.97337717381   -0.0676488627141563  0.00158510736325187\n",
       "AGTCGCATTGAG 109.435656882396      -0.1253540926697  0.00441386726684553\n",
       "GTGAACGTAGGT 292.373237213876   -0.0563036636539121  0.00233600770382501\n",
       "ACTTGCGTAACG 1430.23863474323   -0.0568425302764375  0.00256207413080682\n",
       "...                       ...                   ...                  ...\n",
       "ACTAATGCCCGC 2596.21957894445 -0.000433161402804888 0.000880990718546461\n",
       "CTAACAAGGCAC 2273.01824948567  0.000404747862382369 0.000913274246810777\n",
       "TCGTCTGGTTCC 52.2883810944513  -0.00187924261091869  0.00524526727761108\n",
       "GAGCAACCAGTA 2433.07767817205 -0.000347788881279237  0.00121276847581478\n",
       "CGCAGTCGTCAA 754.273824383176  -0.00040792413520525  0.00158925970360116\n",
       "                           stat                pvalue                  padj\n",
       "                      <numeric>             <numeric>             <numeric>\n",
       "ACGACTAAGTTG  -41.1692224405653                     0                     0\n",
       "TTGATCATTCCG  -42.6777796144823                     0                     0\n",
       "AGTCGCATTGAG  -28.4000594243713 2.01870296223655e-177 2.82618414713117e-176\n",
       "GTGAACGTAGGT  -24.1025162552845  2.3523747743876e-128 2.46999351310698e-127\n",
       "ACTTGCGTAACG  -22.1861380172233  4.6745582576456e-109 3.92662893642231e-108\n",
       "...                         ...                   ...                   ...\n",
       "ACTAATGCCCGC -0.491675330609109     0.622948880465328     0.688522446830099\n",
       "CTAACAAGGCAC  0.443183264825193     0.657633182604443     0.708220350497092\n",
       "TCGTCTGGTTCC -0.358273947057007     0.720138313039031     0.756145228690982\n",
       "GAGCAACCAGTA -0.286772692574796     0.774286373286932     0.793171406781735\n",
       "CGCAGTCGTCAA -0.256675566794351     0.797429234642581     0.797429234642581"
      ]
     },
     "metadata": {},
     "output_type": "display_data"
    },
    {
     "name": "stdout",
     "output_type": "stream",
     "text": [
      "\n",
      "out of 42 with nonzero total read count\n",
      "adjusted p-value < 0.05\n",
      "LFC > 0 (up)       : 5, 12%\n",
      "LFC < 0 (down)     : 24, 57%\n",
      "outliers [1]       : 0, 0%\n",
      "low counts [2]     : 0, 0%\n",
      "(mean count < 25)\n",
      "[1] see 'cooksCutoff' argument of ?results\n",
      "[2] see 'independentFiltering' argument of ?results\n",
      "\n"
     ]
    },
    {
     "data": {
      "text/plain": [
       "log2 fold change (MLE): gen \n",
       "Wald test p-value: gen \n",
       "DataFrame with 42 rows and 6 columns\n",
       "                     baseMean        log2FoldChange                lfcSE\n",
       "                    <numeric>             <numeric>            <numeric>\n",
       "TTGATCATTCCG  1076.2220295672   -0.0676076475307783  0.00188291966701849\n",
       "ACGACTAAGTTG 531.543249808024   -0.0787383466102426   0.0022022288449472\n",
       "AGTCGCATTGAG 107.603154764754    -0.115421132728705  0.00453851677526557\n",
       "ACTTGCGTAACG 1393.41493240214   -0.0574280214454949  0.00244869297123883\n",
       "GTGAACGTAGGT 281.913777992218   -0.0526426988291508  0.00237351661989772\n",
       "...                       ...                   ...                  ...\n",
       "CTAACAAGGCAC   2232.893518508  0.000618329135230688 0.000851820264596602\n",
       "CAACCGTGGGCT  1239.0885409663 -0.000869537121716643  0.00130889819729172\n",
       "GAGCAACCAGTA 2397.77167140582  0.000695873152523208  0.00110106876251934\n",
       "GTACTGTACCTC 416.251673666386  -0.00093286206190362   0.0019118066071869\n",
       "CGCAGTCGTCAA 758.116328043978 -8.21718855169349e-05  0.00146143198476056\n",
       "                            stat                pvalue                  padj\n",
       "                       <numeric>             <numeric>             <numeric>\n",
       "TTGATCATTCCG   -35.9057524943863   2.484327739986e-282 1.04341765079412e-280\n",
       "ACGACTAAGTTG    -35.753934833294 5.74692878315473e-280 1.20685504446249e-278\n",
       "AGTCGCATTGAG   -25.4314654861996 1.13206796777703e-142 1.58489515488784e-141\n",
       "ACTTGCGTAACG   -23.4525202301868 1.24590782592704e-121 1.30820321722339e-120\n",
       "GTGAACGTAGGT   -22.1791995842099 5.45405384587241e-109 4.58140523053283e-108\n",
       "...                          ...                   ...                   ...\n",
       "CTAACAAGGCAC   0.725891553570296      0.46790525488602     0.517158439610864\n",
       "CAACCGTGGGCT  -0.664327541680343     0.506480697199518      0.54544075083025\n",
       "GAGCAACCAGTA   0.631997906226119     0.527388245381959     0.553757657651057\n",
       "GTACTGTACCTC  -0.487947922345696     0.625586729035103     0.640844941938399\n",
       "CGCAGTCGTCAA -0.0562269653147068     0.955160999922892     0.955160999922892"
      ]
     },
     "metadata": {},
     "output_type": "display_data"
    }
   ],
   "source": [
    "# rep135 logFC results\n",
    "res135 <- results(dds135, name='gen', alpha=0.05)\n",
    "summary(res135)\n",
    "\n",
    "# view table of results sorted by pvalue\n",
    "res135Ordered <- res135[order(res135$pvalue),]\n",
    "res135Ordered\n",
    "\n",
    "# export results to file\n",
    "write.csv(as.data.frame(res135Ordered), file=deseq_rep135_output_file)\n",
    "\n",
    "\n",
    "\n",
    "# rep246 logFC results\n",
    "res246 <- results(dds246, name='gen', alpha=0.05)\n",
    "summary(res246)\n",
    "\n",
    "# view table of results sorted by pvalue\n",
    "res246Ordered <- res246[order(res246$pvalue),]\n",
    "res246Ordered\n",
    "\n",
    "# export results to file\n",
    "write.csv(as.data.frame(res246Ordered), file=deseq_rep246_output_file)"
   ]
  },
  {
   "cell_type": "markdown",
   "metadata": {},
   "source": [
    "# We can also calculate logFC from start-end time point analyses (tp05, tp16)"
   ]
  },
  {
   "cell_type": "code",
   "execution_count": 58,
   "metadata": {
    "scrolled": true
   },
   "outputs": [
    {
     "name": "stderr",
     "output_type": "stream",
     "text": [
      "Warning message in dir.create(\"./deseq/\"):\n",
      "“'./deseq' already exists”\n"
     ]
    },
    {
     "name": "stdout",
     "output_type": "stream",
     "text": [
      "[1] \"Input files:\"\n",
      "[1] \"./ladder_pilot_samples.txt\"\n",
      "[1] \"./counts/pbc_counts.txt\"\n",
      "[1] \"Output files:\"\n",
      "[1] \"./deseq/ladder_pilot_deseq_tp05_results.txt\"\n",
      "[1] \"./deseq/ladder_pilot_deseq_tp16_results.txt\"\n"
     ]
    }
   ],
   "source": [
    "# samples info file\n",
    "samples_info_file = \"./ladder_pilot_samples.txt\"\n",
    "# counts file\n",
    "counts_file = \"./counts/pbc_counts.txt\"\n",
    "\n",
    "# output directory\n",
    "dir.create(\"./deseq/\")\n",
    "# deseq results file\n",
    "deseq_tp05_output_file= \"./deseq/ladder_pilot_deseq_tp05_results.txt\"\n",
    "deseq_tp16_output_file= \"./deseq/ladder_pilot_deseq_tp16_results.txt\"\n",
    "\n",
    "print(\"Input files:\")\n",
    "print(samples_info_file)\n",
    "print(counts_file)\n",
    "print(\"Output files:\")\n",
    "print(deseq_tp05_output_file)\n",
    "print(deseq_tp16_output_file)"
   ]
  },
  {
   "cell_type": "markdown",
   "metadata": {},
   "source": [
    "## Select specific control genes"
   ]
  },
  {
   "cell_type": "code",
   "execution_count": 59,
   "metadata": {},
   "outputs": [
    {
     "data": {
      "text/html": [
       "<style>\n",
       ".list-inline {list-style: none; margin:0; padding: 0}\n",
       ".list-inline>li {display: inline-block}\n",
       ".list-inline>li:not(:last-child)::after {content: \"\\00b7\"; padding: 0 .5ex}\n",
       "</style>\n",
       "<ol class=list-inline><li>'ACTAATGCCCGC'</li><li>'CTAACAAGGCAC'</li></ol>\n"
      ],
      "text/latex": [
       "\\begin{enumerate*}\n",
       "\\item 'ACTAATGCCCGC'\n",
       "\\item 'CTAACAAGGCAC'\n",
       "\\end{enumerate*}\n"
      ],
      "text/markdown": [
       "1. 'ACTAATGCCCGC'\n",
       "2. 'CTAACAAGGCAC'\n",
       "\n",
       "\n"
      ],
      "text/plain": [
       "[1] \"ACTAATGCCCGC\" \"CTAACAAGGCAC\""
      ]
     },
     "metadata": {},
     "output_type": "display_data"
    }
   ],
   "source": [
    "ladder_oligos_annotation_file <- 'ladder_oligos_annotated.txt'\n",
    "ladder_oligos_annotation <- fread(file = ladder_oligos_annotation_file, header = TRUE, sep = '\\t', data.table=FALSE)\n",
    "\n",
    "# get neutral PBCs\n",
    "neutral_pbc = as.vector(ladder_oligos_annotation[ladder_oligos_annotation$breslow_growth_rate==1,'PBC'])\n",
    "neutral_pbc"
   ]
  },
  {
   "cell_type": "markdown",
   "metadata": {},
   "source": [
    "## Load samples info, barcode counts"
   ]
  },
  {
   "cell_type": "code",
   "execution_count": 60,
   "metadata": {
    "scrolled": true
   },
   "outputs": [],
   "source": [
    "# loading samples\n",
    "samples <- read.table(file = samples_info_file, header = TRUE, sep = '\\t', row.names = 1)\n",
    "\n",
    "# loading counts\n",
    "counts <- read.table(file = counts_file, header = TRUE, sep = '\\t', row.names = 1)\n",
    "colnames(counts) <- rownames(samples)\n",
    "\n",
    "# separate samples and counts files\n",
    "samples_tp05 <- samples[c(1:6,31:36),]\n",
    "samples_tp05$rep = factor(samples_tp05$rep)\n",
    "samples_tp16 <- samples[c(7:12,37:42),]\n",
    "samples_tp16$rep = factor(samples_tp16$rep)\n",
    "\n",
    "counts_tp05 <- counts[,rownames(samples_tp05)]\n",
    "counts_tp16 <- counts[,rownames(samples_tp16)]\n",
    "\n",
    "\n",
    "# # DDS overview\n",
    "# dds_tp05\n",
    "# dds_tp16"
   ]
  },
  {
   "cell_type": "code",
   "execution_count": 61,
   "metadata": {},
   "outputs": [
    {
     "name": "stderr",
     "output_type": "stream",
     "text": [
      "  the design formula contains one or more numeric variables that have mean or\n",
      "  standard deviation larger than 5 (an arbitrary threshold to trigger this message).\n",
      "  it is generally a good idea to center and scale numeric variables in the design\n",
      "  to improve GLM convergence.\n",
      "\n",
      "  the design formula contains one or more numeric variables that have mean or\n",
      "  standard deviation larger than 5 (an arbitrary threshold to trigger this message).\n",
      "  it is generally a good idea to center and scale numeric variables in the design\n",
      "  to improve GLM convergence.\n",
      "\n",
      "gene-wise dispersion estimates\n",
      "\n",
      "mean-dispersion relationship\n",
      "\n",
      "final dispersion estimates\n",
      "\n",
      "gene-wise dispersion estimates\n",
      "\n",
      "mean-dispersion relationship\n",
      "\n",
      "final dispersion estimates\n",
      "\n"
     ]
    }
   ],
   "source": [
    "# store in DESeqDataSet\n",
    "dds_tp05 <- DESeqDataSetFromMatrix(countData = counts_tp05,\n",
    "                                 colData = samples_tp05,\n",
    "                                 design= ~gen+rep)\n",
    "dds_tp16 <- DESeqDataSetFromMatrix(countData = counts_tp16,\n",
    "                                 colData = samples_tp16,\n",
    "                                 design= ~gen+rep)\n",
    "\n",
    "\n",
    "# filter barcodes that do not meet minimum read cutoff\n",
    "total_reads_cutoff = 250\n",
    "\n",
    "keep <- rowSums(counts(dds_tp05)) >= total_reads_cutoff\n",
    "dds_tp05 <- dds_tp05[keep,]\n",
    "keep <- rowSums(counts(dds_tp16)) >= total_reads_cutoff\n",
    "dds_tp16 <- dds_tp16[keep,]\n",
    "\n",
    "\n",
    "# estimate size factors, specifying neutral oligos as control genes\n",
    "dds_tp05 <- estimateSizeFactors(dds_tp05, controlGenes=grep(paste(neutral_pbc, collapse=\"|\"), rownames(dds_tp05)))\n",
    "# estimate dispersion\n",
    "dds_tp05 <- estimateDispersions(dds_tp05)\n",
    "# calculate logFC\n",
    "dds_tp05 <- nbinomWaldTest(dds_tp05)\n",
    "\n",
    "# estimate size factors, specifying neutral oligos as control genes\n",
    "dds_tp16 <- estimateSizeFactors(dds_tp16, controlGenes=grep(paste(neutral_pbc, collapse=\"|\"), rownames(dds_tp16)))\n",
    "# estimate dispersion\n",
    "dds_tp16 <- estimateDispersions(dds_tp16)\n",
    "# calculate logFC\n",
    "dds_tp16 <- nbinomWaldTest(dds_tp16)\n"
   ]
  },
  {
   "cell_type": "code",
   "execution_count": 62,
   "metadata": {
    "scrolled": true
   },
   "outputs": [
    {
     "name": "stdout",
     "output_type": "stream",
     "text": [
      "\n",
      "out of 42 with nonzero total read count\n",
      "adjusted p-value < 0.05\n",
      "LFC > 0 (up)       : 4, 9.5%\n",
      "LFC < 0 (down)     : 25, 60%\n",
      "outliers [1]       : 0, 0%\n",
      "low counts [2]     : 0, 0%\n",
      "(mean count < 29)\n",
      "[1] see 'cooksCutoff' argument of ?results\n",
      "[2] see 'independentFiltering' argument of ?results\n",
      "\n"
     ]
    },
    {
     "data": {
      "text/plain": [
       "log2 fold change (MLE): gen \n",
       "Wald test p-value: gen \n",
       "DataFrame with 42 rows and 6 columns\n",
       "                     baseMean        log2FoldChange               lfcSE\n",
       "                    <numeric>             <numeric>           <numeric>\n",
       "TTGATCATTCCG 1257.68211548541    -0.065967518659352 0.00186577817258197\n",
       "ACGACTAAGTTG 642.321704437577   -0.0782799107122274 0.00226321839330136\n",
       "ACTTGCGTAACG 1503.45688832851   -0.0538473036064852 0.00198184778315778\n",
       "AGTCGCATTGAG 146.982232468154    -0.123207429649612 0.00548619624190563\n",
       "GTGAACGTAGGT 325.702231418638   -0.0588874248772959 0.00280737528223826\n",
       "...                       ...                   ...                 ...\n",
       "GTAATTGGGCTG 944.305346671925  -0.00166578202150348 0.00167407676373844\n",
       "GAGCAACCAGTA  2445.3035481194   -0.0007093978943348 0.00132809951925265\n",
       "ACTAATGCCCGC 2605.48719523982   -0.0004565467874937 0.00121033097596882\n",
       "CTAACAAGGCAC 2265.96068446493  0.000449818722231959 0.00125417702849333\n",
       "CAACCGTGGGCT 1254.35329617785 -0.000369489623151411 0.00176137093338544\n",
       "                           stat                pvalue                  padj\n",
       "                      <numeric>             <numeric>             <numeric>\n",
       "TTGATCATTCCG  -35.3565711233842 7.94609579396308e-274 3.33736023346449e-272\n",
       "ACGACTAAGTTG   -34.587873156174 3.84464391106513e-262 8.07375221323676e-261\n",
       "ACTTGCGTAACG  -27.1702519558225 1.45969176897165e-162 2.04356847656031e-161\n",
       "AGTCGCATTGAG  -22.4577146381508 1.07580946945261e-111 1.12959994292524e-110\n",
       "GTGAACGTAGGT  -20.9759718445431  1.08722401342531e-97  9.13268171277259e-97\n",
       "...                         ...                   ...                   ...\n",
       "GTAATTGGGCTG -0.995045184059283     0.319714289074577     0.353368424766638\n",
       "GAGCAACCAGTA -0.534145132989726      0.59324112601855     0.638875058789208\n",
       "ACTAATGCCCGC -0.377208215404264     0.706018875474935     0.737409454671583\n",
       "CTAACAAGGCAC  0.358656483106166     0.719852086703212     0.737409454671583\n",
       "CAACCGTGGGCT -0.209773884732636     0.833844156516634     0.833844156516634"
      ]
     },
     "metadata": {},
     "output_type": "display_data"
    },
    {
     "name": "stdout",
     "output_type": "stream",
     "text": [
      "\n",
      "out of 42 with nonzero total read count\n",
      "adjusted p-value < 0.05\n",
      "LFC > 0 (up)       : 5, 12%\n",
      "LFC < 0 (down)     : 21, 50%\n",
      "outliers [1]       : 0, 0%\n",
      "low counts [2]     : 0, 0%\n",
      "(mean count < 24)\n",
      "[1] see 'cooksCutoff' argument of ?results\n",
      "[2] see 'independentFiltering' argument of ?results\n",
      "\n"
     ]
    },
    {
     "data": {
      "text/plain": [
       "log2 fold change (MLE): gen \n",
       "Wald test p-value: gen \n",
       "DataFrame with 42 rows and 6 columns\n",
       "                     baseMean        log2FoldChange               lfcSE\n",
       "                    <numeric>             <numeric>           <numeric>\n",
       "TTGATCATTCCG 1035.73383385575   -0.0708499867185864 0.00218935150945651\n",
       "ACGACTAAGTTG 511.930134362507   -0.0805505183620703  0.0028058480940214\n",
       "ACTTGCGTAACG 1322.20269498939   -0.0612106041036994  0.0021827242569575\n",
       "AGTCGCATTGAG 105.483848377699    -0.115278239806096 0.00684652438212138\n",
       "GTGAACGTAGGT 278.661327422388   -0.0512230784451799 0.00351490342572949\n",
       "...                       ...                   ...                 ...\n",
       "TGAAGTCCTTTA 3639.31695737347 -0.000727606003174637 0.00139318480988604\n",
       "GTACTGTACCTC 425.718150482907  0.000507710651127869 0.00296223643577781\n",
       "ACTAATGCCCGC 2536.78745862493 -0.000109708111839465 0.00144048358108156\n",
       "CTAACAAGGCAC 2267.30850523727   0.00010814048248271 0.00148655577715394\n",
       "TTGAGAATAGCA 509.925922040672 -0.000178585616608166 0.00263456607741997\n",
       "                            stat                pvalue                  padj\n",
       "                       <numeric>             <numeric>             <numeric>\n",
       "TTGATCATTCCG   -32.3611747188895  9.6605775350031e-230  4.0574425647013e-228\n",
       "ACGACTAAGTTG   -28.7080824274501 3.02443331839141e-181 6.35130996862196e-180\n",
       "ACTTGCGTAACG   -28.0432143036798 4.83306692807427e-173 6.76629369930398e-172\n",
       "AGTCGCATTGAG    -16.837483279418  1.29633832308742e-63  1.36115523924179e-62\n",
       "GTGAACGTAGGT    -14.573111189975  4.16483077576464e-48   3.4984578516423e-47\n",
       "...                          ...                   ...                   ...\n",
       "TGAAGTCCTTTA  -0.522260936245891     0.601488663711779     0.664803259891966\n",
       "GTACTGTACCTC    0.17139437115679     0.863913680459461     0.930368578956342\n",
       "ACTAATGCCCGC  -0.076160612505623     0.939291318305387     0.945956314692075\n",
       "CTAACAAGGCAC  0.0727456609060093     0.942008512629327     0.945956314692075\n",
       "TTGAGAATAGCA -0.0677855902490989     0.945956314692075     0.945956314692075"
      ]
     },
     "metadata": {},
     "output_type": "display_data"
    }
   ],
   "source": [
    "# rep_tp05 logFC results\n",
    "res_tp05 <- results(dds_tp05, name='gen', alpha=0.05)\n",
    "summary(res_tp05)\n",
    "\n",
    "# view table of results sorted by pvalue\n",
    "res_tp05Ordered <- res_tp05[order(res_tp05$pvalue),]\n",
    "res_tp05Ordered\n",
    "\n",
    "# export results to file\n",
    "write.csv(as.data.frame(res_tp05Ordered), file=deseq_tp05_output_file)\n",
    "\n",
    "\n",
    "\n",
    "# rep_tp16 logFC results\n",
    "res_tp16 <- results(dds_tp16, name='gen', alpha=0.05)\n",
    "summary(res_tp16)\n",
    "\n",
    "# view table of results sorted by pvalue\n",
    "res_tp16Ordered <- res_tp16[order(res_tp16$pvalue),]\n",
    "res_tp16Ordered\n",
    "\n",
    "# export results to file\n",
    "write.csv(as.data.frame(res_tp16Ordered), file=deseq_tp16_output_file)"
   ]
  },
  {
   "cell_type": "code",
   "execution_count": null,
   "metadata": {},
   "outputs": [],
   "source": [
    "\n",
    "\n",
    "\n",
    "\n",
    "\n",
    "\n",
    "\n",
    "\n",
    "\n",
    "\n",
    "\n",
    "\n",
    "\n",
    "\n",
    "\n",
    "\n",
    "\n",
    "\n",
    "\n",
    "\n",
    "\n",
    "\n",
    "\n",
    "\n",
    "\n",
    "\n"
   ]
  },
  {
   "cell_type": "markdown",
   "metadata": {},
   "source": [
    "## What if we use only three time points? (t1,3,5 vs t2,4,6)"
   ]
  },
  {
   "cell_type": "code",
   "execution_count": 47,
   "metadata": {},
   "outputs": [],
   "source": [
    "# setup linear model factoring in num of generations, replicate\n",
    "samples_tp135 <- samples[c(7:12,19:24,31:36),]\n",
    "samples_tp135$rep = factor(samples_tp135$rep)\n",
    "samples_tp246 <- samples[c(13:18,25:30,37:42),]\n",
    "samples_tp135$rep = factor(samples_tp135$rep)\n",
    "samples_tp246$rep = factor(samples_tp246$rep)\n",
    "\n",
    "design_tp135 <- model.matrix(~gen+rep, samples_tp135)\n",
    "design_tp246 <- model.matrix(~gen+rep, samples_tp246)\n",
    "\n",
    "dge_tp135 <- dge[,c(7:12,19:24,31:36), keep.lib.size = FALSE]\n",
    "dge_tp246 <- dge[,c(13:18,25:30,37:42), keep.lib.size = FALSE]\n",
    "\n",
    "# apply normalization\n",
    "dge_tp135 <- calcNormFactors(dge_tp135)\n",
    "dge_tp246 <- calcNormFactors(dge_tp246)"
   ]
  },
  {
   "cell_type": "code",
   "execution_count": 48,
   "metadata": {},
   "outputs": [
    {
     "name": "stdout",
     "output_type": "stream",
     "text": [
      "       (Intercept) gen rep2 rep3 rep4 rep5 rep6\n",
      "Down             0  17    0    0    0    0    1\n",
      "NotSig           0   7   42   42   42   42   41\n",
      "Up              42  18    0    0    0    0    0\n"
     ]
    },
    {
     "data": {
      "text/html": [
       "<table>\n",
       "<caption>A data.frame: 6 × 8</caption>\n",
       "<thead>\n",
       "\t<tr><th></th><th scope=col>logFC</th><th scope=col>CI.L</th><th scope=col>CI.R</th><th scope=col>AveExpr</th><th scope=col>t</th><th scope=col>P.Value</th><th scope=col>adj.P.Val</th><th scope=col>B</th></tr>\n",
       "\t<tr><th></th><th scope=col>&lt;dbl&gt;</th><th scope=col>&lt;dbl&gt;</th><th scope=col>&lt;dbl&gt;</th><th scope=col>&lt;dbl&gt;</th><th scope=col>&lt;dbl&gt;</th><th scope=col>&lt;dbl&gt;</th><th scope=col>&lt;dbl&gt;</th><th scope=col>&lt;dbl&gt;</th></tr>\n",
       "</thead>\n",
       "<tbody>\n",
       "\t<tr><th scope=row>TTGATCATTCCG</th><td>-0.05855083</td><td>-0.06168186</td><td>-0.05541980</td><td>14.78360</td><td>-36.74795</td><td>3.220499e-139</td><td>1.352609e-137</td><td>666.3858</td></tr>\n",
       "\t<tr><th scope=row>ACTTGCGTAACG</th><td>-0.04979411</td><td>-0.05271880</td><td>-0.04686942</td><td>15.17380</td><td>-33.45690</td><td>1.584710e-125</td><td>3.327891e-124</td><td>550.9011</td></tr>\n",
       "\t<tr><th scope=row>ACGACTAAGTTG</th><td>-0.07016929</td><td>-0.07451912</td><td>-0.06581947</td><td>13.70674</td><td>-31.70022</td><td>5.553795e-118</td><td>7.775314e-117</td><td>493.6903</td></tr>\n",
       "\t<tr><th scope=row>AGTCGCATTGAG</th><td>-0.11348543</td><td>-0.12296060</td><td>-0.10401026</td><td>11.17952</td><td>-23.53642</td><td> 4.403615e-81</td><td> 4.623796e-80</td><td>268.2958</td></tr>\n",
       "\t<tr><th scope=row>CCATCCGCGGGT</th><td> 0.03628630</td><td> 0.03242160</td><td> 0.04015101</td><td>14.03756</td><td> 18.45073</td><td> 2.336703e-57</td><td> 1.962831e-56</td><td>161.5652</td></tr>\n",
       "\t<tr><th scope=row>CCAGGCAGCGAC</th><td> 0.02447928</td><td> 0.02179577</td><td> 0.02716279</td><td>16.18265</td><td> 17.92597</td><td> 6.183818e-55</td><td> 4.328673e-54</td><td>152.0238</td></tr>\n",
       "</tbody>\n",
       "</table>\n"
      ],
      "text/latex": [
       "A data.frame: 6 × 8\n",
       "\\begin{tabular}{r|llllllll}\n",
       "  & logFC & CI.L & CI.R & AveExpr & t & P.Value & adj.P.Val & B\\\\\n",
       "  & <dbl> & <dbl> & <dbl> & <dbl> & <dbl> & <dbl> & <dbl> & <dbl>\\\\\n",
       "\\hline\n",
       "\tTTGATCATTCCG & -0.05855083 & -0.06168186 & -0.05541980 & 14.78360 & -36.74795 & 3.220499e-139 & 1.352609e-137 & 666.3858\\\\\n",
       "\tACTTGCGTAACG & -0.04979411 & -0.05271880 & -0.04686942 & 15.17380 & -33.45690 & 1.584710e-125 & 3.327891e-124 & 550.9011\\\\\n",
       "\tACGACTAAGTTG & -0.07016929 & -0.07451912 & -0.06581947 & 13.70674 & -31.70022 & 5.553795e-118 & 7.775314e-117 & 493.6903\\\\\n",
       "\tAGTCGCATTGAG & -0.11348543 & -0.12296060 & -0.10401026 & 11.17952 & -23.53642 &  4.403615e-81 &  4.623796e-80 & 268.2958\\\\\n",
       "\tCCATCCGCGGGT &  0.03628630 &  0.03242160 &  0.04015101 & 14.03756 &  18.45073 &  2.336703e-57 &  1.962831e-56 & 161.5652\\\\\n",
       "\tCCAGGCAGCGAC &  0.02447928 &  0.02179577 &  0.02716279 & 16.18265 &  17.92597 &  6.183818e-55 &  4.328673e-54 & 152.0238\\\\\n",
       "\\end{tabular}\n"
      ],
      "text/markdown": [
       "\n",
       "A data.frame: 6 × 8\n",
       "\n",
       "| <!--/--> | logFC &lt;dbl&gt; | CI.L &lt;dbl&gt; | CI.R &lt;dbl&gt; | AveExpr &lt;dbl&gt; | t &lt;dbl&gt; | P.Value &lt;dbl&gt; | adj.P.Val &lt;dbl&gt; | B &lt;dbl&gt; |\n",
       "|---|---|---|---|---|---|---|---|---|\n",
       "| TTGATCATTCCG | -0.05855083 | -0.06168186 | -0.05541980 | 14.78360 | -36.74795 | 3.220499e-139 | 1.352609e-137 | 666.3858 |\n",
       "| ACTTGCGTAACG | -0.04979411 | -0.05271880 | -0.04686942 | 15.17380 | -33.45690 | 1.584710e-125 | 3.327891e-124 | 550.9011 |\n",
       "| ACGACTAAGTTG | -0.07016929 | -0.07451912 | -0.06581947 | 13.70674 | -31.70022 | 5.553795e-118 | 7.775314e-117 | 493.6903 |\n",
       "| AGTCGCATTGAG | -0.11348543 | -0.12296060 | -0.10401026 | 11.17952 | -23.53642 |  4.403615e-81 |  4.623796e-80 | 268.2958 |\n",
       "| CCATCCGCGGGT |  0.03628630 |  0.03242160 |  0.04015101 | 14.03756 |  18.45073 |  2.336703e-57 |  1.962831e-56 | 161.5652 |\n",
       "| CCAGGCAGCGAC |  0.02447928 |  0.02179577 |  0.02716279 | 16.18265 |  17.92597 |  6.183818e-55 |  4.328673e-54 | 152.0238 |\n",
       "\n"
      ],
      "text/plain": [
       "             logFC       CI.L        CI.R        AveExpr  t        \n",
       "TTGATCATTCCG -0.05855083 -0.06168186 -0.05541980 14.78360 -36.74795\n",
       "ACTTGCGTAACG -0.04979411 -0.05271880 -0.04686942 15.17380 -33.45690\n",
       "ACGACTAAGTTG -0.07016929 -0.07451912 -0.06581947 13.70674 -31.70022\n",
       "AGTCGCATTGAG -0.11348543 -0.12296060 -0.10401026 11.17952 -23.53642\n",
       "CCATCCGCGGGT  0.03628630  0.03242160  0.04015101 14.03756  18.45073\n",
       "CCAGGCAGCGAC  0.02447928  0.02179577  0.02716279 16.18265  17.92597\n",
       "             P.Value       adj.P.Val     B       \n",
       "TTGATCATTCCG 3.220499e-139 1.352609e-137 666.3858\n",
       "ACTTGCGTAACG 1.584710e-125 3.327891e-124 550.9011\n",
       "ACGACTAAGTTG 5.553795e-118 7.775314e-117 493.6903\n",
       "AGTCGCATTGAG  4.403615e-81  4.623796e-80 268.2958\n",
       "CCATCCGCGGGT  2.336703e-57  1.962831e-56 161.5652\n",
       "CCAGGCAGCGAC  6.183818e-55  4.328673e-54 152.0238"
      ]
     },
     "metadata": {},
     "output_type": "display_data"
    },
    {
     "name": "stdout",
     "output_type": "stream",
     "text": [
      "       (Intercept) gen rep2 rep3 rep4 rep5 rep6\n",
      "Down             0  18    0    0    0    0    0\n",
      "NotSig           0   6   42   42   42   42   42\n",
      "Up              42  18    0    0    0    0    0\n"
     ]
    },
    {
     "data": {
      "text/html": [
       "<table>\n",
       "<caption>A data.frame: 6 × 8</caption>\n",
       "<thead>\n",
       "\t<tr><th></th><th scope=col>logFC</th><th scope=col>CI.L</th><th scope=col>CI.R</th><th scope=col>AveExpr</th><th scope=col>t</th><th scope=col>P.Value</th><th scope=col>adj.P.Val</th><th scope=col>B</th></tr>\n",
       "\t<tr><th></th><th scope=col>&lt;dbl&gt;</th><th scope=col>&lt;dbl&gt;</th><th scope=col>&lt;dbl&gt;</th><th scope=col>&lt;dbl&gt;</th><th scope=col>&lt;dbl&gt;</th><th scope=col>&lt;dbl&gt;</th><th scope=col>&lt;dbl&gt;</th><th scope=col>&lt;dbl&gt;</th></tr>\n",
       "</thead>\n",
       "<tbody>\n",
       "\t<tr><th scope=row>TTGATCATTCCG</th><td>-0.05940322</td><td>-0.06315730</td><td>-0.05564914</td><td>14.45130</td><td>-31.95337</td><td>1.150286e-30</td><td>4.831202e-29</td><td>59.81155</td></tr>\n",
       "\t<tr><th scope=row>ACTTGCGTAACG</th><td>-0.05825105</td><td>-0.06221911</td><td>-0.05428299</td><td>14.95854</td><td>-29.64393</td><td>2.220315e-29</td><td>4.662661e-28</td><td>56.81510</td></tr>\n",
       "\t<tr><th scope=row>ACGACTAAGTTG</th><td>-0.07126394</td><td>-0.07651455</td><td>-0.06601334</td><td>13.36329</td><td>-27.40757</td><td>4.803858e-28</td><td>6.725401e-27</td><td>53.69907</td></tr>\n",
       "\t<tr><th scope=row>TACTTCGCACTC</th><td>-0.05943975</td><td>-0.06665487</td><td>-0.05222463</td><td>12.30286</td><td>-16.63580</td><td>7.183031e-20</td><td>6.714627e-19</td><td>34.56951</td></tr>\n",
       "\t<tr><th scope=row>CCATCCGCGGGT</th><td> 0.03355705</td><td> 0.02947157</td><td> 0.03764253</td><td>14.17652</td><td> 16.58635</td><td>7.993603e-20</td><td>6.714627e-19</td><td>34.46074</td></tr>\n",
       "\t<tr><th scope=row>TTGCCATTGTCC</th><td> 0.03443383</td><td> 0.02995674</td><td> 0.03891091</td><td>13.84756</td><td> 15.53103</td><td>8.299670e-19</td><td>5.809769e-18</td><td>32.08033</td></tr>\n",
       "</tbody>\n",
       "</table>\n"
      ],
      "text/latex": [
       "A data.frame: 6 × 8\n",
       "\\begin{tabular}{r|llllllll}\n",
       "  & logFC & CI.L & CI.R & AveExpr & t & P.Value & adj.P.Val & B\\\\\n",
       "  & <dbl> & <dbl> & <dbl> & <dbl> & <dbl> & <dbl> & <dbl> & <dbl>\\\\\n",
       "\\hline\n",
       "\tTTGATCATTCCG & -0.05940322 & -0.06315730 & -0.05564914 & 14.45130 & -31.95337 & 1.150286e-30 & 4.831202e-29 & 59.81155\\\\\n",
       "\tACTTGCGTAACG & -0.05825105 & -0.06221911 & -0.05428299 & 14.95854 & -29.64393 & 2.220315e-29 & 4.662661e-28 & 56.81510\\\\\n",
       "\tACGACTAAGTTG & -0.07126394 & -0.07651455 & -0.06601334 & 13.36329 & -27.40757 & 4.803858e-28 & 6.725401e-27 & 53.69907\\\\\n",
       "\tTACTTCGCACTC & -0.05943975 & -0.06665487 & -0.05222463 & 12.30286 & -16.63580 & 7.183031e-20 & 6.714627e-19 & 34.56951\\\\\n",
       "\tCCATCCGCGGGT &  0.03355705 &  0.02947157 &  0.03764253 & 14.17652 &  16.58635 & 7.993603e-20 & 6.714627e-19 & 34.46074\\\\\n",
       "\tTTGCCATTGTCC &  0.03443383 &  0.02995674 &  0.03891091 & 13.84756 &  15.53103 & 8.299670e-19 & 5.809769e-18 & 32.08033\\\\\n",
       "\\end{tabular}\n"
      ],
      "text/markdown": [
       "\n",
       "A data.frame: 6 × 8\n",
       "\n",
       "| <!--/--> | logFC &lt;dbl&gt; | CI.L &lt;dbl&gt; | CI.R &lt;dbl&gt; | AveExpr &lt;dbl&gt; | t &lt;dbl&gt; | P.Value &lt;dbl&gt; | adj.P.Val &lt;dbl&gt; | B &lt;dbl&gt; |\n",
       "|---|---|---|---|---|---|---|---|---|\n",
       "| TTGATCATTCCG | -0.05940322 | -0.06315730 | -0.05564914 | 14.45130 | -31.95337 | 1.150286e-30 | 4.831202e-29 | 59.81155 |\n",
       "| ACTTGCGTAACG | -0.05825105 | -0.06221911 | -0.05428299 | 14.95854 | -29.64393 | 2.220315e-29 | 4.662661e-28 | 56.81510 |\n",
       "| ACGACTAAGTTG | -0.07126394 | -0.07651455 | -0.06601334 | 13.36329 | -27.40757 | 4.803858e-28 | 6.725401e-27 | 53.69907 |\n",
       "| TACTTCGCACTC | -0.05943975 | -0.06665487 | -0.05222463 | 12.30286 | -16.63580 | 7.183031e-20 | 6.714627e-19 | 34.56951 |\n",
       "| CCATCCGCGGGT |  0.03355705 |  0.02947157 |  0.03764253 | 14.17652 |  16.58635 | 7.993603e-20 | 6.714627e-19 | 34.46074 |\n",
       "| TTGCCATTGTCC |  0.03443383 |  0.02995674 |  0.03891091 | 13.84756 |  15.53103 | 8.299670e-19 | 5.809769e-18 | 32.08033 |\n",
       "\n"
      ],
      "text/plain": [
       "             logFC       CI.L        CI.R        AveExpr  t        \n",
       "TTGATCATTCCG -0.05940322 -0.06315730 -0.05564914 14.45130 -31.95337\n",
       "ACTTGCGTAACG -0.05825105 -0.06221911 -0.05428299 14.95854 -29.64393\n",
       "ACGACTAAGTTG -0.07126394 -0.07651455 -0.06601334 13.36329 -27.40757\n",
       "TACTTCGCACTC -0.05943975 -0.06665487 -0.05222463 12.30286 -16.63580\n",
       "CCATCCGCGGGT  0.03355705  0.02947157  0.03764253 14.17652  16.58635\n",
       "TTGCCATTGTCC  0.03443383  0.02995674  0.03891091 13.84756  15.53103\n",
       "             P.Value      adj.P.Val    B       \n",
       "TTGATCATTCCG 1.150286e-30 4.831202e-29 59.81155\n",
       "ACTTGCGTAACG 2.220315e-29 4.662661e-28 56.81510\n",
       "ACGACTAAGTTG 4.803858e-28 6.725401e-27 53.69907\n",
       "TACTTCGCACTC 7.183031e-20 6.714627e-19 34.56951\n",
       "CCATCCGCGGGT 7.993603e-20 6.714627e-19 34.46074\n",
       "TTGCCATTGTCC 8.299670e-19 5.809769e-18 32.08033"
      ]
     },
     "metadata": {},
     "output_type": "display_data"
    }
   ],
   "source": [
    "# limma-trend -- tp135\n",
    "logCPM <- cpm(dge_tp135, log=TRUE, prior.count=3)\n",
    "fit <- lmFit(logCPM, design_tp135)\n",
    "fit <- eBayes(fit, trend=TRUE)\n",
    "\n",
    "# this shows what number of effect are differnt from zero for each variable \n",
    "print(summary(decideTests(fit)))\n",
    "# show results\n",
    "results = topTable(fit,coef=2, number = 1000, confint=TRUE)\n",
    "head(results)\n",
    "\n",
    "write.table(results, \n",
    "            file= sub(\".txt\", \"_tp135.txt\", limma_output_file), \n",
    "            sep=\"\\t\", quote = FALSE,na = \"\", row.names = TRUE, col.names = TRUE)\n",
    "\n",
    "\n",
    "\n",
    "# limma-trend -- tp246\n",
    "logCPM <- cpm(dge_tp246, log=TRUE, prior.count=3)\n",
    "fit <- lmFit(logCPM, design_tp246)\n",
    "fit <- eBayes(fit, trend=TRUE)\n",
    "\n",
    "# this shows what number of effect are differnt from zero for each variable \n",
    "print(summary(decideTests(fit)))\n",
    "# show results\n",
    "results = topTable(fit,coef=2, number = 1000, confint=TRUE)\n",
    "head(results)\n",
    "\n",
    "write.table(results, \n",
    "            file= sub(\".txt\", \"_tp246.txt\", limma_output_file), \n",
    "            sep=\"\\t\", quote = FALSE,na = \"\", row.names = TRUE, col.names = TRUE)"
   ]
  }
 ],
 "metadata": {
  "kernelspec": {
   "display_name": "R",
   "language": "R",
   "name": "ir"
  },
  "language_info": {
   "codemirror_mode": "r",
   "file_extension": ".r",
   "mimetype": "text/x-r-source",
   "name": "R",
   "pygments_lexer": "r",
   "version": "3.6.3"
  }
 },
 "nbformat": 4,
 "nbformat_minor": 2
}
