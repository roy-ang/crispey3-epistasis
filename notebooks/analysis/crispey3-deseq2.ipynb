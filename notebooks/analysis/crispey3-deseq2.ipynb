{
 "cells": [
  {
   "cell_type": "markdown",
   "metadata": {},
   "source": [
    "# Analyze ladder pilot counts in DESeq2"
   ]
  },
  {
   "cell_type": "code",
   "execution_count": 1,
   "metadata": {
    "scrolled": true
   },
   "outputs": [
    {
     "name": "stderr",
     "output_type": "stream",
     "text": [
      "\n",
      "Attaching package: ‘dplyr’\n",
      "\n",
      "\n",
      "The following objects are masked from ‘package:data.table’:\n",
      "\n",
      "    between, first, last\n",
      "\n",
      "\n",
      "The following objects are masked from ‘package:stats’:\n",
      "\n",
      "    filter, lag\n",
      "\n",
      "\n",
      "The following objects are masked from ‘package:base’:\n",
      "\n",
      "    intersect, setdiff, setequal, union\n",
      "\n",
      "\n",
      "Loading required package: S4Vectors\n",
      "\n",
      "Loading required package: stats4\n",
      "\n",
      "Loading required package: BiocGenerics\n",
      "\n",
      "Loading required package: parallel\n",
      "\n",
      "\n",
      "Attaching package: ‘BiocGenerics’\n",
      "\n",
      "\n",
      "The following objects are masked from ‘package:parallel’:\n",
      "\n",
      "    clusterApply, clusterApplyLB, clusterCall, clusterEvalQ,\n",
      "    clusterExport, clusterMap, parApply, parCapply, parLapply,\n",
      "    parLapplyLB, parRapply, parSapply, parSapplyLB\n",
      "\n",
      "\n",
      "The following objects are masked from ‘package:dplyr’:\n",
      "\n",
      "    combine, intersect, setdiff, union\n",
      "\n",
      "\n",
      "The following objects are masked from ‘package:stats’:\n",
      "\n",
      "    IQR, mad, sd, var, xtabs\n",
      "\n",
      "\n",
      "The following objects are masked from ‘package:base’:\n",
      "\n",
      "    anyDuplicated, append, as.data.frame, basename, cbind, colnames,\n",
      "    dirname, do.call, duplicated, eval, evalq, Filter, Find, get, grep,\n",
      "    grepl, intersect, is.unsorted, lapply, Map, mapply, match, mget,\n",
      "    order, paste, pmax, pmax.int, pmin, pmin.int, Position, rank,\n",
      "    rbind, Reduce, rownames, sapply, setdiff, sort, table, tapply,\n",
      "    union, unique, unsplit, which, which.max, which.min\n",
      "\n",
      "\n",
      "\n",
      "Attaching package: ‘S4Vectors’\n",
      "\n",
      "\n",
      "The following objects are masked from ‘package:dplyr’:\n",
      "\n",
      "    first, rename\n",
      "\n",
      "\n",
      "The following objects are masked from ‘package:data.table’:\n",
      "\n",
      "    first, second\n",
      "\n",
      "\n",
      "The following object is masked from ‘package:base’:\n",
      "\n",
      "    expand.grid\n",
      "\n",
      "\n",
      "Loading required package: IRanges\n",
      "\n",
      "\n",
      "Attaching package: ‘IRanges’\n",
      "\n",
      "\n",
      "The following objects are masked from ‘package:dplyr’:\n",
      "\n",
      "    collapse, desc, slice\n",
      "\n",
      "\n",
      "The following object is masked from ‘package:data.table’:\n",
      "\n",
      "    shift\n",
      "\n",
      "\n",
      "Loading required package: GenomicRanges\n",
      "\n",
      "Loading required package: GenomeInfoDb\n",
      "\n",
      "Loading required package: SummarizedExperiment\n",
      "\n",
      "Loading required package: Biobase\n",
      "\n",
      "Welcome to Bioconductor\n",
      "\n",
      "    Vignettes contain introductory material; view with\n",
      "    'browseVignettes()'. To cite Bioconductor, see\n",
      "    'citation(\"Biobase\")', and for packages 'citation(\"pkgname\")'.\n",
      "\n",
      "\n",
      "Loading required package: DelayedArray\n",
      "\n",
      "Loading required package: matrixStats\n",
      "\n",
      "\n",
      "Attaching package: ‘matrixStats’\n",
      "\n",
      "\n",
      "The following objects are masked from ‘package:Biobase’:\n",
      "\n",
      "    anyMissing, rowMedians\n",
      "\n",
      "\n",
      "The following object is masked from ‘package:dplyr’:\n",
      "\n",
      "    count\n",
      "\n",
      "\n",
      "Loading required package: BiocParallel\n",
      "\n",
      "\n",
      "Attaching package: ‘DelayedArray’\n",
      "\n",
      "\n",
      "The following objects are masked from ‘package:matrixStats’:\n",
      "\n",
      "    colMaxs, colMins, colRanges, rowMaxs, rowMins, rowRanges\n",
      "\n",
      "\n",
      "The following objects are masked from ‘package:base’:\n",
      "\n",
      "    aperm, apply, rowsum\n",
      "\n",
      "\n"
     ]
    }
   ],
   "source": [
    "library(\"data.table\")\n",
    "library(\"dplyr\")\n",
    "library(\"DESeq2\")\n",
    "# for parallelization\n",
    "library(\"BiocParallel\")\n",
    "register(MulticoreParam(8))\n",
    "# for parsing barcode IDs\n",
    "library(\"stringr\")\n",
    "\n",
    "setwd(\"/home/users/rang/scratch/yeast/crispey3/gxg_bya_aug2021/\")"
   ]
  },
  {
   "cell_type": "markdown",
   "metadata": {},
   "source": [
    "## Setup path to files"
   ]
  },
  {
   "cell_type": "code",
   "execution_count": 9,
   "metadata": {
    "scrolled": true
   },
   "outputs": [
    {
     "name": "stderr",
     "output_type": "stream",
     "text": [
      "Warning message in dir.create(\"./deseq/\"):\n",
      "“'./deseq' already exists”\n"
     ]
    },
    {
     "name": "stdout",
     "output_type": "stream",
     "text": [
      "[1] \"Input files:\"\n",
      "[1] \"./gxg_bya_aug2021_samples.txt\"\n",
      "[1] \"./counts/barcode_counts.txt\"\n",
      "[1] \"Output files:\"\n",
      "[1] \"./deseq/gxg_bya_aug2021_umi_results.txt\"\n"
     ]
    }
   ],
   "source": [
    "# samples info file\n",
    "samples_info_file = \"./gxg_bya_aug2021_samples.txt\"\n",
    "# counts file\n",
    "# counts_file = \"./counts/stacked_barcode_counts.txt\"\n",
    "counts_file = \"./counts/barcode_counts.txt\"\n",
    "\n",
    "# output directory\n",
    "dir.create(\"./deseq/\")\n",
    "# deseq results file\n",
    "# deseq_output_file= \"./deseq/gxg_bya_aug2021_results.txt\"\n",
    "deseq_output_file= \"./deseq/gxg_bya_aug2021_umi_results.txt\"\n",
    "\n",
    "print(\"Input files:\")\n",
    "print(samples_info_file)\n",
    "print(counts_file)\n",
    "print(\"Output files:\")\n",
    "print(deseq_output_file)"
   ]
  },
  {
   "cell_type": "markdown",
   "metadata": {},
   "source": [
    "## Load samples info, barcode counts"
   ]
  },
  {
   "cell_type": "code",
   "execution_count": 10,
   "metadata": {
    "scrolled": true
   },
   "outputs": [],
   "source": [
    "# loading samples\n",
    "samples <- read.table(file = samples_info_file, header = TRUE, sep = '\\t', row.names = 1)\n",
    "samples$rep = factor(samples$rep)\n",
    "\n",
    "# loading counts\n",
    "counts <- fread(counts_file, header=TRUE, sep = '\\t', na.strings=\"\", data.table=TRUE)\n",
    "# order counts by samples table\n",
    "setcolorder(counts, c('barcode', rownames(samples)))"
   ]
  },
  {
   "cell_type": "markdown",
   "metadata": {},
   "source": [
    "## Run DESeq with default settings to obtain barcode logFC values in CRISPEY competition\n",
    "Assumes all samples are biological replicates of the same competition setup"
   ]
  },
  {
   "cell_type": "code",
   "execution_count": 11,
   "metadata": {
    "scrolled": true
   },
   "outputs": [
    {
     "name": "stderr",
     "output_type": "stream",
     "text": [
      "  the design formula contains one or more numeric variables that have mean or\n",
      "  standard deviation larger than 5 (an arbitrary threshold to trigger this message).\n",
      "  it is generally a good idea to center and scale numeric variables in the design\n",
      "  to improve GLM convergence.\n",
      "\n"
     ]
    },
    {
     "data": {
      "text/plain": [
       "class: DESeqDataSet \n",
       "dim: 32078 15 \n",
       "metadata(1): version\n",
       "assays(1): counts\n",
       "rownames(32078): 001_022-6 001_045-6 ... Ladder_043-3 Ladder_043-4\n",
       "rowData names(0):\n",
       "colnames(15): BYA-t1-1 BYA-t1-2 ... BYA-t13-2 BYA-t13-3\n",
       "colData names(2): gen rep"
      ]
     },
     "metadata": {},
     "output_type": "display_data"
    },
    {
     "name": "stderr",
     "output_type": "stream",
     "text": [
      "estimating size factors\n",
      "\n",
      "estimating dispersions\n",
      "\n",
      "gene-wise dispersion estimates: 8 workers\n",
      "\n",
      "mean-dispersion relationship\n",
      "\n",
      "final dispersion estimates, fitting model and testing: 8 workers\n",
      "\n"
     ]
    }
   ],
   "source": [
    "# Default DESeq workflow\n",
    "dds <- DESeqDataSetFromMatrix(countData = as.matrix(counts, rownames = 1),\n",
    "                              colData = samples,\n",
    "                              design= ~gen+rep)\n",
    "dds\n",
    "\n",
    "# filter barcodes that do not meet minimum read cutoff\n",
    "# total_reads_cutoff = 1000 # conservative cutoff\n",
    "total_reads_cutoff = 150 # 10 reads per sample\n",
    "keep <- rowSums(counts(dds)) >= total_reads_cutoff\n",
    "dds <- dds[keep,]\n",
    "\n",
    "# run DEseq on default settings\n",
    "dds <- DESeq(dds, parallel=TRUE)"
   ]
  },
  {
   "cell_type": "code",
   "execution_count": 12,
   "metadata": {
    "scrolled": true
   },
   "outputs": [
    {
     "name": "stdout",
     "output_type": "stream",
     "text": [
      "\n",
      "out of 27661 with nonzero total read count\n",
      "adjusted p-value < 0.05\n",
      "LFC > 0 (up)       : 8283, 30%\n",
      "LFC < 0 (down)     : 8807, 32%\n",
      "outliers [1]       : 0, 0%\n",
      "low counts [2]     : 0, 0%\n",
      "(mean count < 9)\n",
      "[1] see 'cooksCutoff' argument of ?results\n",
      "[2] see 'independentFiltering' argument of ?results\n",
      "\n"
     ]
    },
    {
     "data": {
      "text/plain": [
       "log2 fold change (MLE): gen \n",
       "Wald test p-value: gen \n",
       "DataFrame with 27661 rows and 6 columns\n",
       "                  baseMean        log2FoldChange                lfcSE\n",
       "                 <numeric>             <numeric>            <numeric>\n",
       "047_121-4 3495.62565319293   -0.0226017083924747 0.000547720039634798\n",
       "047_121-6 3150.15685766237   -0.0290856121276593 0.000769539422939968\n",
       "061_121-3 2711.61973720458   -0.0262657909379971 0.000753703066762615\n",
       "044_078-5 1384.65631552339    0.0668437662632251  0.00194218285678182\n",
       "047_121-3  3285.5164241415   -0.0331885439355236  0.00100742797060434\n",
       "...                    ...                   ...                  ...\n",
       "042_094-4 71.8666118576679  4.75329305677299e-06  0.00584139140055678\n",
       "045_013-2 897.881114635419   6.7745670673461e-07  0.00151837457667883\n",
       "045_117-5 811.446206093225 -3.98736236793644e-07  0.00117861694680714\n",
       "068_073-2 58.7434160347429  4.64534345628324e-06   0.0138625475590925\n",
       "068_073-3 79.7726660008753  1.50090732618533e-06  0.00534698255084091\n",
       "                          stat                pvalue                  padj\n",
       "                     <numeric>             <numeric>             <numeric>\n",
       "047_121-4    -41.2650747771522                     0                     0\n",
       "047_121-6    -37.7961300754936                     0                     0\n",
       "061_121-3    -34.8489903999154 4.41025072590694e-266 4.06639817764373e-262\n",
       "044_078-5     34.4168243632757 1.41263976866282e-259 9.76875716024558e-256\n",
       "047_121-3    -32.9438380747105 5.18362026043152e-238 2.86768240047593e-234\n",
       "...                        ...                   ...                   ...\n",
       "042_094-4  0.00081372617084346     0.999350740523214     0.999495275467788\n",
       "045_013-2 0.000446172319492088     0.999644006006631     0.999752435105554\n",
       "045_117-5 -0.00033830858946481     0.999730068804828      0.99976877229533\n",
       "068_073-2 0.000335100271900337     0.999732628671734      0.99976877229533\n",
       "068_073-3 0.000280701743817975     0.999776032415358     0.999776032415358"
      ]
     },
     "metadata": {},
     "output_type": "display_data"
    }
   ],
   "source": [
    "# view results summary\n",
    "res <- results(dds, name='gen', alpha=0.05)\n",
    "summary(res)\n",
    "\n",
    "# view table of results sorted by pvalue\n",
    "resOrdered <- res[order(res$pvalue),]\n",
    "resOrdered\n",
    "\n",
    "# export results to file\n",
    "fwrite(as.data.frame(resOrdered), file=deseq_output_file, sep=\"\\t\", quote=FALSE, row.names=TRUE, col.names=TRUE)"
   ]
  },
  {
   "cell_type": "markdown",
   "metadata": {},
   "source": [
    "## To measure fitness relative to neutral barcodes, specify neutral set in controlGenes when estimating size factors and recalculate logFC"
   ]
  },
  {
   "cell_type": "code",
   "execution_count": 13,
   "metadata": {},
   "outputs": [],
   "source": [
    "# table of neutral oligos and their associated barcodes\n",
    "neutral_oligos_file <- \"/home/users/rang/crispey3/library_design/Output/crispey3_neutral_oligos_only.txt\"\n",
    "neutral_oligos <- fread(file = neutral_oligos_file, header = TRUE, sep = '\\t', data.table=FALSE)\n",
    "\n",
    "# get neutral barcode set\n",
    "neutral_barcodes <- counts$barcode[str_split(counts$barcode, '-', simplify=TRUE)[,1] %in% neutral_oligos$barcode_id]"
   ]
  },
  {
   "cell_type": "code",
   "execution_count": 14,
   "metadata": {},
   "outputs": [
    {
     "name": "stderr",
     "output_type": "stream",
     "text": [
      "  the design formula contains one or more numeric variables that have mean or\n",
      "  standard deviation larger than 5 (an arbitrary threshold to trigger this message).\n",
      "  it is generally a good idea to center and scale numeric variables in the design\n",
      "  to improve GLM convergence.\n",
      "\n",
      "gene-wise dispersion estimates\n",
      "\n",
      "mean-dispersion relationship\n",
      "\n",
      "final dispersion estimates\n",
      "\n"
     ]
    }
   ],
   "source": [
    "# re-run DESeq with specified neutral set\n",
    "dds <- DESeqDataSetFromMatrix(countData = as.matrix(counts, rownames = 1),\n",
    "                              colData = samples,\n",
    "                              design= ~gen+rep)\n",
    "\n",
    "# filter barcodes that do not meet minimum read cutoff\n",
    "# total_reads_cutoff = 1000 # conservative cutoff\n",
    "total_reads_cutoff = 150 # 10 reads per sample, considered bare minimum\n",
    "keep <- rowSums(counts(dds)) >= total_reads_cutoff\n",
    "dds <- dds[keep,]\n",
    "\n",
    "# estimate size factors, specifying neutral barcodes under controlGenes\n",
    "dds <- estimateSizeFactors(dds, controlGenes=grep(paste(neutral_barcodes, collapse=\"|\"), rownames(dds)))\n",
    "# estimate dispersion\n",
    "dds <- estimateDispersions(dds)\n",
    "# calculate logFC\n",
    "dds <- nbinomWaldTest(dds)"
   ]
  },
  {
   "cell_type": "code",
   "execution_count": 15,
   "metadata": {
    "scrolled": true
   },
   "outputs": [
    {
     "name": "stdout",
     "output_type": "stream",
     "text": [
      "\n",
      "out of 27661 with nonzero total read count\n",
      "adjusted p-value < 0.05\n",
      "LFC > 0 (up)       : 6295, 23%\n",
      "LFC < 0 (down)     : 10946, 40%\n",
      "outliers [1]       : 0, 0%\n",
      "low counts [2]     : 0, 0%\n",
      "(mean count < 10)\n",
      "[1] see 'cooksCutoff' argument of ?results\n",
      "[2] see 'independentFiltering' argument of ?results\n",
      "\n"
     ]
    },
    {
     "data": {
      "text/plain": [
       "log2 fold change (MLE): gen \n",
       "Wald test p-value: gen \n",
       "DataFrame with 27661 rows and 6 columns\n",
       "                  baseMean       log2FoldChange                lfcSE\n",
       "                 <numeric>            <numeric>            <numeric>\n",
       "047_121-4 3538.57706113862  -0.0244489126830365 0.000558650612357991\n",
       "047_121-6 3195.69046672959  -0.0309545096426945 0.000837175222329178\n",
       "061_121-3 2748.33705869788  -0.0281224018023505 0.000778324495565551\n",
       "047_121-3 3336.55653831723   -0.035071211415918  0.00104697778203243\n",
       "073_121-4 2578.36383537885  -0.0280762312866567 0.000841718975033322\n",
       "...                    ...                  ...                  ...\n",
       "048_097-4  291.07050328049 2.55702129150978e-06  0.00339469821425607\n",
       "065_021-6 804.249093980508 9.10506412869197e-07  0.00130977351565253\n",
       "056_015-2 718.424769674904 8.21157572798714e-07  0.00139149693654893\n",
       "071_097-4 4807.75789400708 3.98828321649142e-07 0.000778985495085711\n",
       "035_001-1 606.534041881413 2.36366000809452e-07  0.00149845249806366\n",
       "                          stat                pvalue                  padj\n",
       "                     <numeric>             <numeric>             <numeric>\n",
       "047_121-4    -43.7642278415141                     0                     0\n",
       "047_121-6    -36.9749471999103 2.89452359524212e-299 4.00327085839962e-295\n",
       "061_121-3    -36.1319757537838 7.14038404125278e-286 6.58367209883644e-282\n",
       "047_121-3    -33.4975698795025 5.22881927777983e-246  3.6158592510667e-242\n",
       "073_121-4    -33.3558255420643 5.99720381372095e-244  3.3177730938267e-240\n",
       "...                        ...                   ...                   ...\n",
       "048_097-4  0.00075323964904201     0.999399001770276     0.999543543694819\n",
       "065_021-6 0.000695163249209219     0.999445340020892      0.99955374757097\n",
       "056_015-2 0.000590125318446821     0.999529148146801     0.999601423293997\n",
       "071_097-4 0.000511984272063063     0.999591495671794     0.999627634192968\n",
       "035_001-1 0.000157740069248035     0.999874141634649     0.999874141634649"
      ]
     },
     "metadata": {},
     "output_type": "display_data"
    }
   ],
   "source": [
    "# view results summary\n",
    "res <- results(dds, name='gen', alpha=0.05)\n",
    "summary(res)\n",
    "\n",
    "# view table of results sorted by pvalue\n",
    "resOrdered <- res[order(res$pvalue),]\n",
    "resOrdered\n",
    "\n",
    "# export results to file\n",
    "fwrite(as.data.frame(resOrdered), file=deseq_output_file, sep=\"\\t\", quote=FALSE, row.names=TRUE, col.names=TRUE)"
   ]
  },
  {
   "cell_type": "markdown",
   "metadata": {},
   "source": [
    "## To measure the effect of a treatment on fitness effect, add the treatment variable to the dds design and re-run DEseq\n",
    "New design should include the <code>gen\\*cond</code> and <code>rep\\*cond</code> interaction terms.<br>\n",
    "Ensure that the samples file contains the <code>cond</code> column indicating the treatment status of each sample.<br>\n",
    "Pseudo-conditions can be created between competition replicates to test for possible variance between competition batches (e.g. rep123 vs rep456). logFC values calculated this way should be the same as when each condition's samples is run in DESeq2 separately."
   ]
  },
  {
   "cell_type": "code",
   "execution_count": null,
   "metadata": {},
   "outputs": [],
   "source": [
    "# samples file with condition label\n",
    "samples_cond_file <- \"./ladder_pilot_samples_pseudoConditions.txt\"\n",
    "# loading samples\n",
    "samples_cond <- read.table(file = samples_cond_file, header = TRUE, sep = '\\t', row.names = 1)\n",
    "samples_cond$rep = factor(samples_cond$rep)"
   ]
  },
  {
   "cell_type": "code",
   "execution_count": null,
   "metadata": {},
   "outputs": [],
   "source": [
    "# re-run DESeq\n",
    "dds2 <- DESeqDataSetFromMatrix(countData = as.matrix(counts, rownames = 1),\n",
    "                                         colData = samples_cond,\n",
    "                                         design= ~gen+rep+cond+gen:cond+rep:cond)\n",
    "\n",
    "# filter barcodes that do not meet minimum read cutoff\n",
    "total_reads_cutoff = 1000 # conservative cutoff\n",
    "# total_reads_cutoff = 150 # 10 reads per sample, considered bare minimum\n",
    "keep <- rowSums(counts(dds2)) >= total_reads_cutoff\n",
    "dds2 <- dds2[keep,]\n",
    "\n",
    "# estimate size factors, specifying neutral oligos as control genes\n",
    "dds2 <- estimateSizeFactors(dds2, controlGenes=grep(paste(neutral_barcodes, collapse=\"|\"), rownames(dds2)))\n",
    "# estimate dispersion\n",
    "dds2 <- estimateDispersions(dds2)\n",
    "# calculate logFC\n",
    "dds2 <- nbinomWaldTest(dds2)"
   ]
  },
  {
   "cell_type": "markdown",
   "metadata": {},
   "source": [
    "## To view condition-specific fitness, specify contrast when viewing results\n",
    "If multiple conditions are present, fitness changes between non-reference conditions can be compared directly by specifying: <code>results(dds2, contrast=list(\"gen.condC\", \"gen.condB\"))</code>"
   ]
  },
  {
   "cell_type": "code",
   "execution_count": null,
   "metadata": {},
   "outputs": [],
   "source": [
    "# view all terms in deseq model\n",
    "resultsNames(dds2)\n",
    "\n",
    "# view results:\n",
    "### fitness in cond A (control)\n",
    "res2 <- results(dds2, name='gen')\n",
    "summary(res2)\n",
    "\n",
    "### fitness in cond B (treatment)\n",
    "res3 <- results(dds2, contrast=list( c(\"gen\",\"gen.condB\") ))\n",
    "summary(res3)\n",
    "\n",
    "### changes in fitness between cond A and B\n",
    "res4 <- results(dds2, name='gen.condB')\n",
    "summary(res4)\n",
    "\n",
    "# for fitness in cond A, view table of results sorted by pvalue\n",
    "resOrdered2 <- res2[order(res2$pvalue),]\n",
    "resOrdered2\n",
    "\n",
    "# # export results to file\n",
    "# fwrite(as.data.frame(resOrdered2), file=\"deseq_fitness_condA.txt\", sep=\"\\t\", quote=FALSE, row.names=TRUE, col.names=TRUE)"
   ]
  }
 ],
 "metadata": {
  "kernelspec": {
   "display_name": "R",
   "language": "R",
   "name": "ir"
  },
  "language_info": {
   "codemirror_mode": "r",
   "file_extension": ".r",
   "mimetype": "text/x-r-source",
   "name": "R",
   "pygments_lexer": "r",
   "version": "3.6.3"
  }
 },
 "nbformat": 4,
 "nbformat_minor": 2
}
