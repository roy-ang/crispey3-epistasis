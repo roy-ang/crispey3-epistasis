{
 "cells": [
  {
   "cell_type": "markdown",
   "metadata": {},
   "source": [
    "# Analyze ladder pilot counts in DESeq2"
   ]
  },
  {
   "cell_type": "code",
   "execution_count": 1,
   "metadata": {
    "scrolled": true
   },
   "outputs": [
    {
     "name": "stderr",
     "output_type": "stream",
     "text": [
      "\n",
      "Attaching package: ‘dplyr’\n",
      "\n",
      "\n",
      "The following objects are masked from ‘package:data.table’:\n",
      "\n",
      "    between, first, last\n",
      "\n",
      "\n",
      "The following objects are masked from ‘package:stats’:\n",
      "\n",
      "    filter, lag\n",
      "\n",
      "\n",
      "The following objects are masked from ‘package:base’:\n",
      "\n",
      "    intersect, setdiff, setequal, union\n",
      "\n",
      "\n",
      "Loading required package: S4Vectors\n",
      "\n",
      "Loading required package: stats4\n",
      "\n",
      "Loading required package: BiocGenerics\n",
      "\n",
      "Loading required package: parallel\n",
      "\n",
      "\n",
      "Attaching package: ‘BiocGenerics’\n",
      "\n",
      "\n",
      "The following objects are masked from ‘package:parallel’:\n",
      "\n",
      "    clusterApply, clusterApplyLB, clusterCall, clusterEvalQ,\n",
      "    clusterExport, clusterMap, parApply, parCapply, parLapply,\n",
      "    parLapplyLB, parRapply, parSapply, parSapplyLB\n",
      "\n",
      "\n",
      "The following objects are masked from ‘package:dplyr’:\n",
      "\n",
      "    combine, intersect, setdiff, union\n",
      "\n",
      "\n",
      "The following objects are masked from ‘package:stats’:\n",
      "\n",
      "    IQR, mad, sd, var, xtabs\n",
      "\n",
      "\n",
      "The following objects are masked from ‘package:base’:\n",
      "\n",
      "    anyDuplicated, append, as.data.frame, basename, cbind, colnames,\n",
      "    dirname, do.call, duplicated, eval, evalq, Filter, Find, get, grep,\n",
      "    grepl, intersect, is.unsorted, lapply, Map, mapply, match, mget,\n",
      "    order, paste, pmax, pmax.int, pmin, pmin.int, Position, rank,\n",
      "    rbind, Reduce, rownames, sapply, setdiff, sort, table, tapply,\n",
      "    union, unique, unsplit, which, which.max, which.min\n",
      "\n",
      "\n",
      "\n",
      "Attaching package: ‘S4Vectors’\n",
      "\n",
      "\n",
      "The following objects are masked from ‘package:dplyr’:\n",
      "\n",
      "    first, rename\n",
      "\n",
      "\n",
      "The following objects are masked from ‘package:data.table’:\n",
      "\n",
      "    first, second\n",
      "\n",
      "\n",
      "The following object is masked from ‘package:base’:\n",
      "\n",
      "    expand.grid\n",
      "\n",
      "\n",
      "Loading required package: IRanges\n",
      "\n",
      "\n",
      "Attaching package: ‘IRanges’\n",
      "\n",
      "\n",
      "The following objects are masked from ‘package:dplyr’:\n",
      "\n",
      "    collapse, desc, slice\n",
      "\n",
      "\n",
      "The following object is masked from ‘package:data.table’:\n",
      "\n",
      "    shift\n",
      "\n",
      "\n",
      "Loading required package: GenomicRanges\n",
      "\n",
      "Loading required package: GenomeInfoDb\n",
      "\n",
      "Loading required package: SummarizedExperiment\n",
      "\n",
      "Loading required package: Biobase\n",
      "\n",
      "Welcome to Bioconductor\n",
      "\n",
      "    Vignettes contain introductory material; view with\n",
      "    'browseVignettes()'. To cite Bioconductor, see\n",
      "    'citation(\"Biobase\")', and for packages 'citation(\"pkgname\")'.\n",
      "\n",
      "\n",
      "Loading required package: DelayedArray\n",
      "\n",
      "Loading required package: matrixStats\n",
      "\n",
      "\n",
      "Attaching package: ‘matrixStats’\n",
      "\n",
      "\n",
      "The following objects are masked from ‘package:Biobase’:\n",
      "\n",
      "    anyMissing, rowMedians\n",
      "\n",
      "\n",
      "The following object is masked from ‘package:dplyr’:\n",
      "\n",
      "    count\n",
      "\n",
      "\n",
      "Loading required package: BiocParallel\n",
      "\n",
      "\n",
      "Attaching package: ‘DelayedArray’\n",
      "\n",
      "\n",
      "The following objects are masked from ‘package:matrixStats’:\n",
      "\n",
      "    colMaxs, colMins, colRanges, rowMaxs, rowMins, rowRanges\n",
      "\n",
      "\n",
      "The following objects are masked from ‘package:base’:\n",
      "\n",
      "    aperm, apply, rowsum\n",
      "\n",
      "\n"
     ]
    }
   ],
   "source": [
    "library(\"data.table\")\n",
    "library(\"dplyr\")\n",
    "library(\"DESeq2\")\n",
    "# for parallelization\n",
    "library(\"BiocParallel\")\n",
    "register(MulticoreParam(8))\n",
    "# for parsing barcode IDs\n",
    "library(\"stringr\")\n",
    "\n",
    "setwd(\"/home/users/rang/scratch/yeast/crispey3/gxg_bya_aug2021/\")"
   ]
  },
  {
   "cell_type": "markdown",
   "metadata": {},
   "source": [
    "## Setup path to files"
   ]
  },
  {
   "cell_type": "code",
   "execution_count": 2,
   "metadata": {
    "scrolled": true
   },
   "outputs": [
    {
     "name": "stderr",
     "output_type": "stream",
     "text": [
      "Warning message in dir.create(\"./deseq/\"):\n",
      "“'./deseq' already exists”\n"
     ]
    },
    {
     "name": "stdout",
     "output_type": "stream",
     "text": [
      "[1] \"Input files:\"\n",
      "[1] \"./gxg_bya_aug2021_samples.txt\"\n",
      "[1] \"./counts/barcode_counts.txt\"\n",
      "[1] \"Output files:\"\n",
      "[1] \"./deseq/gxg_bya_aug2021_umi_results.txt\"\n"
     ]
    }
   ],
   "source": [
    "# samples info file\n",
    "samples_info_file = \"./gxg_bya_aug2021_samples.txt\"\n",
    "# counts file\n",
    "# counts_file = \"./counts/stacked_barcode_counts.txt\"\n",
    "counts_file = \"./counts/barcode_counts.txt\"\n",
    "\n",
    "# output directory\n",
    "dir.create(\"./deseq/\")\n",
    "# deseq results file\n",
    "# deseq_output_file= \"./deseq/gxg_bya_aug2021_results.txt\"\n",
    "deseq_output_file= \"./deseq/gxg_bya_aug2021_umi_results.txt\"\n",
    "\n",
    "print(\"Input files:\")\n",
    "print(samples_info_file)\n",
    "print(counts_file)\n",
    "print(\"Output files:\")\n",
    "print(deseq_output_file)"
   ]
  },
  {
   "cell_type": "markdown",
   "metadata": {},
   "source": [
    "## Load samples info, barcode counts"
   ]
  },
  {
   "cell_type": "code",
   "execution_count": 3,
   "metadata": {
    "scrolled": true
   },
   "outputs": [],
   "source": [
    "# loading samples\n",
    "samples <- read.table(file = samples_info_file, header = TRUE, sep = '\\t', row.names = 1)\n",
    "samples$rep = factor(samples$rep)\n",
    "\n",
    "# loading counts\n",
    "counts <- fread(counts_file, header=TRUE, sep = '\\t', na.strings=\"\", data.table=TRUE)\n",
    "# order counts by samples table\n",
    "setcolorder(counts, c('barcode', rownames(samples)))"
   ]
  },
  {
   "cell_type": "markdown",
   "metadata": {},
   "source": [
    "## Run DESeq with default settings to obtain barcode logFC values in CRISPEY competition\n",
    "Assumes all samples are biological replicates of the same competition setup"
   ]
  },
  {
   "cell_type": "code",
   "execution_count": 4,
   "metadata": {
    "scrolled": true
   },
   "outputs": [
    {
     "name": "stderr",
     "output_type": "stream",
     "text": [
      "  the design formula contains one or more numeric variables that have mean or\n",
      "  standard deviation larger than 5 (an arbitrary threshold to trigger this message).\n",
      "  it is generally a good idea to center and scale numeric variables in the design\n",
      "  to improve GLM convergence.\n",
      "\n"
     ]
    },
    {
     "data": {
      "text/plain": [
       "class: DESeqDataSet \n",
       "dim: 32078 15 \n",
       "metadata(1): version\n",
       "assays(1): counts\n",
       "rownames(32078): 001_022-6 001_045-6 ... Ladder_043-3 Ladder_043-4\n",
       "rowData names(0):\n",
       "colnames(15): BYA-t1-1 BYA-t1-2 ... BYA-t13-2 BYA-t13-3\n",
       "colData names(2): gen rep"
      ]
     },
     "metadata": {},
     "output_type": "display_data"
    },
    {
     "name": "stderr",
     "output_type": "stream",
     "text": [
      "estimating size factors\n",
      "\n",
      "estimating dispersions\n",
      "\n",
      "gene-wise dispersion estimates: 8 workers\n",
      "\n",
      "mean-dispersion relationship\n",
      "\n",
      "final dispersion estimates, fitting model and testing: 8 workers\n",
      "\n"
     ]
    }
   ],
   "source": [
    "# Default DESeq workflow\n",
    "dds <- DESeqDataSetFromMatrix(countData = as.matrix(counts, rownames = 1),\n",
    "                              colData = samples,\n",
    "                              design= ~gen+rep)\n",
    "dds\n",
    "\n",
    "# filter barcodes that do not meet minimum read cutoff\n",
    "total_reads_cutoff = 1000\n",
    "# total_reads_cutoff = 150 # 10 reads per sample\n",
    "keep <- rowSums(counts(dds)) >= total_reads_cutoff\n",
    "dds <- dds[keep,]\n",
    "\n",
    "# run DEseq on default settings\n",
    "dds <- DESeq(dds, parallel=TRUE)"
   ]
  },
  {
   "cell_type": "code",
   "execution_count": 5,
   "metadata": {
    "scrolled": true
   },
   "outputs": [
    {
     "name": "stdout",
     "output_type": "stream",
     "text": [
      "\n",
      "out of 21016 with nonzero total read count\n",
      "adjusted p-value < 0.05\n",
      "LFC > 0 (up)       : 6450, 31%\n",
      "LFC < 0 (down)     : 6460, 31%\n",
      "outliers [1]       : 0, 0%\n",
      "low counts [2]     : 0, 0%\n",
      "(mean count < 65)\n",
      "[1] see 'cooksCutoff' argument of ?results\n",
      "[2] see 'independentFiltering' argument of ?results\n",
      "\n"
     ]
    },
    {
     "data": {
      "text/plain": [
       "log2 fold change (MLE): gen \n",
       "Wald test p-value: gen \n",
       "DataFrame with 21016 rows and 6 columns\n",
       "                  baseMean        log2FoldChange                lfcSE\n",
       "                 <numeric>             <numeric>            <numeric>\n",
       "047_121-4 3523.73525739594   -0.0236731403089774 0.000552121422124256\n",
       "047_121-6 3179.40531407283   -0.0301722157156849 0.000799794832632027\n",
       "061_121-3 2735.36503367647   -0.0273451623565464  0.00076468622147436\n",
       "044_078-5 1370.97793141205    0.0657431827927165  0.00197657863376068\n",
       "047_121-3 3318.28354563781    -0.034285167171121  0.00104428542677937\n",
       "...                    ...                   ...                  ...\n",
       "047_034-1 6155.53132093995  1.02495582578138e-06 0.000438712099575668\n",
       "046_040-5 95.4556168155088 -9.11489659803861e-06  0.00469053442246579\n",
       "071_029-2 229.262778969708  5.11869372735346e-06  0.00264701041426975\n",
       "074_046-3 2062.66289314876   1.6860081814909e-06 0.000967595698735562\n",
       "058_059-6 3170.65782923556 -6.38892384219036e-07  0.00063429870811698\n",
       "                          stat                pvalue                  padj\n",
       "                     <numeric>             <numeric>             <numeric>\n",
       "047_121-4    -42.8766922643508                     0                     0\n",
       "047_121-6    -37.7249445540825                     0                     0\n",
       "061_121-3    -35.7599778688615 4.62934916310085e-280 3.24301340039091e-276\n",
       "044_078-5      33.261101617613 1.41067775905851e-242 7.41170094609341e-239\n",
       "047_121-3    -32.8312224722491 2.11150406029911e-236 8.87507386624923e-233\n",
       "...                        ...                   ...                   ...\n",
       "047_034-1  0.00233628346875489     0.998135917186384     0.998325929734868\n",
       "046_040-5  -0.0019432533219204     0.998449509152547     0.998552108235841\n",
       "071_029-2  0.00193376410601149     0.998457080437189     0.998552108235841\n",
       "074_046-3  0.00174247176139182     0.998609709387486     0.998657228288718\n",
       "058_059-6 -0.00100724213378219     0.999196337188356     0.999196337188356"
      ]
     },
     "metadata": {},
     "output_type": "display_data"
    }
   ],
   "source": [
    "# view results summary\n",
    "res <- results(dds, name='gen', alpha=0.05)\n",
    "summary(res)\n",
    "\n",
    "# view table of results sorted by pvalue\n",
    "resOrdered <- res[order(res$pvalue),]\n",
    "resOrdered\n",
    "\n",
    "# export results to file\n",
    "fwrite(as.data.frame(resOrdered), file=deseq_output_file, sep=\"\\t\", quote=FALSE, row.names=TRUE, col.names=TRUE)"
   ]
  },
  {
   "cell_type": "markdown",
   "metadata": {},
   "source": [
    "## To measure fitness relative to neutral barcodes, specify neutral set in controlGenes when estimating size factors and recalculate logFC"
   ]
  },
  {
   "cell_type": "code",
   "execution_count": 6,
   "metadata": {},
   "outputs": [],
   "source": [
    "# table of neutral oligos and their associated barcodes\n",
    "neutral_oligos_file <- \"/home/users/rang/crispey3/library_design/Output/crispey3_neutral_oligos_only.txt\"\n",
    "neutral_oligos <- fread(file = neutral_oligos_file, header = TRUE, sep = '\\t', data.table=FALSE)\n",
    "\n",
    "# get neutral barcode set\n",
    "neutral_barcodes <- counts$barcode[str_split(counts$barcode, '-', simplify=TRUE)[,1] %in% neutral_oligos$barcode_id]"
   ]
  },
  {
   "cell_type": "code",
   "execution_count": 7,
   "metadata": {},
   "outputs": [
    {
     "name": "stderr",
     "output_type": "stream",
     "text": [
      "  the design formula contains one or more numeric variables that have mean or\n",
      "  standard deviation larger than 5 (an arbitrary threshold to trigger this message).\n",
      "  it is generally a good idea to center and scale numeric variables in the design\n",
      "  to improve GLM convergence.\n",
      "\n",
      "gene-wise dispersion estimates\n",
      "\n",
      "mean-dispersion relationship\n",
      "\n",
      "final dispersion estimates\n",
      "\n"
     ]
    }
   ],
   "source": [
    "# re-run DESeq with specified neutral set\n",
    "dds <- DESeqDataSetFromMatrix(countData = as.matrix(counts, rownames = 1),\n",
    "                              colData = samples,\n",
    "                              design= ~gen+rep)\n",
    "\n",
    "# filter barcodes that do not meet minimum read cutoff\n",
    "total_reads_cutoff = 1000\n",
    "# total_reads_cutoff = 150 # 10 reads per sample\n",
    "keep <- rowSums(counts(dds)) >= total_reads_cutoff\n",
    "dds <- dds[keep,]\n",
    "\n",
    "# estimate size factors, specifying neutral barcodes under controlGenes\n",
    "dds <- estimateSizeFactors(dds, controlGenes=grep(paste(neutral_barcodes, collapse=\"|\"), rownames(dds)))\n",
    "# estimate dispersion\n",
    "dds <- estimateDispersions(dds)\n",
    "# calculate logFC\n",
    "dds <- nbinomWaldTest(dds)"
   ]
  },
  {
   "cell_type": "code",
   "execution_count": 8,
   "metadata": {
    "scrolled": true
   },
   "outputs": [
    {
     "name": "stdout",
     "output_type": "stream",
     "text": [
      "\n",
      "out of 21016 with nonzero total read count\n",
      "adjusted p-value < 0.05\n",
      "LFC > 0 (up)       : 5387, 26%\n",
      "LFC < 0 (down)     : 7725, 37%\n",
      "outliers [1]       : 0, 0%\n",
      "low counts [2]     : 0, 0%\n",
      "(mean count < 65)\n",
      "[1] see 'cooksCutoff' argument of ?results\n",
      "[2] see 'independentFiltering' argument of ?results\n",
      "\n"
     ]
    },
    {
     "data": {
      "text/plain": [
       "log2 fold change (MLE): gen \n",
       "Wald test p-value: gen \n",
       "DataFrame with 21016 rows and 6 columns\n",
       "                  baseMean        log2FoldChange                lfcSE\n",
       "                 <numeric>             <numeric>            <numeric>\n",
       "047_121-4 3548.48321306587   -0.0247539149147205 0.000565091355041835\n",
       "047_121-6 3205.76057480763   -0.0312660952676455 0.000847596772874003\n",
       "061_121-3 2756.62009290145   -0.0284310811271405 0.000788181019673556\n",
       "047_121-3 3347.65410690894   -0.0353864697476955  0.00106774764631586\n",
       "073_121-4 2586.16329638664   -0.0283885860636768 0.000859083292880379\n",
       "...                    ...                   ...                  ...\n",
       "048_045-6 122.825606126017  8.07220359134424e-06  0.00464757254575967\n",
       "043_062-6 3934.93940750412 -9.28494957400973e-07 0.000539243209397071\n",
       "073_030-6  162.88932799809  6.47315963645418e-06  0.00407303796362289\n",
       "058_044-3 189.835487987736  -2.6688015881864e-06  0.00382197804736487\n",
       "192_032-4 574.878015666393  1.05475555581979e-06  0.00155080854742506\n",
       "                           stat                pvalue                  padj\n",
       "                      <numeric>             <numeric>             <numeric>\n",
       "047_121-4     -43.8051559165826                     0                     0\n",
       "047_121-6     -36.8879357122013 7.21417394187079e-298 7.58065397811783e-294\n",
       "061_121-3     -36.0717657714162 6.28735015093817e-285 4.40449835907056e-281\n",
       "047_121-3     -33.1412294560351 7.57599441815847e-241 3.98042746730046e-237\n",
       "073_121-4     -33.0452079547421 1.82279538606452e-239  7.6615735667064e-236\n",
       "...                         ...                   ...                   ...\n",
       "048_045-6   0.00173686446244053     0.998614183357977     0.998768737193688\n",
       "043_062-6  -0.00172184821472138     0.998626164572277     0.998768737193688\n",
       "073_030-6    0.0015892706363818     0.998731946030098     0.998826999988985\n",
       "058_044-3 -0.000698277581690051     0.999442855143691     0.999457332686279\n",
       "192_032-4   0.00068013266858188     0.999457332686279     0.999457332686279"
      ]
     },
     "metadata": {},
     "output_type": "display_data"
    }
   ],
   "source": [
    "# view results summary\n",
    "res <- results(dds, name='gen', alpha=0.05)\n",
    "summary(res)\n",
    "\n",
    "# view table of results sorted by pvalue\n",
    "resOrdered <- res[order(res$pvalue),]\n",
    "resOrdered\n",
    "\n",
    "# export results to file\n",
    "fwrite(as.data.frame(resOrdered), file=deseq_output_file, sep=\"\\t\", quote=FALSE, row.names=TRUE, col.names=TRUE)"
   ]
  },
  {
   "cell_type": "markdown",
   "metadata": {},
   "source": [
    "## To measure the effect of a treatment on fitness effect, add the treatment variable to the dds design and re-run DEseq\n",
    "New design should include the <code>gen\\*cond</code> and <code>rep\\*cond</code> interaction terms.<br>\n",
    "Ensure that the samples file contains the <code>cond</code> column indicating the treatment status of each sample.<br>\n",
    "Pseudo-conditions can be created between competition replicates to test for possible variance between competition batches (e.g. rep123 vs rep456). logFC values calculated this way should be the same as when each condition's samples is run in DESeq2 separately."
   ]
  },
  {
   "cell_type": "code",
   "execution_count": null,
   "metadata": {},
   "outputs": [],
   "source": [
    "# samples file with condition label\n",
    "samples_cond_file <- \"./ladder_pilot_samples_pseudoConditions.txt\"\n",
    "# loading samples\n",
    "samples_cond <- read.table(file = samples_cond_file, header = TRUE, sep = '\\t', row.names = 1)\n",
    "samples_cond$rep = factor(samples_cond$rep)"
   ]
  },
  {
   "cell_type": "code",
   "execution_count": null,
   "metadata": {},
   "outputs": [],
   "source": [
    "# re-run DESeq\n",
    "dds2 <- DESeqDataSetFromMatrix(countData = as.matrix(counts, rownames = 1),\n",
    "                                         colData = samples_cond,\n",
    "                                         design= ~gen+rep+cond+gen:cond+rep:cond)\n",
    "\n",
    "# filter barcodes that do not meet minimum read cutoff\n",
    "total_reads_cutoff = 1000 # conservative cutoff\n",
    "# total_reads_cutoff = 150 # 10 reads per sample, considered bare minimum\n",
    "keep <- rowSums(counts(dds2)) >= total_reads_cutoff\n",
    "dds2 <- dds2[keep,]\n",
    "\n",
    "# estimate size factors, specifying neutral oligos as control genes\n",
    "dds2 <- estimateSizeFactors(dds2, controlGenes=grep(paste(neutral_barcodes, collapse=\"|\"), rownames(dds2)))\n",
    "# estimate dispersion\n",
    "dds2 <- estimateDispersions(dds2)\n",
    "# calculate logFC\n",
    "dds2 <- nbinomWaldTest(dds2)"
   ]
  },
  {
   "cell_type": "markdown",
   "metadata": {},
   "source": [
    "## To view condition-specific fitness, specify contrast when viewing results\n",
    "If multiple conditions are present, fitness changes between non-reference conditions can be compared directly by specifying: <code>results(dds2, contrast=list(\"gen.condC\", \"gen.condB\"))</code>"
   ]
  },
  {
   "cell_type": "code",
   "execution_count": null,
   "metadata": {},
   "outputs": [],
   "source": [
    "# view all terms in deseq model\n",
    "resultsNames(dds2)\n",
    "\n",
    "# view results:\n",
    "### fitness in cond A (control)\n",
    "res2 <- results(dds2, name='gen')\n",
    "summary(res2)\n",
    "\n",
    "### fitness in cond B (treatment)\n",
    "res3 <- results(dds2, contrast=list( c(\"gen\",\"gen.condB\") ))\n",
    "summary(res3)\n",
    "\n",
    "### changes in fitness between cond A and B\n",
    "res4 <- results(dds2, name='gen.condB')\n",
    "summary(res4)\n",
    "\n",
    "# for fitness in cond A, view table of results sorted by pvalue\n",
    "resOrdered2 <- res2[order(res2$pvalue),]\n",
    "resOrdered2\n",
    "\n",
    "# # export results to file\n",
    "# fwrite(as.data.frame(resOrdered2), file=\"deseq_fitness_condA.txt\", sep=\"\\t\", quote=FALSE, row.names=TRUE, col.names=TRUE)"
   ]
  }
 ],
 "metadata": {
  "kernelspec": {
   "display_name": "R",
   "language": "R",
   "name": "ir"
  },
  "language_info": {
   "codemirror_mode": "r",
   "file_extension": ".r",
   "mimetype": "text/x-r-source",
   "name": "R",
   "pygments_lexer": "r",
   "version": "3.6.3"
  }
 },
 "nbformat": 4,
 "nbformat_minor": 2
}
