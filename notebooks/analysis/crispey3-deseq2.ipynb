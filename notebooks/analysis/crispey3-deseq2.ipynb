{
 "cells": [
  {
   "cell_type": "markdown",
   "metadata": {},
   "source": [
    "# Analyze ladder pilot counts in DESeq2"
   ]
  },
  {
   "cell_type": "code",
   "execution_count": 1,
   "metadata": {
    "scrolled": true
   },
   "outputs": [
    {
     "name": "stderr",
     "output_type": "stream",
     "text": [
      "\n",
      "Attaching package: ‘dplyr’\n",
      "\n",
      "\n",
      "The following objects are masked from ‘package:data.table’:\n",
      "\n",
      "    between, first, last\n",
      "\n",
      "\n",
      "The following objects are masked from ‘package:stats’:\n",
      "\n",
      "    filter, lag\n",
      "\n",
      "\n",
      "The following objects are masked from ‘package:base’:\n",
      "\n",
      "    intersect, setdiff, setequal, union\n",
      "\n",
      "\n",
      "Loading required package: S4Vectors\n",
      "\n",
      "Loading required package: stats4\n",
      "\n",
      "Loading required package: BiocGenerics\n",
      "\n",
      "Loading required package: parallel\n",
      "\n",
      "\n",
      "Attaching package: ‘BiocGenerics’\n",
      "\n",
      "\n",
      "The following objects are masked from ‘package:parallel’:\n",
      "\n",
      "    clusterApply, clusterApplyLB, clusterCall, clusterEvalQ,\n",
      "    clusterExport, clusterMap, parApply, parCapply, parLapply,\n",
      "    parLapplyLB, parRapply, parSapply, parSapplyLB\n",
      "\n",
      "\n",
      "The following objects are masked from ‘package:dplyr’:\n",
      "\n",
      "    combine, intersect, setdiff, union\n",
      "\n",
      "\n",
      "The following objects are masked from ‘package:stats’:\n",
      "\n",
      "    IQR, mad, sd, var, xtabs\n",
      "\n",
      "\n",
      "The following objects are masked from ‘package:base’:\n",
      "\n",
      "    anyDuplicated, append, as.data.frame, basename, cbind, colnames,\n",
      "    dirname, do.call, duplicated, eval, evalq, Filter, Find, get, grep,\n",
      "    grepl, intersect, is.unsorted, lapply, Map, mapply, match, mget,\n",
      "    order, paste, pmax, pmax.int, pmin, pmin.int, Position, rank,\n",
      "    rbind, Reduce, rownames, sapply, setdiff, sort, table, tapply,\n",
      "    union, unique, unsplit, which, which.max, which.min\n",
      "\n",
      "\n",
      "\n",
      "Attaching package: ‘S4Vectors’\n",
      "\n",
      "\n",
      "The following objects are masked from ‘package:dplyr’:\n",
      "\n",
      "    first, rename\n",
      "\n",
      "\n",
      "The following objects are masked from ‘package:data.table’:\n",
      "\n",
      "    first, second\n",
      "\n",
      "\n",
      "The following object is masked from ‘package:base’:\n",
      "\n",
      "    expand.grid\n",
      "\n",
      "\n",
      "Loading required package: IRanges\n",
      "\n",
      "\n",
      "Attaching package: ‘IRanges’\n",
      "\n",
      "\n",
      "The following objects are masked from ‘package:dplyr’:\n",
      "\n",
      "    collapse, desc, slice\n",
      "\n",
      "\n",
      "The following object is masked from ‘package:data.table’:\n",
      "\n",
      "    shift\n",
      "\n",
      "\n",
      "Loading required package: GenomicRanges\n",
      "\n",
      "Loading required package: GenomeInfoDb\n",
      "\n",
      "Loading required package: SummarizedExperiment\n",
      "\n",
      "Loading required package: Biobase\n",
      "\n",
      "Welcome to Bioconductor\n",
      "\n",
      "    Vignettes contain introductory material; view with\n",
      "    'browseVignettes()'. To cite Bioconductor, see\n",
      "    'citation(\"Biobase\")', and for packages 'citation(\"pkgname\")'.\n",
      "\n",
      "\n",
      "Loading required package: DelayedArray\n",
      "\n",
      "Loading required package: matrixStats\n",
      "\n",
      "\n",
      "Attaching package: ‘matrixStats’\n",
      "\n",
      "\n",
      "The following objects are masked from ‘package:Biobase’:\n",
      "\n",
      "    anyMissing, rowMedians\n",
      "\n",
      "\n",
      "The following object is masked from ‘package:dplyr’:\n",
      "\n",
      "    count\n",
      "\n",
      "\n",
      "Loading required package: BiocParallel\n",
      "\n",
      "\n",
      "Attaching package: ‘DelayedArray’\n",
      "\n",
      "\n",
      "The following objects are masked from ‘package:matrixStats’:\n",
      "\n",
      "    colMaxs, colMins, colRanges, rowMaxs, rowMins, rowRanges\n",
      "\n",
      "\n",
      "The following objects are masked from ‘package:base’:\n",
      "\n",
      "    aperm, apply, rowsum\n",
      "\n",
      "\n"
     ]
    }
   ],
   "source": [
    "library(\"data.table\")\n",
    "library(\"dplyr\")\n",
    "library(\"DESeq2\")\n",
    "# for parallelization\n",
    "library(\"BiocParallel\")\n",
    "register(MulticoreParam(8))\n",
    "# for parsing barcode IDs\n",
    "library(\"stringr\")\n",
    "\n",
    "setwd(\"/home/users/rang/scratch/yeast/crispey3/pool1_scm_aug2021/\")"
   ]
  },
  {
   "cell_type": "markdown",
   "metadata": {},
   "source": [
    "## Setup path to files"
   ]
  },
  {
   "cell_type": "code",
   "execution_count": 2,
   "metadata": {
    "scrolled": true
   },
   "outputs": [
    {
     "name": "stderr",
     "output_type": "stream",
     "text": [
      "Warning message in dir.create(\"./deseq/\"):\n",
      "“'./deseq' already exists”\n"
     ]
    },
    {
     "name": "stdout",
     "output_type": "stream",
     "text": [
      "[1] \"Input files:\"\n",
      "[1] \"./pool1_scm_aug2021_samples.txt\"\n",
      "[1] \"./counts/stacked_barcode_counts.txt\"\n",
      "[1] \"Output files:\"\n",
      "[1] \"./deseq/pool1_scm_aug2021_results.txt\"\n"
     ]
    }
   ],
   "source": [
    "# samples info file\n",
    "samples_info_file = \"./pool1_scm_aug2021_samples.txt\"\n",
    "# counts file\n",
    "counts_file = \"./counts/stacked_barcode_counts.txt\"\n",
    "\n",
    "# output directory\n",
    "dir.create(\"./deseq/\")\n",
    "# deseq results file\n",
    "deseq_output_file= \"./deseq/pool1_scm_aug2021_results.txt\"\n",
    "\n",
    "print(\"Input files:\")\n",
    "print(samples_info_file)\n",
    "print(counts_file)\n",
    "print(\"Output files:\")\n",
    "print(deseq_output_file)"
   ]
  },
  {
   "cell_type": "markdown",
   "metadata": {},
   "source": [
    "## Load samples info, barcode counts"
   ]
  },
  {
   "cell_type": "code",
   "execution_count": 3,
   "metadata": {
    "scrolled": true
   },
   "outputs": [],
   "source": [
    "# loading samples\n",
    "samples <- read.table(file = samples_info_file, header = TRUE, sep = '\\t', row.names = 1)\n",
    "samples$rep = factor(samples$rep)\n",
    "\n",
    "# loading counts\n",
    "counts <- fread(counts_file, header=TRUE, sep = '\\t', na.strings=\"\", data.table=TRUE)"
   ]
  },
  {
   "cell_type": "markdown",
   "metadata": {},
   "source": [
    "## Run DESeq with default settings to obtain barcode logFC values in CRISPEY competition\n",
    "Assumes all samples are biological replicates of the same competition setup"
   ]
  },
  {
   "cell_type": "code",
   "execution_count": 4,
   "metadata": {
    "scrolled": true
   },
   "outputs": [
    {
     "name": "stderr",
     "output_type": "stream",
     "text": [
      "  the design formula contains one or more numeric variables with integer values,\n",
      "  specifying a model with increasing fold change for higher values.\n",
      "  did you mean for this to be a factor? if so, first convert\n",
      "  this variable to a factor using the factor() function\n",
      "\n",
      "  the design formula contains one or more numeric variables that have mean or\n",
      "  standard deviation larger than 5 (an arbitrary threshold to trigger this message).\n",
      "  it is generally a good idea to center and scale numeric variables in the design\n",
      "  to improve GLM convergence.\n",
      "\n"
     ]
    },
    {
     "data": {
      "text/plain": [
       "class: DESeqDataSet \n",
       "dim: 4577 36 \n",
       "metadata(1): version\n",
       "assays(1): counts\n",
       "rownames(4577): 001_001 001_002 ... Ladder_042 Ladder_043\n",
       "rowData names(0):\n",
       "colnames(36): P1-SCM-T1-F1 P1-SCM-T1-F2 ... P1-SCM-T6-F5 P1-SCM-T6-F6\n",
       "colData names(2): gen rep"
      ]
     },
     "metadata": {},
     "output_type": "display_data"
    },
    {
     "name": "stderr",
     "output_type": "stream",
     "text": [
      "estimating size factors\n",
      "\n",
      "estimating dispersions\n",
      "\n",
      "gene-wise dispersion estimates: 8 workers\n",
      "\n",
      "mean-dispersion relationship\n",
      "\n",
      "final dispersion estimates, fitting model and testing: 8 workers\n",
      "\n"
     ]
    }
   ],
   "source": [
    "# Default DESeq workflow\n",
    "dds <- DESeqDataSetFromMatrix(countData = as.matrix(counts, rownames = 1),\n",
    "                              colData = samples,\n",
    "                              design= ~gen+rep)\n",
    "dds\n",
    "\n",
    "# filter barcodes that do not meet minimum read cutoff\n",
    "total_reads_cutoff = 1000\n",
    "keep <- rowSums(counts(dds)) >= total_reads_cutoff\n",
    "dds <- dds[keep,]\n",
    "\n",
    "# run DEseq on default settings\n",
    "dds <- DESeq(dds, parallel=TRUE)"
   ]
  },
  {
   "cell_type": "code",
   "execution_count": 5,
   "metadata": {},
   "outputs": [
    {
     "name": "stdout",
     "output_type": "stream",
     "text": [
      "\n",
      "out of 3508 with nonzero total read count\n",
      "adjusted p-value < 0.05\n",
      "LFC > 0 (up)       : 62, 1.8%\n",
      "LFC < 0 (down)     : 62, 1.8%\n",
      "outliers [1]       : 0, 0%\n",
      "low counts [2]     : 0, 0%\n",
      "(mean count < 25)\n",
      "[1] see 'cooksCutoff' argument of ?results\n",
      "[2] see 'independentFiltering' argument of ?results\n",
      "\n"
     ]
    },
    {
     "data": {
      "text/plain": [
       "log2 fold change (MLE): gen \n",
       "Wald test p-value: gen \n",
       "DataFrame with 3508 rows and 6 columns\n",
       "                   baseMean        log2FoldChange               lfcSE\n",
       "                  <numeric>             <numeric>           <numeric>\n",
       "Ladder_006 468.472602997419   -0.0847131617881736 0.00214126498775399\n",
       "034_121    1525.68683332542     -0.11649036303777 0.00331869499662713\n",
       "020_120    522.247853367154    -0.109810129891145 0.00373009939833936\n",
       "Ladder_009 293.320127365387   -0.0705203927061838 0.00244571302754112\n",
       "015_121    299.872971170762    -0.091806321357343 0.00389919356456986\n",
       "...                     ...                   ...                 ...\n",
       "016_011    64.2838721996283  6.45097329325252e-06 0.00446226190442581\n",
       "021_083    49.0623921652223 -6.29764617160151e-06 0.00524662742799386\n",
       "016_064    165.557503022584  2.06145499257209e-06 0.00333520160141386\n",
       "002_027    397.534606228477 -1.14298895429429e-06 0.00272648746427979\n",
       "025_116     26.082687367377   1.4827236057696e-06  0.0088685293682857\n",
       "                            stat                pvalue                  padj\n",
       "                       <numeric>             <numeric>             <numeric>\n",
       "Ladder_006     -39.5622037779784                     0                     0\n",
       "034_121        -35.1012561130693 6.44978307346762e-270 1.13129195108622e-266\n",
       "020_120        -29.4389286087209 1.74481588976323e-190  2.0402713804298e-187\n",
       "Ladder_009     -28.8342875521598 7.97607913419867e-183 6.99502140069223e-180\n",
       "015_121          -23.54495098462  1.4141439326096e-122 9.92163383118897e-120\n",
       "...                          ...                   ...                   ...\n",
       "016_011      0.00144567338973408     0.998846519924158     0.999866602204453\n",
       "021_083     -0.00120032273265676     0.999042281253609     0.999866602204453\n",
       "016_064     0.000618090070386808     0.999506835507054     0.999866602204453\n",
       "002_027    -0.000419216654860439     0.999665513513253     0.999866602204453\n",
       "025_116     0.000167189343824231     0.999866602204453     0.999866602204453"
      ]
     },
     "metadata": {},
     "output_type": "display_data"
    }
   ],
   "source": [
    "# view results summary\n",
    "res <- results(dds, name='gen', alpha=0.05)\n",
    "summary(res)\n",
    "\n",
    "# view table of results sorted by pvalue\n",
    "resOrdered <- res[order(res$pvalue),]\n",
    "resOrdered\n",
    "\n",
    "# export results to file\n",
    "fwrite(as.data.frame(resOrdered), file=deseq_output_file, sep=\"\\t\", quote=FALSE, row.names=TRUE, col.names=TRUE)"
   ]
  },
  {
   "cell_type": "markdown",
   "metadata": {},
   "source": [
    "## To measure fitness relative to neutral barcodes, specify neutral set in controlGenes when estimating size factors and recalculate logFC"
   ]
  },
  {
   "cell_type": "code",
   "execution_count": 48,
   "metadata": {},
   "outputs": [],
   "source": [
    "# table of neutral oligos and their associated barcodes\n",
    "neutral_oligos_file <- \"/home/users/rang/crispey3/library_design/Output/crispey3_neutral_oligos_only.txt\"\n",
    "neutral_oligos <- fread(file = neutral_oligos_file, header = TRUE, sep = '\\t', data.table=FALSE)\n",
    "\n",
    "# get neutral barcode set\n",
    "neutral_barcodes <- counts$barcode[str_split(counts$barcode, '-', simplify=TRUE)[,1] %in% neutral_oligos$barcode_id]\n",
    "\n",
    "\n",
    "# ladder_oligos_annotation_file <- 'ladder_oligos_annotated.txt'\n",
    "# ladder_oligos_annotation <- fread(file = ladder_oligos_annotation_file, header = TRUE, sep = '\\t', data.table=FALSE)\n",
    "\n",
    "# # get neutral barcode set\n",
    "# neutral_barcodes = as.vector(ladder_oligos_annotation[ladder_oligos_annotation$breslow_growth_rate==1,'PBC'])\n",
    "# neutral_barcodes"
   ]
  },
  {
   "cell_type": "code",
   "execution_count": 52,
   "metadata": {},
   "outputs": [
    {
     "name": "stderr",
     "output_type": "stream",
     "text": [
      "  the design formula contains one or more numeric variables with integer values,\n",
      "  specifying a model with increasing fold change for higher values.\n",
      "  did you mean for this to be a factor? if so, first convert\n",
      "  this variable to a factor using the factor() function\n",
      "\n",
      "  the design formula contains one or more numeric variables that have mean or\n",
      "  standard deviation larger than 5 (an arbitrary threshold to trigger this message).\n",
      "  it is generally a good idea to center and scale numeric variables in the design\n",
      "  to improve GLM convergence.\n",
      "\n",
      "gene-wise dispersion estimates\n",
      "\n",
      "mean-dispersion relationship\n",
      "\n",
      "final dispersion estimates\n",
      "\n"
     ]
    }
   ],
   "source": [
    "# re-run DESeq with specified neutral set\n",
    "dds <- DESeqDataSetFromMatrix(countData = as.matrix(counts, rownames = 1),\n",
    "                              colData = samples,\n",
    "                              design= ~gen+rep)\n",
    "\n",
    "# filter barcodes that do not meet minimum read cutoff\n",
    "total_reads_cutoff = 1000\n",
    "keep <- rowSums(counts(dds)) >= total_reads_cutoff\n",
    "dds <- dds[keep,]\n",
    "\n",
    "# estimate size factors, specifying neutral barcodes under controlGenes\n",
    "dds <- estimateSizeFactors(dds, controlGenes=grep(paste(neutral_barcodes, collapse=\"|\"), rownames(dds)))\n",
    "# estimate dispersion\n",
    "dds <- estimateDispersions(dds)\n",
    "# calculate logFC\n",
    "dds <- nbinomWaldTest(dds)"
   ]
  },
  {
   "cell_type": "code",
   "execution_count": 58,
   "metadata": {
    "scrolled": true
   },
   "outputs": [
    {
     "name": "stdout",
     "output_type": "stream",
     "text": [
      "\n",
      "out of 3508 with nonzero total read count\n",
      "adjusted p-value < 0.05\n",
      "LFC > 0 (up)       : 32, 0.91%\n",
      "LFC < 0 (down)     : 100, 2.9%\n",
      "outliers [1]       : 0, 0%\n",
      "low counts [2]     : 0, 0%\n",
      "(mean count < 25)\n",
      "[1] see 'cooksCutoff' argument of ?results\n",
      "[2] see 'independentFiltering' argument of ?results\n",
      "\n"
     ]
    },
    {
     "data": {
      "text/plain": [
       "log2 fold change (MLE): gen \n",
       "Wald test p-value: gen \n",
       "DataFrame with 3508 rows and 6 columns\n",
       "                   baseMean        log2FoldChange               lfcSE\n",
       "                  <numeric>             <numeric>           <numeric>\n",
       "Ladder_006 471.469787323985   -0.0858628174140032 0.00225927265592334\n",
       "034_121    1535.92539390841    -0.117562701280057 0.00329803335028865\n",
       "Ladder_009  295.00562261264   -0.0716867875935566 0.00248111007537022\n",
       "020_120    526.145522702677    -0.110956255209262 0.00386344900360967\n",
       "033_118    356.299286813241   -0.0495374413266234 0.00210024762701001\n",
       "...                     ...                   ...                 ...\n",
       "005_035     1634.7134306282   7.5532219972448e-06 0.00203309466334145\n",
       "009_112    1613.61306808239 -1.27212389953005e-05  0.0034496245226822\n",
       "011_002    222.754247060867 -8.02021226431887e-06 0.00267546961538225\n",
       "015_053    173.481239405436  8.64967622427587e-06 0.00632455931906663\n",
       "005_088    84.2998321478103 -5.78980910399331e-07 0.00484674382909379\n",
       "                           stat                pvalue                  padj\n",
       "                      <numeric>             <numeric>             <numeric>\n",
       "Ladder_006    -38.0046282545353                     0                     0\n",
       "034_121       -35.6463045680748 2.68832651367867e-278 4.71532470499238e-275\n",
       "Ladder_009    -28.8930299002796 1.46067338909942e-183 1.70801408298692e-180\n",
       "020_120       -28.7194822826947 2.17928037530081e-181 1.91122888913881e-178\n",
       "033_118       -23.5864765133179 5.30566382776986e-123 3.72245374156333e-120\n",
       "...                         ...                   ...                   ...\n",
       "005_035     0.00371513542061581      0.99703575762546     0.997911035894291\n",
       "009_112    -0.00368771699982271     0.997057634210231     0.997911035894291\n",
       "011_002    -0.00299768392741511     0.997608197858315     0.998177284109232\n",
       "015_053     0.00136763302989344     0.998908787060775     0.999193619905674\n",
       "005_088    -0.00011945770827083     0.999904686539128     0.999904686539128"
      ]
     },
     "metadata": {},
     "output_type": "display_data"
    }
   ],
   "source": [
    "# view results summary\n",
    "res <- results(dds, name='gen', alpha=0.05)\n",
    "summary(res)\n",
    "\n",
    "# view table of results sorted by pvalue\n",
    "resOrdered <- res[order(res$pvalue),]\n",
    "resOrdered\n",
    "\n",
    "# export results to file\n",
    "fwrite(as.data.frame(resOrdered), file=deseq_output_file, sep=\"\\t\", quote=FALSE, row.names=TRUE, col.names=TRUE)"
   ]
  },
  {
   "cell_type": "code",
   "execution_count": 57,
   "metadata": {},
   "outputs": [],
   "source": [
    "help(fwrite)"
   ]
  },
  {
   "cell_type": "markdown",
   "metadata": {},
   "source": [
    "## To measure the effect of a treatment on fitness effect, add the treatment variable to the dds design and re-run DEseq\n",
    "New design should include the <code>gen\\*cond</code> and <code>rep\\*cond</code> interaction terms.<br>\n",
    "Ensure that the samples file contains the <code>cond</code> column indicating the treatment status of each sample.<br>\n",
    "Pseudo-conditions can be created between competition replicates to test for possible variance between competition batches (e.g. rep123 vs rep456). logFC values calculated this way should be the same as when each condition's samples is run in DESeq2 separately."
   ]
  },
  {
   "cell_type": "code",
   "execution_count": null,
   "metadata": {},
   "outputs": [],
   "source": [
    "# samples file with condition label\n",
    "samples_cond_file <- \"./ladder_pilot_samples_pseudoConditions.txt\"\n",
    "# loading samples\n",
    "samples_cond <- read.table(file = samples_cond_file, header = TRUE, sep = '\\t', row.names = 1)\n",
    "samples_cond$rep = factor(samples_cond$rep)"
   ]
  },
  {
   "cell_type": "code",
   "execution_count": null,
   "metadata": {},
   "outputs": [],
   "source": [
    "# re-run DESeq\n",
    "dds2 <- DESeqDataSetFromMatrix(countData = as.matrix(counts, rownames = 1),\n",
    "                                         colData = samples_cond,\n",
    "                                         design= ~gen+rep+cond+gen:cond+rep:cond)\n",
    "\n",
    "# filter barcodes that do not meet minimum read cutoff\n",
    "total_reads_cutoff = 1000\n",
    "\n",
    "keep <- rowSums(counts(dds2)) >= total_reads_cutoff\n",
    "dds2 <- dds2[keep,]\n",
    "\n",
    "# estimate size factors, specifying neutral oligos as control genes\n",
    "dds2 <- estimateSizeFactors(dds2, controlGenes=grep(paste(neutral_barcodes, collapse=\"|\"), rownames(dds2)))\n",
    "# estimate dispersion\n",
    "dds2 <- estimateDispersions(dds2)\n",
    "# calculate logFC\n",
    "dds2 <- nbinomWaldTest(dds2)"
   ]
  },
  {
   "cell_type": "markdown",
   "metadata": {},
   "source": [
    "## To view condition-specific fitness, specify contrast when viewing results\n",
    "If multiple conditions are present, fitness changes between non-reference conditions can be compared directly by specifying: <code>results(dds2, contrast=list(\"gen.condC\", \"gen.condB\"))</code>"
   ]
  },
  {
   "cell_type": "code",
   "execution_count": null,
   "metadata": {},
   "outputs": [],
   "source": [
    "# view all terms in deseq model\n",
    "resultsNames(dds2)\n",
    "\n",
    "# view results:\n",
    "### fitness in cond A (control)\n",
    "res2 <- results(dds2, name='gen')\n",
    "summary(res2)\n",
    "\n",
    "### fitness in cond B (treatment)\n",
    "res3 <- results(dds2, contrast=list( c(\"gen\",\"gen.condB\") ))\n",
    "summary(res3)\n",
    "\n",
    "### changes in fitness between cond A and B\n",
    "res4 <- results(dds2, name='gen.condB')\n",
    "summary(res4)\n",
    "\n",
    "# for fitness in cond A, view table of results sorted by pvalue\n",
    "resOrdered2 <- res2[order(res2$pvalue),]\n",
    "resOrdered2\n",
    "\n",
    "# # export results to file\n",
    "# fwrite(as.data.frame(resOrdered2), file=\"deseq_fitness_condA.txt\", sep=\"\\t\", quote=FALSE, row.names=TRUE, col.names=TRUE)"
   ]
  }
 ],
 "metadata": {
  "kernelspec": {
   "display_name": "R",
   "language": "R",
   "name": "ir"
  },
  "language_info": {
   "codemirror_mode": "r",
   "file_extension": ".r",
   "mimetype": "text/x-r-source",
   "name": "R",
   "pygments_lexer": "r",
   "version": "3.6.3"
  }
 },
 "nbformat": 4,
 "nbformat_minor": 2
}
