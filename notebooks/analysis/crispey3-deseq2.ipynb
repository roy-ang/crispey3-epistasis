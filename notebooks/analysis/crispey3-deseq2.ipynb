{
 "cells": [
  {
   "cell_type": "markdown",
   "metadata": {},
   "source": [
    "# Analyze ladder pilot counts in DESeq2"
   ]
  },
  {
   "cell_type": "code",
   "execution_count": null,
   "metadata": {
    "scrolled": true
   },
   "outputs": [],
   "source": [
    "library(\"data.table\")\n",
    "library(\"dplyr\")\n",
    "library(\"DESeq2\")\n",
    "# for parallelization\n",
    "library(\"BiocParallel\")\n",
    "register(MulticoreParam(8))\n",
    "\n",
    "setwd(\"/home/users/rang/crispey3/ladder_pilot_feb2021/\")"
   ]
  },
  {
   "cell_type": "markdown",
   "metadata": {},
   "source": [
    "## Setup path to files"
   ]
  },
  {
   "cell_type": "code",
   "execution_count": null,
   "metadata": {
    "scrolled": true
   },
   "outputs": [],
   "source": [
    "# samples info file\n",
    "samples_info_file = \"./ladder_pilot_samples.txt\"\n",
    "# counts file\n",
    "counts_file = \"./counts/pbc_counts.txt\"\n",
    "\n",
    "# output directory\n",
    "dir.create(\"./deseq/\")\n",
    "# deseq results file\n",
    "deseq_output_file= \"./deseq/ladder_pilot_deseq_results.txt\"\n",
    "\n",
    "print(\"Input files:\")\n",
    "print(samples_info_file)\n",
    "print(counts_file)\n",
    "print(\"Output files:\")\n",
    "print(deseq_output_file)"
   ]
  },
  {
   "cell_type": "markdown",
   "metadata": {},
   "source": [
    "## Load samples info, barcode counts"
   ]
  },
  {
   "cell_type": "code",
   "execution_count": null,
   "metadata": {
    "scrolled": true
   },
   "outputs": [],
   "source": [
    "# loading samples\n",
    "samples <- read.table(file = samples_info_file, header = TRUE, sep = '\\t', row.names = 1)\n",
    "samples$rep = factor(samples$rep)\n",
    "\n",
    "# loading counts\n",
    "counts <- fread(counts_file, header=TRUE, sep = '\\t', na.strings=\"\", data.table=TRUE)\n",
    "colnames(counts) <- c('barcode', rownames(samples))"
   ]
  },
  {
   "cell_type": "markdown",
   "metadata": {},
   "source": [
    "## Run DESeq with default settings to obtain barcode logFC values in CRISPEY competition\n",
    "Assumes all samples are biological replicates of the same competition setup"
   ]
  },
  {
   "cell_type": "code",
   "execution_count": null,
   "metadata": {
    "scrolled": true
   },
   "outputs": [],
   "source": [
    "# Default DESeq workflow\n",
    "dds <- DESeqDataSetFromMatrix(countData = as.matrix(counts, rownames = 1),\n",
    "                              colData = samples,\n",
    "                              design= ~gen+rep)\n",
    "dds\n",
    "\n",
    "# filter barcodes that do not meet minimum read cutoff\n",
    "total_reads_cutoff = 1000\n",
    "keep <- rowSums(counts(dds)) >= total_reads_cutoff\n",
    "dds <- dds[keep,]\n",
    "\n",
    "# run DEseq on default settings\n",
    "dds <- DESeq(dds)"
   ]
  },
  {
   "cell_type": "code",
   "execution_count": null,
   "metadata": {},
   "outputs": [],
   "source": [
    "# view results summary\n",
    "res <- results(dds, name='gen', alpha=0.05)\n",
    "summary(res)\n",
    "\n",
    "# view table of results sorted by pvalue\n",
    "resOrdered <- res[order(res$pvalue),]\n",
    "resOrdered\n",
    "\n",
    "# export results to file\n",
    "write.csv(as.data.frame(resOrdered), file=deseq_output_file)"
   ]
  },
  {
   "cell_type": "markdown",
   "metadata": {},
   "source": [
    "## To measure fitness relative to neutral barcodes, specify neutral set in controlGenes when estimating size factors and recalculate logFC"
   ]
  },
  {
   "cell_type": "code",
   "execution_count": null,
   "metadata": {},
   "outputs": [],
   "source": [
    "ladder_oligos_annotation_file <- 'ladder_oligos_annotated.txt'\n",
    "ladder_oligos_annotation <- fread(file = ladder_oligos_annotation_file, header = TRUE, sep = '\\t', data.table=FALSE)\n",
    "\n",
    "# get neutral barcode set\n",
    "neutral_barcodes = as.vector(ladder_oligos_annotation[ladder_oligos_annotation$breslow_growth_rate==1,'PBC'])\n",
    "neutral_barcodes"
   ]
  },
  {
   "cell_type": "code",
   "execution_count": null,
   "metadata": {},
   "outputs": [],
   "source": [
    "# re-run DESeq with specified neutral set\n",
    "dds <- DESeqDataSetFromMatrix(countData = as.matrix(counts, rownames = 1),\n",
    "                              colData = samples,\n",
    "                              design= ~gen+rep)\n",
    "\n",
    "# filter barcodes that do not meet minimum read cutoff\n",
    "total_reads_cutoff = 1000\n",
    "keep <- rowSums(counts(dds)) >= total_reads_cutoff\n",
    "dds <- dds[keep,]\n",
    "\n",
    "# estimate size factors, specifying neutral barcodes under controlGenes\n",
    "dds <- estimateSizeFactors(dds, controlGenes=grep(paste(neutral_barcodes, collapse=\"|\"), rownames(dds)))\n",
    "# estimate dispersion\n",
    "dds <- estimateDispersions(dds)\n",
    "# calculate logFC\n",
    "dds <- nbinomWaldTest(dds)"
   ]
  },
  {
   "cell_type": "code",
   "execution_count": null,
   "metadata": {},
   "outputs": [],
   "source": [
    "# view results summary\n",
    "res <- results(dds, name='gen', alpha=0.05)\n",
    "summary(res)\n",
    "\n",
    "# view table of results sorted by pvalue\n",
    "resOrdered <- res[order(res$pvalue),]\n",
    "resOrdered\n",
    "\n",
    "# export results to file\n",
    "write.csv(as.data.frame(resOrdered), file=deseq_output_file)"
   ]
  },
  {
   "cell_type": "markdown",
   "metadata": {},
   "source": [
    "## To measure the effect of a treatment on fitness effect, add the treatment variable to the dds design and re-run DEseq\n",
    "New design should include the <code>gen\\*cond</code> and <code>rep\\*cond</code> interaction terms.<br>\n",
    "Ensure that the samples file contains the <code>cond</code> column indicating the treatment status of each sample.<br>\n",
    "Pseudo-conditions can be created between competition replicates to test for possible variance between competition batches (e.g. rep123 vs rep456). logFC values calculated this way should be the same as when each condition's samples is run in DESeq2 separately."
   ]
  },
  {
   "cell_type": "code",
   "execution_count": null,
   "metadata": {},
   "outputs": [],
   "source": [
    "# samples file with condition label\n",
    "samples_cond_file <- \"./ladder_pilot_samples_pseudoConditions.txt\"\n",
    "# loading samples\n",
    "samples_cond <- read.table(file = samples_cond_file, header = TRUE, sep = '\\t', row.names = 1)\n",
    "samples_cond$rep = factor(samples_cond$rep)"
   ]
  },
  {
   "cell_type": "code",
   "execution_count": null,
   "metadata": {},
   "outputs": [],
   "source": [
    "# re-run DESeq\n",
    "dds2 <- DESeqDataSetFromMatrix(countData = as.matrix(counts, rownames = 1),\n",
    "                                         colData = samples_cond,\n",
    "                                         design= ~gen+rep+cond+gen:cond+rep:cond)\n",
    "\n",
    "# filter barcodes that do not meet minimum read cutoff\n",
    "total_reads_cutoff = 1000\n",
    "\n",
    "keep <- rowSums(counts(dds2)) >= total_reads_cutoff\n",
    "dds2 <- dds2[keep,]\n",
    "\n",
    "# estimate size factors, specifying neutral oligos as control genes\n",
    "dds2 <- estimateSizeFactors(dds2, controlGenes=grep(paste(neutral_barcodes, collapse=\"|\"), rownames(dds2)))\n",
    "# estimate dispersion\n",
    "dds2 <- estimateDispersions(dds2)\n",
    "# calculate logFC\n",
    "dds2 <- nbinomWaldTest(dds2)"
   ]
  },
  {
   "cell_type": "markdown",
   "metadata": {},
   "source": [
    "## To view condition-specific fitness, specify contrast when viewing results\n",
    "If multiple conditions are present, fitness changes between non-reference conditions can be compared directly by specifying: <code>results(dds2, contrast=list(\"gen.condC\", \"gen.condB\"))</code>"
   ]
  },
  {
   "cell_type": "code",
   "execution_count": null,
   "metadata": {},
   "outputs": [],
   "source": [
    "# view all terms in deseq model\n",
    "resultsNames(dds2)\n",
    "\n",
    "# view results:\n",
    "### fitness in cond A (control)\n",
    "res2 <- results(dds2, name='gen')\n",
    "summary(res2)\n",
    "\n",
    "### fitness in cond B (treatment)\n",
    "res3 <- results(dds2, contrast=list( c(\"gen\",\"gen.condB\") ))\n",
    "summary(res3)\n",
    "\n",
    "### changes in fitness between cond A and B\n",
    "res4 <- results(dds2, name='gen.condB')\n",
    "summary(res4)\n",
    "\n",
    "# for fitness in cond A, view table of results sorted by pvalue\n",
    "resOrdered2 <- res2[order(res2$pvalue),]\n",
    "resOrdered2\n",
    "\n",
    "# # export results to file\n",
    "# write.csv(as.data.frame(resOrdered2), file=\"deseq_fitness_condA.txt\")"
   ]
  }
 ],
 "metadata": {
  "kernelspec": {
   "display_name": "R",
   "language": "R",
   "name": "ir"
  },
  "language_info": {
   "codemirror_mode": "r",
   "file_extension": ".r",
   "mimetype": "text/x-r-source",
   "name": "R",
   "pygments_lexer": "r",
   "version": "3.6.3"
  }
 },
 "nbformat": 4,
 "nbformat_minor": 2
}
