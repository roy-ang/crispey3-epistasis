{
 "cells": [
  {
   "cell_type": "markdown",
   "metadata": {},
   "source": [
    "# CRISPEY Oligo Library Design - adapted for humanized yeast pilot\n",
    "An assortment of oligos were generated from two sets of variant files and combined to get the final list being synthesized\n",
    "- Fritz Roth curated variants list, taken direct from hYeast ORF fasta (library name: humanized_validated)\n",
    "- Shi-An's compiled variants from GnomAD (library name: humanized)\n",
    "\n",
    "Oligos from both sets were combined, with priority given to the Fritz Roth set. Barcode assignment was done collectively with the rest of the CRISPEY3 library (see other Jupyter notebook for CRISPEY3 library design)"
   ]
  },
  {
   "cell_type": "markdown",
   "metadata": {},
   "source": [
    "## Import packages and functions"
   ]
  },
  {
   "cell_type": "code",
   "execution_count": 21,
   "metadata": {},
   "outputs": [
    {
     "name": "stdout",
     "output_type": "stream",
     "text": [
      "Current directory: /home/users/rang/crispey3/humanized\n"
     ]
    }
   ],
   "source": [
    "import os, random\n",
    "import pandas as pd\n",
    "\n",
    "crispey_libdesign_code_dir = os.path.expanduser('~/crispey-epistasis/lib_design/')\n",
    "working_dir = os.path.expanduser(\"~/crispey3/humanized/\")\n",
    "\n",
    "os.chdir(crispey_libdesign_code_dir)\n",
    "from extract_guides_functions import extract_guides_for_snps, \\\n",
    "                                     design_donor_for_SNP_guides, \\\n",
    "                                     rank_and_filter_SNP_guides, \\\n",
    "                                     generate_oligo_from_guide_donor_barcode, \\\n",
    "                                     write_output_oligos, \\\n",
    "                                     annotate_variants_by_VEPoutput\n",
    "\n",
    "os.chdir(working_dir)\n",
    "print(\"Current directory: {}\".format(os.getcwd()))\n"
   ]
  },
  {
   "cell_type": "markdown",
   "metadata": {},
   "source": [
    "## Design parameters"
   ]
  },
  {
   "cell_type": "code",
   "execution_count": 22,
   "metadata": {},
   "outputs": [],
   "source": [
    "# lib_name = \"humanized\"\n",
    "lib_name = \"humanized_validated\"\n",
    "\n",
    "#####################################################\n",
    "# guide design for SNPs\n",
    "#####################################################\n",
    "\n",
    "guide_length = 20\n",
    "edit_max_distance_from_PAM5prime = 9\n",
    "PAM_seq = 'GG' \n",
    "min_ok_Azimuth_score_SNP_guides = 0\n",
    "off_targets_min_mismatch_SNP_guides = 1 # increase this to filter guides that have off-targets with mismatches. 1 only filters out guides with perfect match off-targets\n",
    "\n",
    "# BOWTIE_exe = \"bowtie2\"\n",
    "\n",
    "#####################################################\n",
    "# donor design for SNPs\n",
    "#####################################################\n",
    "agilent_homopolymer_max_len = 10\n",
    "\n",
    "excluded_seqs = ['A' * agilent_homopolymer_max_len, \n",
    "                 'C' * agilent_homopolymer_max_len, \n",
    "                 'G' * agilent_homopolymer_max_len, \n",
    "                 'T' * agilent_homopolymer_max_len,\n",
    "                 'GCATGC', # SphI cut site\n",
    "                 'GGCGCGCC', # AscI cut site\n",
    "                 'GCGGCCGC'] # NotI cut site\n",
    "\n",
    "donor_length = 108\n",
    "min_dist_5prime_arm = 30\n",
    "min_dist_3prime_arm = 55\n",
    "\n",
    "#####################################################\n",
    "# barcode grouping parameters\n",
    "#####################################################\n",
    "barcodes_per_group = 118\n"
   ]
  },
  {
   "cell_type": "markdown",
   "metadata": {},
   "source": [
    "## Input file names"
   ]
  },
  {
   "cell_type": "code",
   "execution_count": 23,
   "metadata": {},
   "outputs": [],
   "source": [
    "#####################################################\n",
    "# Input files\n",
    "#####################################################\n",
    "input_dir= working_dir + \"Input/\"\n",
    "\n",
    "# input VCF\n",
    "# input_snps_vcf_filename = input_dir+'humanized_yeast_variants.vcf'\n",
    "input_snps_vcf_filename = input_dir+'humanized_yeast_variants_validated.vcf'\n",
    "\n",
    "# pool assignments\n",
    "input_vars_pool_assignment_filename = input_dir+'crispey3_vars_pool_assignment.txt'\n",
    "\n",
    "# oligo design table - contains information about the other segments in the oligo\n",
    "input_oligo_design_table_filename = input_dir+'crispey3_oligo_design_table.txt'\n",
    "\n",
    "# SNP guides donor design table \n",
    "# contains set names and filtering to sort variants/guides for each set. (use filter_in and filter_out columns)\n",
    "input_SNP_donor_design_table_filename = input_dir+'humanized_design_donor_for_snps.txt'\n",
    "\n",
    "# programmed barcodes list\n",
    "input_barcode_table_filename = input_dir+'12BP_PBCs_well_grouped.csv'\n",
    "\n",
    "# #####################################################\n",
    "# # Human genome reference files\n",
    "# #####################################################\n",
    "# input_genome_fasta_filename = os.path.expanduser(\"~/scratch/hg19/hg19.fa\")\n",
    "input_genome_fasta_filename = input_dir+'hyeast_orf.fa'"
   ]
  },
  {
   "cell_type": "markdown",
   "metadata": {},
   "source": [
    "## Output file names\n",
    "\n",
    "These are files names that are used and created during the pipeline.\n",
    "Names may vary between different designs"
   ]
  },
  {
   "cell_type": "code",
   "execution_count": 24,
   "metadata": {},
   "outputs": [],
   "source": [
    "###############################################################################################################\n",
    "# Output files (no need to pass as argument -  depends on the output directory, PAM sequence and max edit distance)\n",
    "###############################################################################################################\n",
    "output_directory = working_dir + \"Output/\"\n",
    "output_files_uniq_str = lib_name + \"_\" + PAM_seq + \"_\" + str(edit_max_distance_from_PAM5prime) + \"bp\"\n",
    "\n",
    "# intermediate files during guide-donor-oligo design process\n",
    "output_SNP_table_filename =    output_directory + \"all_SNPs_\" + output_files_uniq_str + \"_SNP.tab\"\n",
    "output_guides_table_filename = output_directory + \"all_SNPs_\" + output_files_uniq_str + \"_GUIDE.tab\"\n",
    "output_guides_with_features_table_filename = output_directory + \"all_SNPs_\" + output_files_uniq_str + \"_GUIDE_withFeatures.tab\"\n",
    "output_SNP_donor_table_filename = output_directory + \"all_SNPs_\" + output_files_uniq_str + \"_DONOR.tab\"\n",
    "output_guides_with_features_and_rank_table_filename = output_directory + \"all_SNPs_\" + output_files_uniq_str + \"_GUIDE_withFeatures_withRank.tab\"\n",
    "output_oligos_table_filename = output_directory + \"all_SNPs_\" + output_files_uniq_str + \"_OLIGO.tab\"\n",
    "\n",
    "# oligos to one table\n",
    "output_oligo_for_production_nonuniq_filename = output_directory + \"crispey_oligos_nonuniq_\" + output_files_uniq_str + \"_OLIGO.txt\"\n",
    "output_oligo_for_production_nonuniq_with_align_filename = output_directory + \"crispey_oligos_nonuniq_\" + output_files_uniq_str + \"_OLIGO.txt\"\n",
    "\n",
    "output_oligo_for_production_uniq_filename = output_directory + \"crispey_oligos_uniq_\" + output_files_uniq_str + \"_OLIGO.txt\"\n",
    "output_oligo_for_production_uniq_batch_prefix_filename = output_directory + \"crispey_oligos_uniq_\" + output_files_uniq_str + \"_\"\n",
    "\n",
    "# # SNP table with VEP annotations\n",
    "# output_SNP_withAnnotations_table_filename = output_directory + \"all_SNPs_\" + lib_name + \"_vep_annotation.txt\"\n"
   ]
  },
  {
   "cell_type": "markdown",
   "metadata": {},
   "source": [
    "# Step 1: Design and extract all guides"
   ]
  },
  {
   "cell_type": "code",
   "execution_count": 25,
   "metadata": {},
   "outputs": [],
   "source": [
    "# setting the random seed\n",
    "random.seed(1)\n"
   ]
  },
  {
   "cell_type": "code",
   "execution_count": 26,
   "metadata": {},
   "outputs": [
    {
     "name": "stdout",
     "output_type": "stream",
     "text": [
      "---------------------- extracting guides for SNPs -------------------------------\n",
      "Finish parsing VCF: 130, found: 109, #guides: 265\n",
      "\n",
      "---------------------------- Done extracting guides for SNPs --------------------------\n"
     ]
    }
   ],
   "source": [
    "extract_guides_for_snps(input_snps_vcf_filename, input_genome_fasta_filename, \n",
    "                        output_SNP_table_filename, output_guides_table_filename,\n",
    "                        [PAM_seq], guide_length, edit_max_distance_from_PAM5prime,\n",
    "                        var_id_prefix = \"\")\n"
   ]
  },
  {
   "cell_type": "code",
   "execution_count": 27,
   "metadata": {},
   "outputs": [],
   "source": [
    "# optional: filter guides that hit edge of sequences\n",
    "guides_df = pd.read_csv(output_guides_table_filename, sep='\\t')\n",
    "# remove rows without complete guides\n",
    "guides_df = guides_df.loc[~guides_df['guide_noPAM'].isna()]\n",
    "guides_df = guides_df.loc[guides_df['guide_PAM_m4p3bp'].apply(len)==30,:]\n",
    "# write back to file\n",
    "guides_df.to_csv(output_guides_table_filename, sep='\\t', index=False)\n"
   ]
  },
  {
   "cell_type": "markdown",
   "metadata": {},
   "source": [
    "# Step 2: Add guides features using Azimuth"
   ]
  },
  {
   "cell_type": "markdown",
   "metadata": {},
   "source": [
    "Azimuth is written in python 2, therefore the script for extracting guide features should be run in a python 2 environment with Azimuth and Bowtie2 (for example environemt see crispr2_7 requirement file)\n",
    "\n",
    "In this environment run **crispey_add_guide_features.py** with:\n",
    "- output_guides_table_filename\n",
    "- output_guides_with_features_table_filename\n",
    "- input_genome_fasta_filename (reference genome)\n",
    "- list of genome fasta filenames for off-target search\n",
    "\n",
    "Adjust the script's variables to CRISPEY library parameters before running!"
   ]
  },
  {
   "cell_type": "markdown",
   "metadata": {},
   "source": [
    "# Step 3: Design donors for guides"
   ]
  },
  {
   "cell_type": "code",
   "execution_count": 28,
   "metadata": {
    "scrolled": true
   },
   "outputs": [
    {
     "name": "stdout",
     "output_type": "stream",
     "text": [
      "Excluded seq: AAAAAAAAAA\n",
      "Excluded seq: CCCCCCCCCC\n",
      "Excluded seq: GGGGGGGGGG\n",
      "Excluded seq: TTTTTTTTTT\n",
      "Excluded seq: GCATGC\n",
      "Excluded seq: GGCGCGCC\n",
      "Excluded seq: GCGGCCGC\n",
      "--------- designing donors according to line: 0  (# guide ids = 4)----------\n",
      "set_name                 DHFR\n",
      "filter_in            VAR:DHFR\n",
      "filter_out               None\n",
      "donor_mut_type        REF2ALT\n",
      "donor_seq_offsets        [14]\n",
      "Name: 0, dtype: object\n",
      "-----------------------------------------------------------\n",
      "--------- designing donors according to line: 1  (# guide ids = 30)----------\n",
      "set_name                 DPAGT1\n",
      "filter_in            VAR:DPAGT1\n",
      "filter_out                 None\n",
      "donor_mut_type          REF2ALT\n",
      "donor_seq_offsets          [14]\n",
      "Name: 1, dtype: object\n",
      "-----------------------------------------------------------\n",
      "--------- designing donors according to line: 2  (# guide ids = 24)----------\n",
      "set_name                 NSDHL\n",
      "filter_in            VAR:NSDHL\n",
      "filter_out                None\n",
      "donor_mut_type         REF2ALT\n",
      "donor_seq_offsets         [14]\n",
      "Name: 2, dtype: object\n",
      "-----------------------------------------------------------\n",
      "--------- designing donors according to line: 3  (# guide ids = 37)----------\n",
      "set_name                 PGK1\n",
      "filter_in            VAR:PGK1\n",
      "filter_out               None\n",
      "donor_mut_type        REF2ALT\n",
      "donor_seq_offsets        [14]\n",
      "Name: 3, dtype: object\n",
      "-----------------------------------------------------------\n",
      "shifting donor to avoid the end of the chromosome\n",
      "--------- designing donors according to line: 4  (# guide ids = 100)----------\n",
      "set_name                 PKLR\n",
      "filter_in            VAR:PKLR\n",
      "filter_out               None\n",
      "donor_mut_type        REF2ALT\n",
      "donor_seq_offsets        [14]\n",
      "Name: 4, dtype: object\n",
      "-----------------------------------------------------------\n",
      "--------- designing donors according to line: 5  (# guide ids = 61)----------\n",
      "set_name                 UROS\n",
      "filter_in            VAR:UROS\n",
      "filter_out               None\n",
      "donor_mut_type        REF2ALT\n",
      "donor_seq_offsets        [14]\n",
      "Name: 5, dtype: object\n",
      "-----------------------------------------------------------\n",
      "shifting donor to avoid the end of the chromosome\n",
      "saving donor sequences to: /home/users/rang/crispey3/humanized/Output/all_SNPs_humanized_validated_GG_9bp_DONOR.tab\n"
     ]
    }
   ],
   "source": [
    "###############################################################################################################\n",
    "# design donor sequence for each guide (set names specified in donor_design_table) \n",
    "###############################################################################################################\n",
    "out_SNP_donor_df = design_donor_for_SNP_guides(\n",
    "    input_SNP_donor_design_table_filename, \n",
    "    output_SNP_table_filename, \n",
    "    output_guides_with_features_table_filename,\n",
    "    input_genome_fasta_filename,\n",
    "    donor_length, excluded_seqs, min_dist_5prime_arm, min_dist_3prime_arm,\n",
    "    output_SNP_donor_table_filename)\n"
   ]
  },
  {
   "cell_type": "markdown",
   "metadata": {},
   "source": [
    "# Step 4: Filter and rank guides"
   ]
  },
  {
   "cell_type": "code",
   "execution_count": 29,
   "metadata": {},
   "outputs": [
    {
     "name": "stdout",
     "output_type": "stream",
     "text": [
      "Saving : /home/users/rang/crispey3/humanized/Output/all_SNPs_humanized_validated_GG_9bp_GUIDE_withFeatures_withRank.tab\n"
     ]
    }
   ],
   "source": [
    "###############################################################################################################\n",
    "# add filter and ranking to the SNP guides (depends on having a SNP and a donor tables) \n",
    "###############################################################################################################\n",
    "out_SNP_guides_withFandR_df = rank_and_filter_SNP_guides(\n",
    "        input_guides_with_features_table_filename = output_guides_with_features_table_filename,\n",
    "        input_SNP_table_filename = output_SNP_table_filename,\n",
    "        input_donor_table_filename = output_SNP_donor_table_filename,\n",
    "        output_guides_with_features_and_rank_table_filename = output_guides_with_features_and_rank_table_filename,\n",
    "        off_targets_min_mismatch_SNP_guides = off_targets_min_mismatch_SNP_guides, \n",
    "        min_ok_Azimuth_score_SNP_guides = min_ok_Azimuth_score_SNP_guides, \n",
    "        edit_max_distance_from_PAM5prime = edit_max_distance_from_PAM5prime)"
   ]
  },
  {
   "cell_type": "markdown",
   "metadata": {},
   "source": [
    "# Step 5: Write guides and donors into oligos\n",
    "Assemble guide and donor into oligos according to oligo_design_table. Write N's into barcode segment of the oligos for now. The barcode sequence and pool number will be assigned in the next step.\n",
    "\n",
    "Note: Barcode assignment is done collectively with other CRISPEY3 oligos. See crispey3_design_library Jupyter notebook\n",
    "\n",
    "The pool numbers are assigned according to variant ID, specified in vars_pool_assignment table. The pool assignments were arranged separately. For humanized yeast oligos, assign each oligo to the following pool numbers based on the target gene:\n",
    "- DHFR: 185\n",
    "- DPAGT1: 186\n",
    "- NSDHL: 187\n",
    "- PGK1: 188\n",
    "- PKLR: 189\n",
    "- UROS: 190"
   ]
  },
  {
   "cell_type": "code",
   "execution_count": 30,
   "metadata": {
    "scrolled": true
   },
   "outputs": [
    {
     "name": "stdout",
     "output_type": "stream",
     "text": [
      "Before filtering there are 256 guides and 243 donors\n",
      "After filtering there are 256 guides and 243 donors\n",
      "shared columns\n",
      "['var_id', 'guide_id']\n",
      "joining the guides and the donors by shared columns (guide_id) creates 243 oligos\n",
      "No barcodes provided. Skipping barcode assignment.\n",
      "parsing oligo 0 out of 243\n",
      "Saving : /home/users/rang/crispey3/humanized/Output/all_SNPs_humanized_validated_GG_9bp_OLIGO.tab\n"
     ]
    }
   ],
   "source": [
    "oligo_all_df = generate_oligo_from_guide_donor_barcode(\n",
    "    input_oligo_design_table_filename = input_oligo_design_table_filename,\n",
    "    input_guide_table_filename = output_guides_with_features_and_rank_table_filename, \n",
    "    input_donor_table_filename = output_SNP_donor_table_filename,\n",
    "    input_barcode_table_filename = None, # use None to fill N's in barcode segment\n",
    "    input_guide_iloc = None, # option to filter out guides\n",
    "    input_donor_iloc = None, # option to filter out donors\n",
    "    group_size = barcodes_per_group,                   \n",
    "    output_oligos_table_filename = output_oligos_table_filename)"
   ]
  },
  {
   "cell_type": "markdown",
   "metadata": {},
   "source": [
    "# Step 6: Append humanized yeast oligos to rest of CRISPEY3 library for barcode assignment and export"
   ]
  }
 ],
 "metadata": {
  "kernelspec": {
   "display_name": "Python (crispey-bar)",
   "language": "python",
   "name": "crispey-bar"
  },
  "language_info": {
   "codemirror_mode": {
    "name": "ipython",
    "version": 3
   },
   "file_extension": ".py",
   "mimetype": "text/x-python",
   "name": "python",
   "nbconvert_exporter": "python",
   "pygments_lexer": "ipython3",
   "version": "3.7.3"
  }
 },
 "nbformat": 4,
 "nbformat_minor": 2
}
