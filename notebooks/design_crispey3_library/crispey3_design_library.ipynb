{
 "cells": [
  {
   "cell_type": "markdown",
   "metadata": {},
   "source": [
    "# CRISPEY-BAR Oligo Library Design"
   ]
  },
  {
   "cell_type": "markdown",
   "metadata": {},
   "source": [
    "## Import packages and functions"
   ]
  },
  {
   "cell_type": "code",
   "execution_count": 1,
   "metadata": {},
   "outputs": [
    {
     "name": "stdout",
     "output_type": "stream",
     "text": [
      "Current directory: /home/users/rang/crispey3/library_design\n"
     ]
    }
   ],
   "source": [
    "import os, random\n",
    "import pandas as pd\n",
    "\n",
    "crispey_libdesign_code_dir = os.path.expanduser('~/crispey-epistasis/lib_design/')\n",
    "working_dir = os.path.expanduser(\"~/crispey3/library_design/\")\n",
    "\n",
    "os.chdir(crispey_libdesign_code_dir)\n",
    "from extract_guides_functions import extract_guides_for_snps, \\\n",
    "                                     design_donor_for_SNP_guides, \\\n",
    "                                     rank_and_filter_SNP_guides, \\\n",
    "                                     generate_oligo_seq_with_barcode, \\\n",
    "                                     generate_oligo_from_guide_donor_barcode, \\\n",
    "                                     assign_pool_barcode_to_oligos, \\\n",
    "                                     write_output_oligos, \\\n",
    "                                     annotate_variants_by_VEPoutput\n",
    "\n",
    "os.chdir(working_dir)\n",
    "print(\"Current directory: {}\".format(os.getcwd()))"
   ]
  },
  {
   "cell_type": "markdown",
   "metadata": {},
   "source": [
    "## Design parameters"
   ]
  },
  {
   "cell_type": "code",
   "execution_count": 2,
   "metadata": {},
   "outputs": [],
   "source": [
    "lib_name = \"crispey3\"\n",
    "\n",
    "#####################################################\n",
    "# guide design for SNPs\n",
    "#####################################################\n",
    "\n",
    "guide_length = 20\n",
    "edit_max_distance_from_PAM5prime = 9\n",
    "PAM_seq = 'GG' \n",
    "min_ok_Azimuth_score_SNP_guides = 0\n",
    "off_targets_min_mismatch_SNP_guides = 1 # increase this to filter guides that have off-targets with mismatches. 1 only filters out guides with perfect match off-targets\n",
    "\n",
    "# BOWTIE_exe = \"bowtie2\"\n",
    "\n",
    "#####################################################\n",
    "# donor design for SNPs\n",
    "#####################################################\n",
    "agilent_homopolymer_max_len = 10\n",
    "\n",
    "excluded_seqs = ['A' * agilent_homopolymer_max_len, \n",
    "                 'C' * agilent_homopolymer_max_len, \n",
    "                 'G' * agilent_homopolymer_max_len, \n",
    "                 'T' * agilent_homopolymer_max_len,\n",
    "                 'GCATGC', # SphI cut site\n",
    "                 'GGCGCGCC', # AscI cut site\n",
    "                 'GCGGCCGC'] # NotI cut site\n",
    "\n",
    "donor_length = 108\n",
    "min_dist_5prime_arm = 30\n",
    "min_dist_3prime_arm = 55\n",
    "\n",
    "#####################################################\n",
    "# barcode grouping parameters\n",
    "#####################################################\n",
    "barcodes_per_group = 118"
   ]
  },
  {
   "cell_type": "markdown",
   "metadata": {},
   "source": [
    "## Input file names"
   ]
  },
  {
   "cell_type": "code",
   "execution_count": 3,
   "metadata": {},
   "outputs": [],
   "source": [
    "#####################################################\n",
    "# Input files\n",
    "#####################################################\n",
    "input_dir= working_dir + \"Input/\"\n",
    "\n",
    "# input VCF\n",
    "input_snps_vcf_filename = input_dir+'all_variants_design_oligos.vcf'\n",
    "\n",
    "# pool assignments\n",
    "input_vars_pool_assignment_filename = input_dir+'crispey3_vars_pool_assignment.txt'\n",
    "\n",
    "# VEP annotations of VCF (txt format)\n",
    "input_snps_vep_output_filename = input_snps_vcf_filename.replace('.vcf', '_VEPoutput.txt')\n",
    "\n",
    "# oligo design table - contains information about the other segments in the oligo\n",
    "input_oligo_design_table_filename = input_dir+'crispey3_oligo_design_table.txt'\n",
    "\n",
    "# SNP guides donor design table \n",
    "# contains set names and filtering to sort variants/guides for each set. (use filter_in and filter_out columns)\n",
    "input_SNP_donor_design_table_filename = input_dir+'crispey3_design_donor_for_snps.txt'\n",
    "\n",
    "# programmed barcodes list\n",
    "input_barcode_table_filename = input_dir+'12BP_PBCs_well_grouped.csv'\n",
    "\n",
    "# technical guides-donors list\n",
    "input_technical_guides_donors_filename = input_dir+'crispey3_technical_guides_donors.txt'\n",
    "\n",
    "#####################################################\n",
    "# Yeast genome reference files\n",
    "#####################################################\n",
    "ref_files_dir = os.path.expanduser(\"~/yeast/genomes/\")\n",
    "# http://downloads.yeastgenome.org/sequence/S288C_reference/genome_releases/\n",
    "input_genome_fasta_filename = ref_files_dir+'Saccharomyces_cerevisiae.R64-1-1.dna.chromosome.I.fa'\n",
    "\n",
    "# annotations files are from # http://downloads.yeastgenome.org/sequence/S288C_reference/genome_releases/ \n",
    "# version 64_1_1\n",
    "input_gff_filename = ref_files_dir+'saccharomyces_cerevisiae_R64-1-1_20110208.gff'"
   ]
  },
  {
   "cell_type": "markdown",
   "metadata": {},
   "source": [
    "## Output file names\n",
    "\n",
    "These are files names that are used and created during the pipeline.\n",
    "Names may vary between different designs"
   ]
  },
  {
   "cell_type": "code",
   "execution_count": 4,
   "metadata": {},
   "outputs": [],
   "source": [
    "###############################################################################################################\n",
    "# Output files (no need to pass as argument -  depends on the output directory, PAM sequence and max edit distance)\n",
    "###############################################################################################################\n",
    "output_directory = working_dir + \"Output/\"\n",
    "output_files_uniq_str = lib_name + \"_\" + PAM_seq + \"_\" + str(edit_max_distance_from_PAM5prime) + \"bp\"\n",
    "\n",
    "# intermediate files during guide-donor-oligo design process\n",
    "output_SNP_table_filename =    output_directory + \"all_SNPs_\" + output_files_uniq_str + \"_SNP.tab\"\n",
    "output_guides_table_filename = output_directory + \"all_SNPs_\" + output_files_uniq_str + \"_GUIDE.tab\"\n",
    "output_guides_with_features_table_filename = output_directory + \"all_SNPs_\" + output_files_uniq_str + \"_GUIDE_withFeatures.tab\"\n",
    "output_SNP_donor_table_filename = output_directory + \"all_SNPs_\" + output_files_uniq_str + \"_DONOR.tab\"\n",
    "output_guides_with_features_and_rank_table_filename = output_directory + \"all_SNPs_\" + output_files_uniq_str + \"_GUIDE_withFeatures_withRank.tab\"\n",
    "output_oligos_table_filename = output_directory + \"all_SNPs_\" + output_files_uniq_str + \"_OLIGO.tab\"\n",
    "output_oligos_table_with_barcodes_filename = output_directory + \"all_SNPs_\" + output_files_uniq_str + \"_OLIGO_withBarcodes.tab\"\n",
    "output_oligos_table_complete_filename = output_directory + \"all_SNPs_\" + output_files_uniq_str + \"_OLIGO_complete.tab\"\n",
    "\n",
    "# oligos to one table\n",
    "output_oligo_for_production_nonuniq_filename = output_directory + \"oligos_nonuniq_\" + output_files_uniq_str + \"_OLIGO.txt\"\n",
    "output_oligo_for_production_nonuniq_with_align_filename = output_directory + \"oligos_nonuniq_\" + output_files_uniq_str + \"_OLIGO.txt\"\n",
    "\n",
    "output_oligo_for_production_uniq_filename = output_directory + \"oligos_uniq_\" + output_files_uniq_str + \"_OLIGO.txt\"\n",
    "output_oligo_for_production_uniq_batch_prefix_filename = output_directory + \"oligos_uniq_\" + output_files_uniq_str + \"_\"\n",
    "\n",
    "# SNP table with VEP annotations\n",
    "output_SNP_withAnnotations_table_filename = output_directory + \"all_SNPs_\" + lib_name + \"_annotated.txt\""
   ]
  },
  {
   "cell_type": "markdown",
   "metadata": {},
   "source": [
    "# Step 1: Design and extract all guides"
   ]
  },
  {
   "cell_type": "code",
   "execution_count": 5,
   "metadata": {},
   "outputs": [],
   "source": [
    "# setting the random seed\n",
    "random.seed(1)"
   ]
  },
  {
   "cell_type": "code",
   "execution_count": 6,
   "metadata": {},
   "outputs": [
    {
     "name": "stdout",
     "output_type": "stream",
     "text": [
      "---------------------- extracting guides for SNPs -------------------------------\n",
      "Parsing SNP file line: 5000, found guides for: 4999, #total guides: 12538\n",
      "Finish parsing VCF: 8553, found: 8553, #guides: 21406\n",
      "\n",
      "---------------------------- Done extracting guides for SNPs --------------------------\n"
     ]
    }
   ],
   "source": [
    "extract_guides_for_snps(input_snps_vcf_filename, input_genome_fasta_filename, \n",
    "                        output_SNP_table_filename, output_guides_table_filename,\n",
    "                        [PAM_seq], guide_length, edit_max_distance_from_PAM5prime,\n",
    "                        var_id_prefix = \"\")"
   ]
  },
  {
   "cell_type": "markdown",
   "metadata": {},
   "source": [
    "# Step 2: Add guides features using Azimuth\n",
    "Azimuth is written in python 2, therefore the script for extracting guide features should be run in a python 2 environment with Azimuth and Bowtie2.\n",
    "\n",
    "In this environment, run **crispey3_add_guide_features.py**. Adjust the following variables in the script accordingly:\n",
    "- output_guides_table_filename\n",
    "- output_guides_with_features_table_filename\n",
    "- input_genome_fasta_filename (reference genome)\n",
    "- list of genome fasta filenames for off-target search"
   ]
  },
  {
   "cell_type": "markdown",
   "metadata": {},
   "source": [
    "# Step 3: Design donors for guides"
   ]
  },
  {
   "cell_type": "code",
   "execution_count": 7,
   "metadata": {
    "scrolled": true
   },
   "outputs": [
    {
     "name": "stdout",
     "output_type": "stream",
     "text": [
      "Excluded seq: AAAAAAAAAA\n",
      "Excluded seq: CCCCCCCCCC\n",
      "Excluded seq: GGGGGGGGGG\n",
      "Excluded seq: TTTTTTTTTT\n",
      "Excluded seq: GCATGC\n",
      "Excluded seq: GGCGCGCC\n",
      "Excluded seq: GCGGCCGC\n",
      "--------- designing donors according to line: 0  (# guide ids = 3970)----------\n",
      "set_name                                      ergosterol\n",
      "filter_in            VAR:ERG;EGE;EGD;EGC;EGB;EGA;EG9;EG8\n",
      "filter_out                                          None\n",
      "donor_mut_type                                   REF2ALT\n",
      "donor_seq_offsets                                   [14]\n",
      "Name: 0, dtype: object\n",
      "-----------------------------------------------------------\n"
     ]
    },
    {
     "name": "stderr",
     "output_type": "stream",
     "text": [
      "/home/users/rang/crispey-epistasis/lib_design/extract_guides_functions.py:2413: UserWarning: No valid donor for guide id guide_850: donor arm too short (5' arm length: 54 (min req: 30), 3' arm length: 54 (min req: 55)). (left seq: TACACACGCTGAACGATACTGCTTATCAATCTTTTTATAAATAATTTACCAATAA, right seq: GAAAAGGGAAAAAAAAAAAGACAT)\n",
      "  warnings.warn(\"No valid donor for guide id %s: donor arm too short (5' arm length: %d (min req: %d), 3' arm length: %d (min req: %d)). (left seq: %s, right seq: %s)\" % (guide_id, dist_5prime_arm, min_dist_5prime_arm, dist_3prime_arm, min_dist_3prime_arm, left_seq, right_seq) )\n"
     ]
    },
    {
     "name": "stdout",
     "output_type": "stream",
     "text": [
      "Designing donor number: 1000\n",
      "Designing donor number: 2000\n"
     ]
    },
    {
     "name": "stderr",
     "output_type": "stream",
     "text": [
      "/home/users/rang/crispey-epistasis/lib_design/extract_guides_functions.py:2413: UserWarning: No valid donor for guide id guide_2481: donor arm too short (5' arm length: 54 (min req: 30), 3' arm length: 54 (min req: 55)). (left seq: CCAAATGGCCGGCTGCTAGGGCAGCACATAAGGATAATTCACCTGCCAAGAC, right seq: GCACAGGCAACTATTCTTGCTAATTGACGTGCGTTGGTACCAGGAGCGGTAGCAT)\n",
      "  warnings.warn(\"No valid donor for guide id %s: donor arm too short (5' arm length: %d (min req: %d), 3' arm length: %d (min req: %d)). (left seq: %s, right seq: %s)\" % (guide_id, dist_5prime_arm, min_dist_5prime_arm, dist_3prime_arm, min_dist_3prime_arm, left_seq, right_seq) )\n"
     ]
    },
    {
     "name": "stdout",
     "output_type": "stream",
     "text": [
      "Designing donor number: 3000\n",
      "--------- designing donors according to line: 1  (# guide ids = 4959)----------\n",
      "set_name                 gxg\n",
      "filter_in            VAR:GXG\n",
      "filter_out              None\n",
      "donor_mut_type       REF2ALT\n",
      "donor_seq_offsets       [14]\n",
      "Name: 1, dtype: object\n",
      "-----------------------------------------------------------\n",
      "Designing donor number: 4000\n",
      "Designing donor number: 5000\n",
      "Designing donor number: 6000\n"
     ]
    },
    {
     "name": "stderr",
     "output_type": "stream",
     "text": [
      "/home/users/rang/crispey-epistasis/lib_design/extract_guides_functions.py:2413: UserWarning: No valid donor for guide id guide_6331: donor arm too short (5' arm length: 74 (min req: 30), 3' arm length: 34 (min req: 55)). (left seq: AAGCGATTGATAAACAGAGTATACATAGCTACTATGCGACTGAGAGATCAATCGGTTATCGTGAGCACCTA, right seq: CTTTAAGGTTTAACAGATCTGGACGTGATTTTTTT)\n",
      "  warnings.warn(\"No valid donor for guide id %s: donor arm too short (5' arm length: %d (min req: %d), 3' arm length: %d (min req: %d)). (left seq: %s, right seq: %s)\" % (guide_id, dist_5prime_arm, min_dist_5prime_arm, dist_3prime_arm, min_dist_3prime_arm, left_seq, right_seq) )\n"
     ]
    },
    {
     "name": "stdout",
     "output_type": "stream",
     "text": [
      "Designing donor number: 7000\n"
     ]
    },
    {
     "name": "stderr",
     "output_type": "stream",
     "text": [
      "/home/users/rang/crispey-epistasis/lib_design/extract_guides_functions.py:2413: UserWarning: No valid donor for guide id guide_7833: donor arm too short (5' arm length: 67 (min req: 30), 3' arm length: 41 (min req: 55)). (left seq: TGCGTTGTTAGGACAGTTTCTAAGATTCGCTACTGCCGC, right seq: ATGGGCTGGCCTGATCTGTGGCAATCTTACTATGTACCGAAAATGGATTCAGAATCGAAAACTTTCCT)\n",
      "  warnings.warn(\"No valid donor for guide id %s: donor arm too short (5' arm length: %d (min req: %d), 3' arm length: %d (min req: %d)). (left seq: %s, right seq: %s)\" % (guide_id, dist_5prime_arm, min_dist_5prime_arm, dist_3prime_arm, min_dist_3prime_arm, left_seq, right_seq) )\n"
     ]
    },
    {
     "name": "stdout",
     "output_type": "stream",
     "text": [
      "Designing donor number: 8000\n",
      "--------- designing donors according to line: 2  (# guide ids = 698)----------\n",
      "set_name                  epival\n",
      "filter_in            VAR:TDH;VAL\n",
      "filter_out                  None\n",
      "donor_mut_type           REF2ALT\n",
      "donor_seq_offsets           [14]\n",
      "Name: 2, dtype: object\n",
      "-----------------------------------------------------------\n",
      "Designing donor number: 9000\n"
     ]
    },
    {
     "name": "stderr",
     "output_type": "stream",
     "text": [
      "/home/users/rang/crispey-epistasis/lib_design/extract_guides_functions.py:2413: UserWarning: No valid donor for guide id guide_9481: donor arm too short (5' arm length: 54 (min req: 30), 3' arm length: 54 (min req: 55)). (left seq: ATGGGATAGCCTTGGCGAGTTTTCCGTACATTGAAGAATTCGCCACCCTTAGAAA, right seq: GGGCCACCACACCTTGAGCCAAAAATCCCACATTAATAATATTCCATTTTTT)\n",
      "  warnings.warn(\"No valid donor for guide id %s: donor arm too short (5' arm length: %d (min req: %d), 3' arm length: %d (min req: %d)). (left seq: %s, right seq: %s)\" % (guide_id, dist_5prime_arm, min_dist_5prime_arm, dist_3prime_arm, min_dist_3prime_arm, left_seq, right_seq) )\n",
      "/home/users/rang/crispey-epistasis/lib_design/extract_guides_functions.py:2413: UserWarning: No valid donor for guide id guide_9584: donor arm too short (5' arm length: 76 (min req: 30), 3' arm length: 32 (min req: 55)). (left seq: ATCAATCTTGACTAGTAAACTATCTGGTTCTCCAAGCTATGATTCCGATTGGGAAAAAATCCTGAAAGTTGAC, right seq: TATCAAGGGGCAAACTGAAGAATATGTTTGGCAT)\n",
      "  warnings.warn(\"No valid donor for guide id %s: donor arm too short (5' arm length: %d (min req: %d), 3' arm length: %d (min req: %d)). (left seq: %s, right seq: %s)\" % (guide_id, dist_5prime_arm, min_dist_5prime_arm, dist_3prime_arm, min_dist_3prime_arm, left_seq, right_seq) )\n",
      "/home/users/rang/crispey-epistasis/lib_design/extract_guides_functions.py:2413: UserWarning: No valid donor for guide id guide_9585: donor arm too short (5' arm length: 77 (min req: 30), 3' arm length: 31 (min req: 55)). (left seq: ATCAATCTTGACTAGTAAACTATCTGGTTCTCCAAGCTATGATTCCGATTGGGAAAAAATCCTGAAAGTTGAC, right seq: TATCAAGGGGCAAACTGAAGAATATGTTTGGCAT)\n",
      "  warnings.warn(\"No valid donor for guide id %s: donor arm too short (5' arm length: %d (min req: %d), 3' arm length: %d (min req: %d)). (left seq: %s, right seq: %s)\" % (guide_id, dist_5prime_arm, min_dist_5prime_arm, dist_3prime_arm, min_dist_3prime_arm, left_seq, right_seq) )\n",
      "/home/users/rang/crispey-epistasis/lib_design/extract_guides_functions.py:2413: UserWarning: No valid donor for guide id guide_9586: donor arm too short (5' arm length: 78 (min req: 30), 3' arm length: 30 (min req: 55)). (left seq: ATCAATCTTGACTAGTAAACTATCTGGTTCTCCAAGCTATGATTCCGATTGGGAAAAAATCCTGAAAGTTGAC, right seq: TATCAAGGGGCAAACTGAAGAATATGTTTGGCAT)\n",
      "  warnings.warn(\"No valid donor for guide id %s: donor arm too short (5' arm length: %d (min req: %d), 3' arm length: %d (min req: %d)). (left seq: %s, right seq: %s)\" % (guide_id, dist_5prime_arm, min_dist_5prime_arm, dist_3prime_arm, min_dist_3prime_arm, left_seq, right_seq) )\n",
      "/home/users/rang/crispey-epistasis/lib_design/extract_guides_functions.py:2413: UserWarning: No valid donor for guide id guide_9600: donor arm too short (5' arm length: 56 (min req: 30), 3' arm length: 52 (min req: 55)). (left seq: TGCTTTTTTGAAAAGACTAAACATTACAAGTTTTAATCATGTTGGCCCGTTCCAG, right seq: GTGTGCTTGCAGACAATCACTAGACGGTTGGCAGACTTTCCAGAAGCCAATG)\n",
      "  warnings.warn(\"No valid donor for guide id %s: donor arm too short (5' arm length: %d (min req: %d), 3' arm length: %d (min req: %d)). (left seq: %s, right seq: %s)\" % (guide_id, dist_5prime_arm, min_dist_5prime_arm, dist_3prime_arm, min_dist_3prime_arm, left_seq, right_seq) )\n",
      "/home/users/rang/crispey-epistasis/lib_design/extract_guides_functions.py:2413: UserWarning: No valid donor for guide id guide_9601: donor arm too short (5' arm length: 57 (min req: 30), 3' arm length: 51 (min req: 55)). (left seq: TGCTTTTTTGAAAAGACTAAACATTACAAGTTTTAATCATGTTGGCCCGTTCCAG, right seq: GTGTGCTTGCAGACAATCACTAGACGGTTGGCAGACTTTCCAGAAGCCAATG)\n",
      "  warnings.warn(\"No valid donor for guide id %s: donor arm too short (5' arm length: %d (min req: %d), 3' arm length: %d (min req: %d)). (left seq: %s, right seq: %s)\" % (guide_id, dist_5prime_arm, min_dist_5prime_arm, dist_3prime_arm, min_dist_3prime_arm, left_seq, right_seq) )\n"
     ]
    },
    {
     "name": "stdout",
     "output_type": "stream",
     "text": [
      "--------- designing donors according to line: 3  (# guide ids = 10998)----------\n",
      "set_name                 gxe\n",
      "filter_in            VAR:GXE\n",
      "filter_out              None\n",
      "donor_mut_type       REF2ALT\n",
      "donor_seq_offsets       [14]\n",
      "Name: 3, dtype: object\n",
      "-----------------------------------------------------------\n"
     ]
    },
    {
     "name": "stderr",
     "output_type": "stream",
     "text": [
      "/home/users/rang/crispey-epistasis/lib_design/extract_guides_functions.py:2413: UserWarning: No valid donor for guide id guide_9655: donor arm too short (5' arm length: 61 (min req: 30), 3' arm length: 47 (min req: 55)). (left seq: AAAAAAAAATAAAAAGGGAAAAGTTTAAACATCAAAGTACACCTTTCACC, right seq: CTCCACACACCATGGAACAACCTGATCTATCGTCTGTGGCCATCAGTAAGCCGCTGC)\n",
      "  warnings.warn(\"No valid donor for guide id %s: donor arm too short (5' arm length: %d (min req: %d), 3' arm length: %d (min req: %d)). (left seq: %s, right seq: %s)\" % (guide_id, dist_5prime_arm, min_dist_5prime_arm, dist_3prime_arm, min_dist_3prime_arm, left_seq, right_seq) )\n",
      "/home/users/rang/crispey-epistasis/lib_design/extract_guides_functions.py:2413: UserWarning: No valid donor for guide id guide_9659: donor arm too short (5' arm length: 54 (min req: 30), 3' arm length: 54 (min req: 55)). (left seq: AAAAAAAAATAAAAAGGGAAAAGTTTAAACATCAAAGTACACCTTTCACCCCT, right seq: CACACACCATGGAACAACCTGATCTATCGTCTGTGGCCATCAGTAAGCCGCT)\n",
      "  warnings.warn(\"No valid donor for guide id %s: donor arm too short (5' arm length: %d (min req: %d), 3' arm length: %d (min req: %d)). (left seq: %s, right seq: %s)\" % (guide_id, dist_5prime_arm, min_dist_5prime_arm, dist_3prime_arm, min_dist_3prime_arm, left_seq, right_seq) )\n",
      "/home/users/rang/crispey-epistasis/lib_design/extract_guides_functions.py:2413: UserWarning: No valid donor for guide id guide_9664: donor arm too short (5' arm length: 54 (min req: 30), 3' arm length: 54 (min req: 55)). (left seq: AAAAAAAAATAAAAAGGGAAAAGTTTAAACATCAAAGTACACCTTTCACCCCTC, right seq: ACACACCATGGAACAACCTGATCTATCGTCTGTGGCCATCAGTAAGCCGCTGC)\n",
      "  warnings.warn(\"No valid donor for guide id %s: donor arm too short (5' arm length: %d (min req: %d), 3' arm length: %d (min req: %d)). (left seq: %s, right seq: %s)\" % (guide_id, dist_5prime_arm, min_dist_5prime_arm, dist_3prime_arm, min_dist_3prime_arm, left_seq, right_seq) )\n",
      "/home/users/rang/crispey-epistasis/lib_design/extract_guides_functions.py:2413: UserWarning: No valid donor for guide id guide_9669: donor arm too short (5' arm length: 54 (min req: 30), 3' arm length: 54 (min req: 55)). (left seq: AAAAAAAAATAAAAAGGGAAAAGTTTAAACATCAAAGTACACCTTTCACCCCTCCA, right seq: ACACCATGGAACAACCTGATCTATCGTCTGTGGCCATCAGTAAGCCGCTGC)\n",
      "  warnings.warn(\"No valid donor for guide id %s: donor arm too short (5' arm length: %d (min req: %d), 3' arm length: %d (min req: %d)). (left seq: %s, right seq: %s)\" % (guide_id, dist_5prime_arm, min_dist_5prime_arm, dist_3prime_arm, min_dist_3prime_arm, left_seq, right_seq) )\n",
      "/home/users/rang/crispey-epistasis/lib_design/extract_guides_functions.py:2413: UserWarning: No valid donor for guide id guide_9674: donor arm too short (5' arm length: 54 (min req: 30), 3' arm length: 54 (min req: 55)). (left seq: AAAAAAAAATAAAAAGGGAAAAGTTTAAACATCAAAGTACACCTTTCACCCCTCCACAC, right seq: CCATGGAACAACCTGATCTATCGTCTGTGGCCATCAGTAAGCCGCTGC)\n",
      "  warnings.warn(\"No valid donor for guide id %s: donor arm too short (5' arm length: %d (min req: %d), 3' arm length: %d (min req: %d)). (left seq: %s, right seq: %s)\" % (guide_id, dist_5prime_arm, min_dist_5prime_arm, dist_3prime_arm, min_dist_3prime_arm, left_seq, right_seq) )\n"
     ]
    },
    {
     "name": "stdout",
     "output_type": "stream",
     "text": [
      "Designing donor number: 10000\n",
      "Designing donor number: 11000\n",
      "Designing donor number: 12000\n"
     ]
    },
    {
     "name": "stderr",
     "output_type": "stream",
     "text": [
      "/home/users/rang/crispey-epistasis/lib_design/extract_guides_functions.py:2413: UserWarning: No valid donor for guide id guide_12137: donor arm too short (5' arm length: 58 (min req: 30), 3' arm length: 50 (min req: 55)). (left seq: GAAGCCGAGAAGGCGCGATTTCATGCACTATACACTCGTTGGCAAACACAACAATGGAC, right seq: CTGGCCAGTTGAACTGTGGTCCCTGTTGCGTCCACTATTGATATGCAT)\n",
      "  warnings.warn(\"No valid donor for guide id %s: donor arm too short (5' arm length: %d (min req: %d), 3' arm length: %d (min req: %d)). (left seq: %s, right seq: %s)\" % (guide_id, dist_5prime_arm, min_dist_5prime_arm, dist_3prime_arm, min_dist_3prime_arm, left_seq, right_seq) )\n",
      "/home/users/rang/crispey-epistasis/lib_design/extract_guides_functions.py:2413: UserWarning: No valid donor for guide id guide_12143: donor arm too short (5' arm length: 73 (min req: 30), 3' arm length: 35 (min req: 55)). (left seq: GAAGCCGAGAAGGCGCGATTTCATGCACTATACACTCGTTGGCAAACACAACAATGGACCCTGGCCAGTT, right seq: AACTGTGGTCCCTGTTGCGTCCACTATTGATATGCAT)\n",
      "  warnings.warn(\"No valid donor for guide id %s: donor arm too short (5' arm length: %d (min req: %d), 3' arm length: %d (min req: %d)). (left seq: %s, right seq: %s)\" % (guide_id, dist_5prime_arm, min_dist_5prime_arm, dist_3prime_arm, min_dist_3prime_arm, left_seq, right_seq) )\n",
      "/home/users/rang/crispey-epistasis/lib_design/extract_guides_functions.py:2413: UserWarning: No valid donor for guide id guide_12150: donor arm too short (5' arm length: 61 (min req: 30), 3' arm length: 47 (min req: 55)). (left seq: TGCATGTGGACGCAAGCACACGCCTGCATAAACGTTTAATTCCTCAGTATC, right seq: CACTCCCAGGGCTACTTATTCGAGGCATTTTCTATTTTTGTTACTACTAGAGCCAG)\n",
      "  warnings.warn(\"No valid donor for guide id %s: donor arm too short (5' arm length: %d (min req: %d), 3' arm length: %d (min req: %d)). (left seq: %s, right seq: %s)\" % (guide_id, dist_5prime_arm, min_dist_5prime_arm, dist_3prime_arm, min_dist_3prime_arm, left_seq, right_seq) )\n",
      "/home/users/rang/crispey-epistasis/lib_design/extract_guides_functions.py:2413: UserWarning: No valid donor for guide id guide_12154: donor arm too short (5' arm length: 61 (min req: 30), 3' arm length: 47 (min req: 55)). (left seq: TGCATGTGGACGCAAGCACACGCCTGCATAAACGTTTAATTCCTCAGTATCC, right seq: ACTCCCAGGGCTACTTATTCGAGGCATTTTCTATTTTTGTTACTACTAGAGCCAG)\n",
      "  warnings.warn(\"No valid donor for guide id %s: donor arm too short (5' arm length: %d (min req: %d), 3' arm length: %d (min req: %d)). (left seq: %s, right seq: %s)\" % (guide_id, dist_5prime_arm, min_dist_5prime_arm, dist_3prime_arm, min_dist_3prime_arm, left_seq, right_seq) )\n",
      "/home/users/rang/crispey-epistasis/lib_design/extract_guides_functions.py:2413: UserWarning: No valid donor for guide id guide_12412: donor arm too short (5' arm length: 54 (min req: 30), 3' arm length: 54 (min req: 55)). (left seq: GGCCTGGTTGTCAACTATTTTATAACACTAGTTACATATGTATAAAAC, right seq: CAATATCATGGACATAGAATTGCCTATCTCGCGAGCCACGGCAGAAAGTTCTGAAAAAA)\n",
      "  warnings.warn(\"No valid donor for guide id %s: donor arm too short (5' arm length: %d (min req: %d), 3' arm length: %d (min req: %d)). (left seq: %s, right seq: %s)\" % (guide_id, dist_5prime_arm, min_dist_5prime_arm, dist_3prime_arm, min_dist_3prime_arm, left_seq, right_seq) )\n",
      "/home/users/rang/crispey-epistasis/lib_design/extract_guides_functions.py:2413: UserWarning: No valid donor for guide id guide_12415: donor arm too short (5' arm length: 54 (min req: 30), 3' arm length: 54 (min req: 55)). (left seq: GGCCTGGTTGTCAACTATTTTATAACACTAGTTACATATGTATAAAACCCAATATCAT, right seq: GACATAGAATTGCCTATCTCGCGAGCCACGGCAGAAAGTTCTGAAAAAA)\n",
      "  warnings.warn(\"No valid donor for guide id %s: donor arm too short (5' arm length: %d (min req: %d), 3' arm length: %d (min req: %d)). (left seq: %s, right seq: %s)\" % (guide_id, dist_5prime_arm, min_dist_5prime_arm, dist_3prime_arm, min_dist_3prime_arm, left_seq, right_seq) )\n"
     ]
    },
    {
     "name": "stdout",
     "output_type": "stream",
     "text": [
      "Designing donor number: 13000\n",
      "Designing donor number: 14000\n"
     ]
    },
    {
     "name": "stderr",
     "output_type": "stream",
     "text": [
      "/home/users/rang/crispey-epistasis/lib_design/extract_guides_functions.py:2413: UserWarning: No valid donor for guide id guide_14260: donor arm too short (5' arm length: 65 (min req: 30), 3' arm length: 43 (min req: 55)). (left seq: TTTTTGCGAAGCTAGTGGTTCGGCCTGTGTTATTGGT, right seq: CAGGTTTAAGGTCGCGCCAACAATGATAATAGCAATTAGTAATCAGCTCAACCTCAAGTAGAATACTACA)\n",
      "  warnings.warn(\"No valid donor for guide id %s: donor arm too short (5' arm length: %d (min req: %d), 3' arm length: %d (min req: %d)). (left seq: %s, right seq: %s)\" % (guide_id, dist_5prime_arm, min_dist_5prime_arm, dist_3prime_arm, min_dist_3prime_arm, left_seq, right_seq) )\n"
     ]
    },
    {
     "name": "stdout",
     "output_type": "stream",
     "text": [
      "Designing donor number: 15000\n"
     ]
    },
    {
     "name": "stderr",
     "output_type": "stream",
     "text": [
      "/home/users/rang/crispey-epistasis/lib_design/extract_guides_functions.py:2413: UserWarning: No valid donor for guide id guide_15584: donor arm too short (5' arm length: 58 (min req: 30), 3' arm length: 50 (min req: 55)). (left seq: ATTTATATTCCTTGTACTTCATAGTAGATTTGTAAATATCATCATATTTATCCCT, right seq: AGATAAGGTGCTTTCAAGCTGAGTAATTCTCGAAATACCAACAGAGTAGCAT)\n",
      "  warnings.warn(\"No valid donor for guide id %s: donor arm too short (5' arm length: %d (min req: %d), 3' arm length: %d (min req: %d)). (left seq: %s, right seq: %s)\" % (guide_id, dist_5prime_arm, min_dist_5prime_arm, dist_3prime_arm, min_dist_3prime_arm, left_seq, right_seq) )\n",
      "/home/users/rang/crispey-epistasis/lib_design/extract_guides_functions.py:2413: UserWarning: No valid donor for guide id guide_15997: donor arm too short (5' arm length: 59 (min req: 30), 3' arm length: 49 (min req: 55)). (left seq: TGCTCTTAATACTGGTTCACAGCTAGTAAATTTCAATCTCGTTCCATC, right seq: TCATCCTGGGGGTTTTCTTGGATTGCACTGTCTTTTGTTTGCTTACCACTGAACAGCGA)\n",
      "  warnings.warn(\"No valid donor for guide id %s: donor arm too short (5' arm length: %d (min req: %d), 3' arm length: %d (min req: %d)). (left seq: %s, right seq: %s)\" % (guide_id, dist_5prime_arm, min_dist_5prime_arm, dist_3prime_arm, min_dist_3prime_arm, left_seq, right_seq) )\n"
     ]
    },
    {
     "name": "stdout",
     "output_type": "stream",
     "text": [
      "Designing donor number: 16000\n",
      "Designing donor number: 17000\n"
     ]
    },
    {
     "name": "stderr",
     "output_type": "stream",
     "text": [
      "/home/users/rang/crispey-epistasis/lib_design/extract_guides_functions.py:2413: UserWarning: No valid donor for guide id guide_17202: donor arm too short (5' arm length: 72 (min req: 30), 3' arm length: 36 (min req: 55)). (left seq: TTGTATTTAATAAATATTTCGGCGTGTGCTTTGTGGGTGCCACCTGTCTTGTATTTCCTATCCAACT, right seq: AATATTCTGGATATTGTCTTGTGCAATAGACCGGAAAAAA)\n",
      "  warnings.warn(\"No valid donor for guide id %s: donor arm too short (5' arm length: %d (min req: %d), 3' arm length: %d (min req: %d)). (left seq: %s, right seq: %s)\" % (guide_id, dist_5prime_arm, min_dist_5prime_arm, dist_3prime_arm, min_dist_3prime_arm, left_seq, right_seq) )\n"
     ]
    },
    {
     "name": "stdout",
     "output_type": "stream",
     "text": [
      "Designing donor number: 18000\n",
      "Designing donor number: 19000\n",
      "Designing donor number: 20000\n",
      "--------- designing donors according to line: 4  (# guide ids = 781)----------\n",
      "set_name                   hsp90\n",
      "filter_in            VAR:HSP;HSX\n",
      "filter_out                  None\n",
      "donor_mut_type           REF2ALT\n",
      "donor_seq_offsets           [14]\n",
      "Name: 4, dtype: object\n",
      "-----------------------------------------------------------\n",
      "Designing donor number: 21000\n",
      "saving donor sequences to: /home/users/rang/crispey3/library_design/Output/all_SNPs_crispey3_GG_9bp_DONOR.tab\n"
     ]
    }
   ],
   "source": [
    "###############################################################################################################\n",
    "# design donor sequence for each guide (set names specified in donor_design_table) \n",
    "###############################################################################################################\n",
    "out_SNP_donor_df = design_donor_for_SNP_guides(\n",
    "    input_SNP_donor_design_table_filename, \n",
    "    output_SNP_table_filename, \n",
    "    output_guides_with_features_table_filename,\n",
    "    input_genome_fasta_filename,\n",
    "    donor_length, excluded_seqs, min_dist_5prime_arm, min_dist_3prime_arm,\n",
    "    output_SNP_donor_table_filename)"
   ]
  },
  {
   "cell_type": "markdown",
   "metadata": {},
   "source": [
    "# Step 4: Filter and rank guides"
   ]
  },
  {
   "cell_type": "code",
   "execution_count": 8,
   "metadata": {},
   "outputs": [
    {
     "name": "stdout",
     "output_type": "stream",
     "text": [
      "Saving : /home/users/rang/crispey3/library_design/Output/all_SNPs_crispey3_GG_9bp_GUIDE_withFeatures_withRank.tab\n"
     ]
    }
   ],
   "source": [
    "###############################################################################################################\n",
    "# add filter and ranking to the SNP guides (depends on having a SNP and a donor tables) \n",
    "###############################################################################################################\n",
    "out_SNP_guides_withFandR_df = rank_and_filter_SNP_guides(\n",
    "        input_guides_with_features_table_filename = output_guides_with_features_table_filename,\n",
    "        input_SNP_table_filename = output_SNP_table_filename,\n",
    "        input_donor_table_filename = output_SNP_donor_table_filename,\n",
    "        output_guides_with_features_and_rank_table_filename = output_guides_with_features_and_rank_table_filename,\n",
    "        off_targets_min_mismatch_SNP_guides = off_targets_min_mismatch_SNP_guides, \n",
    "        min_ok_Azimuth_score_SNP_guides = min_ok_Azimuth_score_SNP_guides, \n",
    "        edit_max_distance_from_PAM5prime = edit_max_distance_from_PAM5prime)"
   ]
  },
  {
   "cell_type": "markdown",
   "metadata": {},
   "source": [
    "# Step 5a: Write guides and donors into oligos\n",
    "Assemble guide and donor into oligos according to oligo_design_table. Write N's into barcode segment of the oligos for now. The barcode sequence and pool number will be assigned in the next step"
   ]
  },
  {
   "cell_type": "code",
   "execution_count": 9,
   "metadata": {
    "scrolled": true
   },
   "outputs": [
    {
     "name": "stdout",
     "output_type": "stream",
     "text": [
      "Before filtering there are 21406 guides and 21381 donors\n",
      "After filtering there are 21406 guides and 21381 donors\n",
      "shared columns\n",
      "['var_id', 'guide_id']\n",
      "joining the guides and the donors by shared columns (guide_id) creates 21381 oligos\n",
      "No barcodes provided. Skipping barcode assignment.\n",
      "parsing oligo 0 out of 21381\n",
      "parsing oligo 1000 out of 21381"
     ]
    },
    {
     "name": "stderr",
     "output_type": "stream",
     "text": [
      "/home/users/rang/crispey-epistasis/lib_design/extract_guides_functions.py:3564: FutureWarning: set_value is deprecated and will be removed in a future release. Please use .at[] or .iat[] accessors instead\n",
      "  oligo_design_df) )\n",
      "/home/users/rang/crispey-epistasis/lib_design/extract_guides_functions.py:3570: FutureWarning: set_value is deprecated and will be removed in a future release. Please use .at[] or .iat[] accessors instead\n",
      "  row['barcode_id'] + \"#\")# + \\\n"
     ]
    },
    {
     "name": "stdout",
     "output_type": "stream",
     "text": [
      "\n",
      "parsing oligo 2000 out of 21381\n",
      "parsing oligo 3000 out of 21381\n",
      "parsing oligo 4000 out of 21381\n",
      "parsing oligo 5000 out of 21381\n",
      "parsing oligo 6000 out of 21381\n",
      "parsing oligo 7000 out of 21381\n",
      "parsing oligo 8000 out of 21381\n",
      "parsing oligo 9000 out of 21381\n",
      "parsing oligo 10000 out of 21381\n",
      "parsing oligo 11000 out of 21381\n",
      "parsing oligo 12000 out of 21381\n",
      "parsing oligo 13000 out of 21381\n",
      "parsing oligo 14000 out of 21381\n",
      "parsing oligo 15000 out of 21381\n",
      "parsing oligo 16000 out of 21381\n",
      "parsing oligo 17000 out of 21381\n",
      "parsing oligo 18000 out of 21381\n",
      "parsing oligo 19000 out of 21381\n",
      "parsing oligo 20000 out of 21381\n",
      "parsing oligo 21000 out of 21381\n",
      "Saving : /home/users/rang/crispey3/library_design/Output/all_SNPs_crispey3_GG_9bp_OLIGO.tab\n"
     ]
    }
   ],
   "source": [
    "oligo_all_df = generate_oligo_from_guide_donor_barcode(\n",
    "    input_oligo_design_table_filename = input_oligo_design_table_filename,\n",
    "    input_guide_table_filename = output_guides_with_features_and_rank_table_filename, \n",
    "    input_donor_table_filename = output_SNP_donor_table_filename,\n",
    "    input_barcode_table_filename = None, # use None to fill N's in barcode segment\n",
    "    input_guide_iloc = None, # option to filter out guides\n",
    "    input_donor_iloc = None, # option to filter out donors\n",
    "    group_size = barcodes_per_group,                   \n",
    "    output_oligos_table_filename = output_oligos_table_filename)"
   ]
  },
  {
   "cell_type": "markdown",
   "metadata": {},
   "source": [
    "# Step 5b: Add humanized yeast oligo set to oligo table\n",
    "Oligos were generated using separate script (see design_library_humanized_yeast Jupyter notebook)"
   ]
  },
  {
   "cell_type": "code",
   "execution_count": 10,
   "metadata": {},
   "outputs": [],
   "source": [
    "humanized_oligos_file = os.path.expanduser(\"~/crispey3/humanized/Output/all_SNPs_humanized_combined_GG_9bp_OLIGO.tab\")\n",
    "\n",
    "oligo_all_df = pd.concat([pd.read_csv(output_oligos_table_filename, sep='\\t'),\n",
    "                          pd.read_csv(humanized_oligos_file, sep='\\t')]).reset_index(drop=True)\n",
    "\n",
    "oligo_all_df.to_csv(output_oligos_table_filename, sep='\\t', index = False)"
   ]
  },
  {
   "cell_type": "markdown",
   "metadata": {},
   "source": [
    "# Step 5c: Assign pool number and barcode sequence to each oligo"
   ]
  },
  {
   "cell_type": "code",
   "execution_count": 11,
   "metadata": {
    "scrolled": true
   },
   "outputs": [
    {
     "name": "stdout",
     "output_type": "stream",
     "text": [
      "Saving : /home/users/rang/crispey3/library_design/Output/all_SNPs_crispey3_GG_9bp_OLIGO_withBarcodes.tab\n"
     ]
    }
   ],
   "source": [
    "###############################################################################################################\n",
    "# update oligo sequences file with barcodes and pool number\n",
    "###############################################################################################################\n",
    "oligo_all_df = assign_pool_barcode_to_oligos(\n",
    "    input_oligo_design_table_filename = input_oligo_design_table_filename,\n",
    "    input_oligo_table_filename = output_oligos_table_filename,\n",
    "    input_pool_assignment_filename = input_vars_pool_assignment_filename,\n",
    "    input_barcode_table_filename = input_barcode_table_filename,\n",
    "    output_oligos_with_barcodes_filename = output_oligos_table_with_barcodes_filename,\n",
    "    max_pool_size=118)"
   ]
  },
  {
   "cell_type": "markdown",
   "metadata": {},
   "source": [
    "# Step 6: Assign technical oligos to pools\n",
    "Technical oligos (neutral/editing controls) will be assigned barcodes and added to each pool to fill them to the maximum size of 121. These technical oligos are drawn from the last two pools of the CRISPEY3 library, which comprises of:\n",
    "- Pool 191: Editing controls\n",
    "    - editing control (KO donor + targeting guide for 42 known effects) - \"hdr\"\n",
    "    - Synonymous control (syn donor + targeting guide) - \"synonymous\"\n",
    "    - NHEJ control (scramble donor + targeting guide) - \"scramble\"\n",
    "- Pool 192: Neutral controls\n",
    "    - Non-cutting guide control (KO donor + GFP guide) - \"noncut\"\n",
    "    - Neutral oligos (scramble donor + scramble guide) - \"neutral\"\n",
    "    - Neutral oligos (legacy versions, CRISPEY1) - \"neutral (legacy)\"\n"
   ]
  },
  {
   "cell_type": "code",
   "execution_count": 12,
   "metadata": {},
   "outputs": [],
   "source": [
    "# complete table of technical guides-donors\n",
    "technical_df = pd.read_csv(input_technical_guides_donors_filename, sep='\\t')\n",
    "neutral_controls = technical_df.query('donor_info_str==\"neutral\"').sample(frac=1, random_state=1).reset_index(drop=True).copy()\n",
    "editing_controls = technical_df.query('donor_info_str==\"hdr\"').sample(frac=1, random_state=1).reset_index(drop=True).copy()\n",
    "\n",
    "# read in barcodes list\n",
    "barcodes_df = pd.read_csv(input_barcode_table_filename)\n",
    "barcodes_df = barcodes_df.rename(columns={'Well':'pool','Barcode':'barcode_seq','Unique_ID':'barcode_id'})\n",
    "\n",
    "# read oligo design table\n",
    "oligo_design_df = pd.read_csv(input_oligo_design_table_filename, sep='\\t', na_values = \"None\")\n",
    "oligo_design_df['DNA_seq'] = oligo_design_df['DNA_seq'].str.upper()\n",
    "\n",
    "\n",
    "# assign technical oligos to fill each pool\n",
    "n_counter=0\n",
    "e_counter=0\n",
    "technical_oligos_added = []\n",
    "for pool_num, pool_df in oligo_all_df.groupby('pool'):\n",
    "    num_neutral_to_add = (121 - len(pool_df)) // 2\n",
    "    num_editing_to_add = 121 - len(pool_df) - num_neutral_to_add\n",
    "    \n",
    "    # select technical guide-donors for pool\n",
    "    tech_to_add = pd.concat([neutral_controls.loc[ [(n_counter+i)%len(neutral_controls) for i in range(num_neutral_to_add)], :],\n",
    "                             editing_controls.loc[ [(e_counter+i)%len(editing_controls) for i in range(num_editing_to_add)], :]]).reset_index(drop=True)\n",
    "    # assign pool barcodes\n",
    "    tech_to_add = pd.concat([tech_to_add, \n",
    "                             barcodes_df.query('pool==@pool_num & ~barcode_id.isin(@pool_df.barcode_id)').reset_index(drop=True)], axis=1)\n",
    "    # generate oligo_seq\n",
    "    tech_to_add['oligo_seq'] = tech_to_add.apply(lambda x: generate_oligo_seq_with_barcode(x['guide_noPAM'], x['donor_seq'], x['barcode_seq'], oligo_design_df), axis=1)\n",
    "    # add newly assigned technical oligos\n",
    "    technical_oligos_added.append(tech_to_add)\n",
    "    \n",
    "    n_counter += num_neutral_to_add\n",
    "    e_counter += num_editing_to_add\n",
    "\n",
    "# join with rest of library\n",
    "oligo_all_df = oligo_all_df.merge(pd.concat(technical_oligos_added), how='outer').fillna({'chrom':'None', \n",
    "                                                                                          'SNP_chr_pos':-4, \n",
    "                                                                                          'guide0_chr_pos':-1, \n",
    "                                                                                          'guide_cut_chr_pos':-4, \n",
    "                                                                                          'SNP_pos_in_guide':0, \n",
    "                                                                                          'donor_seq_shift':0,\n",
    "                                                                                          'donor_mut_pos_in_guide':0})"
   ]
  },
  {
   "cell_type": "code",
   "execution_count": 13,
   "metadata": {},
   "outputs": [],
   "source": [
    "# define pool 191 and 192\n",
    "pool_191 = technical_df.query('donor_info_str.isin([\"hdr\",\"synonymous\",\"scramble\"])').sort_values(['donor_info_str', 'oligo_id']).head(121).reset_index(drop=True)\n",
    "pool_192 = technical_df.query('~guide_id.isin(@pool_191.guide_id)').reset_index(drop=True)\n",
    "\n",
    "# assign pool barcodes\n",
    "pool_191 = pd.concat([pool_191, barcodes_df.query('pool==191').reset_index(drop=True)], axis=1)\n",
    "pool_192 = pd.concat([pool_192, barcodes_df.query('pool==192').reset_index(drop=True)], axis=1)\n",
    "# generate oligo_seq\n",
    "pool_191['oligo_seq'] = pool_191.apply(lambda x: generate_oligo_seq_with_barcode(x['guide_noPAM'], x['donor_seq'], x['barcode_seq'], oligo_design_df), axis=1)\n",
    "pool_192['oligo_seq'] = pool_192.apply(lambda x: generate_oligo_seq_with_barcode(x['guide_noPAM'], x['donor_seq'], x['barcode_seq'], oligo_design_df), axis=1)\n",
    "\n",
    "# join with rest of library\n",
    "oligo_all_df = oligo_all_df.merge(pd.concat([pool_191, pool_192]), how='outer').fillna({'chrom':'None', \n",
    "                                                                                        'SNP_chr_pos':-4, \n",
    "                                                                                        'guide0_chr_pos':-1, \n",
    "                                                                                        'guide_cut_chr_pos':-4, \n",
    "                                                                                        'SNP_pos_in_guide':0, \n",
    "                                                                                        'donor_seq_shift':0,\n",
    "                                                                                        'donor_mut_pos_in_guide':0})\n",
    "# adjust dtypes\n",
    "oligo_all_df[['SNP_chr_pos','guide0_chr_pos',\n",
    "              'guide_cut_chr_pos', 'SNP_pos_in_guide',\n",
    "              'donor_seq_shift','donor_mut_pos_in_guide']] = oligo_all_df[['SNP_chr_pos','guide0_chr_pos',\n",
    "                                                                           'guide_cut_chr_pos', 'SNP_pos_in_guide',\n",
    "                                                                           'donor_seq_shift','donor_mut_pos_in_guide']].astype(int)\n",
    "\n",
    "# write completed oligo table to file\n",
    "oligo_all_df.to_csv(output_oligos_table_complete_filename, sep='\\t', index = False)"
   ]
  },
  {
   "cell_type": "markdown",
   "metadata": {},
   "source": [
    "# Step 7: Write completed library to submission file\n",
    "Oligos formatted for matrixed oligonucleotide synthesis submission form. Entries are sorted by pool number, followed by barcode ID. Oligo names contain set name, pool number and barcode number"
   ]
  },
  {
   "cell_type": "code",
   "execution_count": 14,
   "metadata": {},
   "outputs": [
    {
     "name": "stderr",
     "output_type": "stream",
     "text": [
      "/home/groups/hbfraser/modules/packages/conda/4.6.14/envs/crispey-bar/lib/python3.7/site-packages/IPython/core/interactiveshell.py:3049: DtypeWarning: Columns (24,25,26,27,28,29,37) have mixed types. Specify dtype option on import or set low_memory=False.\n",
      "  interactivity=interactivity, compiler=compiler, result=result)\n"
     ]
    },
    {
     "name": "stdout",
     "output_type": "stream",
     "text": [
      "set sizes:\n",
      "DHFR             70\n",
      "DPAGT1          118\n",
      "NSDHL           118\n",
      "PGK1            118\n",
      "PKLR            118\n",
      "UROS            118\n",
      "epival          692\n",
      "ergosterol     3968\n",
      "gxe           10983\n",
      "gxg            4957\n",
      "hsp90           781\n",
      "technical      1191\n",
      "Name: set_name, dtype: int64\n",
      "total # oligos:\n",
      "23232\n",
      "distribution of pool sizes\n",
      "121    192\n",
      "dtype: int64\n",
      "Saving : /home/users/rang/crispey3/library_design/Output/oligos_nonuniq_crispey3_GG_9bp_OLIGO.txt\n",
      "--- non uniq set counts:\n",
      "gxe           10983\n",
      "gxg            4957\n",
      "ergosterol     3968\n",
      "technical      1191\n",
      "hsp90           781\n",
      "epival          692\n",
      "PKLR            118\n",
      "PGK1            118\n",
      "DPAGT1          118\n",
      "UROS            118\n",
      "NSDHL           118\n",
      "DHFR             70\n",
      "Name: set_name, dtype: int64\n",
      "--- uniq set counts:\n",
      "gxe           10983\n",
      "gxg            4957\n",
      "ergosterol     3968\n",
      "technical      1191\n",
      "hsp90           781\n",
      "epival          692\n",
      "PKLR            118\n",
      "PGK1            118\n",
      "DPAGT1          118\n",
      "UROS            118\n",
      "NSDHL           118\n",
      "DHFR             70\n",
      "Name: set_name, dtype: int64\n",
      "Saving : /home/users/rang/crispey3/library_design/Output/oligos_uniq_crispey3_GG_9bp_OLIGO.txt\n",
      "--------------- Finished designing the library! -------------------\n"
     ]
    }
   ],
   "source": [
    "# check inspect library\n",
    "oligo_all_df = pd.read_csv(output_oligos_table_complete_filename, sep='\\t')\n",
    "set_sizes_df = oligo_all_df['set_name'].value_counts().sort_index()\n",
    "print(\"set sizes:\")\n",
    "print(set_sizes_df)\n",
    "print(\"total # oligos:\")\n",
    "print(oligo_all_df.shape[0])\n",
    "print(\"distribution of pool sizes\")\n",
    "print(oligo_all_df.groupby('pool').size().value_counts())\n",
    "\n",
    "oligo_for_order_dfs = write_output_oligos(oligo_all_df, \n",
    "                    output_oligo_for_production_nonuniq_filename = output_oligo_for_production_nonuniq_filename,\n",
    "                    output_oligo_for_production_uniq_filename = output_oligo_for_production_uniq_filename,\n",
    "                    output_oligo_for_production_uniq_batch_prefix_filename = output_oligo_for_production_uniq_batch_prefix_filename)\n",
    "\n",
    "print(\"--------------- Finished designing the library! -------------------\")"
   ]
  }
 ],
 "metadata": {
  "kernelspec": {
   "display_name": "Python (crispey-bar)",
   "language": "python",
   "name": "crispey-bar"
  },
  "language_info": {
   "codemirror_mode": {
    "name": "ipython",
    "version": 3
   },
   "file_extension": ".py",
   "mimetype": "text/x-python",
   "name": "python",
   "nbconvert_exporter": "python",
   "pygments_lexer": "ipython3",
   "version": "3.7.3"
  }
 },
 "nbformat": 4,
 "nbformat_minor": 2
}
